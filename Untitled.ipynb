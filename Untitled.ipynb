{
 "cells": [
  {
   "cell_type": "code",
   "execution_count": 97,
   "id": "7b69c76a",
   "metadata": {},
   "outputs": [],
   "source": [
    "import numpy as np\n",
    "import pandas as pd\n",
    "import plotly.express as px\n",
    "import plotly.graph_objects as go\n",
    "import networkx as nx"
   ]
  },
  {
   "cell_type": "code",
   "execution_count": 94,
   "id": "54a03f27",
   "metadata": {},
   "outputs": [],
   "source": [
    "import itertools"
   ]
  },
  {
   "cell_type": "code",
   "execution_count": 2,
   "id": "107d1951",
   "metadata": {},
   "outputs": [],
   "source": [
    "file = open(\"berlin52.tsp\", 'r+')\n",
    "data = file.read()\n",
    "data = data.split('\\n')[6:-3]\n",
    "data = np.array([i.strip().split(' ') for i in data], np.float32)[:,1:]"
   ]
  },
  {
   "cell_type": "code",
   "execution_count": 148,
   "id": "5669602a",
   "metadata": {},
   "outputs": [],
   "source": [
    "data = data[:10]"
   ]
  },
  {
   "cell_type": "code",
   "execution_count": 149,
   "id": "a5a020c8",
   "metadata": {},
   "outputs": [],
   "source": [
    "aux = []\n",
    "for i in range(data.shape[0]):\n",
    "    for j in range(i+1, data.shape[0]):\n",
    "        aux.append([data[i], data[j], np.random.random()])"
   ]
  },
  {
   "cell_type": "code",
   "execution_count": 170,
   "id": "2ce4cd92",
   "metadata": {},
   "outputs": [
    {
     "ename": "ValueError",
     "evalue": "The first argument to the plotly.graph_objs.Frame \nconstructor must be a dict or \nan instance of :class:`plotly.graph_objs.Frame`",
     "output_type": "error",
     "traceback": [
      "\u001b[0;31m---------------------------------------------------------------------------\u001b[0m",
      "\u001b[0;31mValueError\u001b[0m                                Traceback (most recent call last)",
      "\u001b[0;32m<ipython-input-170-7baa333777a2>\u001b[0m in \u001b[0;36m<module>\u001b[0;34m\u001b[0m\n\u001b[0;32m----> 1\u001b[0;31m \u001b[0mgo\u001b[0m\u001b[0;34m.\u001b[0m\u001b[0mFrame\u001b[0m\u001b[0;34m(\u001b[0m\u001b[0mgo\u001b[0m\u001b[0;34m.\u001b[0m\u001b[0mScatter\u001b[0m\u001b[0;34m(\u001b[0m\u001b[0;34m)\u001b[0m\u001b[0;34m)\u001b[0m\u001b[0;34m\u001b[0m\u001b[0;34m\u001b[0m\u001b[0m\n\u001b[0m",
      "\u001b[0;32m~/anaconda3/lib/python3.7/site-packages/plotly/graph_objs/_frame.py\u001b[0m in \u001b[0;36m__init__\u001b[0;34m(self, arg, baseframe, data, group, layout, name, traces, **kwargs)\u001b[0m\n\u001b[1;32m    224\u001b[0m \u001b[0mThe\u001b[0m \u001b[0mfirst\u001b[0m \u001b[0margument\u001b[0m \u001b[0mto\u001b[0m \u001b[0mthe\u001b[0m \u001b[0mplotly\u001b[0m\u001b[0;34m.\u001b[0m\u001b[0mgraph_objs\u001b[0m\u001b[0;34m.\u001b[0m\u001b[0mFrame\u001b[0m\u001b[0;34m\u001b[0m\u001b[0;34m\u001b[0m\u001b[0m\n\u001b[1;32m    225\u001b[0m \u001b[0mconstructor\u001b[0m \u001b[0mmust\u001b[0m \u001b[0mbe\u001b[0m \u001b[0ma\u001b[0m \u001b[0mdict\u001b[0m \u001b[0;32mor\u001b[0m\u001b[0;34m\u001b[0m\u001b[0;34m\u001b[0m\u001b[0m\n\u001b[0;32m--> 226\u001b[0;31m an instance of :class:`plotly.graph_objs.Frame`\"\"\"\n\u001b[0m\u001b[1;32m    227\u001b[0m             )\n\u001b[1;32m    228\u001b[0m \u001b[0;34m\u001b[0m\u001b[0m\n",
      "\u001b[0;31mValueError\u001b[0m: The first argument to the plotly.graph_objs.Frame \nconstructor must be a dict or \nan instance of :class:`plotly.graph_objs.Frame`"
     ]
    }
   ],
   "source": [
    "go.Frame(go.Scatter())"
   ]
  },
  {
   "cell_type": "code",
   "execution_count": 166,
   "id": "30bf3bdf",
   "metadata": {},
   "outputs": [
    {
     "data": {
      "application/vnd.plotly.v1+json": {
       "config": {
        "plotlyServerURL": "https://plot.ly"
       },
       "data": [
        {
         "hovertemplate": "x=%{x}<br>y=%{y}<extra></extra>",
         "legendgroup": "",
         "line": {
          "color": "#636efa",
          "dash": "solid"
         },
         "mode": "lines",
         "name": "",
         "orientation": "v",
         "showlegend": false,
         "type": "scatter",
         "x": [
          580,
          650
         ],
         "xaxis": "x",
         "y": [
          1175,
          1130
         ],
         "yaxis": "y"
        }
       ],
       "layout": {
        "autosize": true,
        "legend": {
         "tracegroupgap": 0
        },
        "margin": {
         "t": 60
        },
        "template": {
         "data": {
          "bar": [
           {
            "error_x": {
             "color": "#2a3f5f"
            },
            "error_y": {
             "color": "#2a3f5f"
            },
            "marker": {
             "line": {
              "color": "#E5ECF6",
              "width": 0.5
             }
            },
            "type": "bar"
           }
          ],
          "barpolar": [
           {
            "marker": {
             "line": {
              "color": "#E5ECF6",
              "width": 0.5
             }
            },
            "type": "barpolar"
           }
          ],
          "carpet": [
           {
            "aaxis": {
             "endlinecolor": "#2a3f5f",
             "gridcolor": "white",
             "linecolor": "white",
             "minorgridcolor": "white",
             "startlinecolor": "#2a3f5f"
            },
            "baxis": {
             "endlinecolor": "#2a3f5f",
             "gridcolor": "white",
             "linecolor": "white",
             "minorgridcolor": "white",
             "startlinecolor": "#2a3f5f"
            },
            "type": "carpet"
           }
          ],
          "choropleth": [
           {
            "colorbar": {
             "outlinewidth": 0,
             "ticks": ""
            },
            "type": "choropleth"
           }
          ],
          "contour": [
           {
            "colorbar": {
             "outlinewidth": 0,
             "ticks": ""
            },
            "colorscale": [
             [
              0,
              "#0d0887"
             ],
             [
              0.1111111111111111,
              "#46039f"
             ],
             [
              0.2222222222222222,
              "#7201a8"
             ],
             [
              0.3333333333333333,
              "#9c179e"
             ],
             [
              0.4444444444444444,
              "#bd3786"
             ],
             [
              0.5555555555555556,
              "#d8576b"
             ],
             [
              0.6666666666666666,
              "#ed7953"
             ],
             [
              0.7777777777777778,
              "#fb9f3a"
             ],
             [
              0.8888888888888888,
              "#fdca26"
             ],
             [
              1,
              "#f0f921"
             ]
            ],
            "type": "contour"
           }
          ],
          "contourcarpet": [
           {
            "colorbar": {
             "outlinewidth": 0,
             "ticks": ""
            },
            "type": "contourcarpet"
           }
          ],
          "heatmap": [
           {
            "colorbar": {
             "outlinewidth": 0,
             "ticks": ""
            },
            "colorscale": [
             [
              0,
              "#0d0887"
             ],
             [
              0.1111111111111111,
              "#46039f"
             ],
             [
              0.2222222222222222,
              "#7201a8"
             ],
             [
              0.3333333333333333,
              "#9c179e"
             ],
             [
              0.4444444444444444,
              "#bd3786"
             ],
             [
              0.5555555555555556,
              "#d8576b"
             ],
             [
              0.6666666666666666,
              "#ed7953"
             ],
             [
              0.7777777777777778,
              "#fb9f3a"
             ],
             [
              0.8888888888888888,
              "#fdca26"
             ],
             [
              1,
              "#f0f921"
             ]
            ],
            "type": "heatmap"
           }
          ],
          "heatmapgl": [
           {
            "colorbar": {
             "outlinewidth": 0,
             "ticks": ""
            },
            "colorscale": [
             [
              0,
              "#0d0887"
             ],
             [
              0.1111111111111111,
              "#46039f"
             ],
             [
              0.2222222222222222,
              "#7201a8"
             ],
             [
              0.3333333333333333,
              "#9c179e"
             ],
             [
              0.4444444444444444,
              "#bd3786"
             ],
             [
              0.5555555555555556,
              "#d8576b"
             ],
             [
              0.6666666666666666,
              "#ed7953"
             ],
             [
              0.7777777777777778,
              "#fb9f3a"
             ],
             [
              0.8888888888888888,
              "#fdca26"
             ],
             [
              1,
              "#f0f921"
             ]
            ],
            "type": "heatmapgl"
           }
          ],
          "histogram": [
           {
            "marker": {
             "colorbar": {
              "outlinewidth": 0,
              "ticks": ""
             }
            },
            "type": "histogram"
           }
          ],
          "histogram2d": [
           {
            "colorbar": {
             "outlinewidth": 0,
             "ticks": ""
            },
            "colorscale": [
             [
              0,
              "#0d0887"
             ],
             [
              0.1111111111111111,
              "#46039f"
             ],
             [
              0.2222222222222222,
              "#7201a8"
             ],
             [
              0.3333333333333333,
              "#9c179e"
             ],
             [
              0.4444444444444444,
              "#bd3786"
             ],
             [
              0.5555555555555556,
              "#d8576b"
             ],
             [
              0.6666666666666666,
              "#ed7953"
             ],
             [
              0.7777777777777778,
              "#fb9f3a"
             ],
             [
              0.8888888888888888,
              "#fdca26"
             ],
             [
              1,
              "#f0f921"
             ]
            ],
            "type": "histogram2d"
           }
          ],
          "histogram2dcontour": [
           {
            "colorbar": {
             "outlinewidth": 0,
             "ticks": ""
            },
            "colorscale": [
             [
              0,
              "#0d0887"
             ],
             [
              0.1111111111111111,
              "#46039f"
             ],
             [
              0.2222222222222222,
              "#7201a8"
             ],
             [
              0.3333333333333333,
              "#9c179e"
             ],
             [
              0.4444444444444444,
              "#bd3786"
             ],
             [
              0.5555555555555556,
              "#d8576b"
             ],
             [
              0.6666666666666666,
              "#ed7953"
             ],
             [
              0.7777777777777778,
              "#fb9f3a"
             ],
             [
              0.8888888888888888,
              "#fdca26"
             ],
             [
              1,
              "#f0f921"
             ]
            ],
            "type": "histogram2dcontour"
           }
          ],
          "mesh3d": [
           {
            "colorbar": {
             "outlinewidth": 0,
             "ticks": ""
            },
            "type": "mesh3d"
           }
          ],
          "parcoords": [
           {
            "line": {
             "colorbar": {
              "outlinewidth": 0,
              "ticks": ""
             }
            },
            "type": "parcoords"
           }
          ],
          "pie": [
           {
            "automargin": true,
            "type": "pie"
           }
          ],
          "scatter": [
           {
            "marker": {
             "colorbar": {
              "outlinewidth": 0,
              "ticks": ""
             }
            },
            "type": "scatter"
           }
          ],
          "scatter3d": [
           {
            "line": {
             "colorbar": {
              "outlinewidth": 0,
              "ticks": ""
             }
            },
            "marker": {
             "colorbar": {
              "outlinewidth": 0,
              "ticks": ""
             }
            },
            "type": "scatter3d"
           }
          ],
          "scattercarpet": [
           {
            "marker": {
             "colorbar": {
              "outlinewidth": 0,
              "ticks": ""
             }
            },
            "type": "scattercarpet"
           }
          ],
          "scattergeo": [
           {
            "marker": {
             "colorbar": {
              "outlinewidth": 0,
              "ticks": ""
             }
            },
            "type": "scattergeo"
           }
          ],
          "scattergl": [
           {
            "marker": {
             "colorbar": {
              "outlinewidth": 0,
              "ticks": ""
             }
            },
            "type": "scattergl"
           }
          ],
          "scattermapbox": [
           {
            "marker": {
             "colorbar": {
              "outlinewidth": 0,
              "ticks": ""
             }
            },
            "type": "scattermapbox"
           }
          ],
          "scatterpolar": [
           {
            "marker": {
             "colorbar": {
              "outlinewidth": 0,
              "ticks": ""
             }
            },
            "type": "scatterpolar"
           }
          ],
          "scatterpolargl": [
           {
            "marker": {
             "colorbar": {
              "outlinewidth": 0,
              "ticks": ""
             }
            },
            "type": "scatterpolargl"
           }
          ],
          "scatterternary": [
           {
            "marker": {
             "colorbar": {
              "outlinewidth": 0,
              "ticks": ""
             }
            },
            "type": "scatterternary"
           }
          ],
          "surface": [
           {
            "colorbar": {
             "outlinewidth": 0,
             "ticks": ""
            },
            "colorscale": [
             [
              0,
              "#0d0887"
             ],
             [
              0.1111111111111111,
              "#46039f"
             ],
             [
              0.2222222222222222,
              "#7201a8"
             ],
             [
              0.3333333333333333,
              "#9c179e"
             ],
             [
              0.4444444444444444,
              "#bd3786"
             ],
             [
              0.5555555555555556,
              "#d8576b"
             ],
             [
              0.6666666666666666,
              "#ed7953"
             ],
             [
              0.7777777777777778,
              "#fb9f3a"
             ],
             [
              0.8888888888888888,
              "#fdca26"
             ],
             [
              1,
              "#f0f921"
             ]
            ],
            "type": "surface"
           }
          ],
          "table": [
           {
            "cells": {
             "fill": {
              "color": "#EBF0F8"
             },
             "line": {
              "color": "white"
             }
            },
            "header": {
             "fill": {
              "color": "#C8D4E3"
             },
             "line": {
              "color": "white"
             }
            },
            "type": "table"
           }
          ]
         },
         "layout": {
          "annotationdefaults": {
           "arrowcolor": "#2a3f5f",
           "arrowhead": 0,
           "arrowwidth": 1
          },
          "autotypenumbers": "strict",
          "coloraxis": {
           "colorbar": {
            "outlinewidth": 0,
            "ticks": ""
           }
          },
          "colorscale": {
           "diverging": [
            [
             0,
             "#8e0152"
            ],
            [
             0.1,
             "#c51b7d"
            ],
            [
             0.2,
             "#de77ae"
            ],
            [
             0.3,
             "#f1b6da"
            ],
            [
             0.4,
             "#fde0ef"
            ],
            [
             0.5,
             "#f7f7f7"
            ],
            [
             0.6,
             "#e6f5d0"
            ],
            [
             0.7,
             "#b8e186"
            ],
            [
             0.8,
             "#7fbc41"
            ],
            [
             0.9,
             "#4d9221"
            ],
            [
             1,
             "#276419"
            ]
           ],
           "sequential": [
            [
             0,
             "#0d0887"
            ],
            [
             0.1111111111111111,
             "#46039f"
            ],
            [
             0.2222222222222222,
             "#7201a8"
            ],
            [
             0.3333333333333333,
             "#9c179e"
            ],
            [
             0.4444444444444444,
             "#bd3786"
            ],
            [
             0.5555555555555556,
             "#d8576b"
            ],
            [
             0.6666666666666666,
             "#ed7953"
            ],
            [
             0.7777777777777778,
             "#fb9f3a"
            ],
            [
             0.8888888888888888,
             "#fdca26"
            ],
            [
             1,
             "#f0f921"
            ]
           ],
           "sequentialminus": [
            [
             0,
             "#0d0887"
            ],
            [
             0.1111111111111111,
             "#46039f"
            ],
            [
             0.2222222222222222,
             "#7201a8"
            ],
            [
             0.3333333333333333,
             "#9c179e"
            ],
            [
             0.4444444444444444,
             "#bd3786"
            ],
            [
             0.5555555555555556,
             "#d8576b"
            ],
            [
             0.6666666666666666,
             "#ed7953"
            ],
            [
             0.7777777777777778,
             "#fb9f3a"
            ],
            [
             0.8888888888888888,
             "#fdca26"
            ],
            [
             1,
             "#f0f921"
            ]
           ]
          },
          "colorway": [
           "#636efa",
           "#EF553B",
           "#00cc96",
           "#ab63fa",
           "#FFA15A",
           "#19d3f3",
           "#FF6692",
           "#B6E880",
           "#FF97FF",
           "#FECB52"
          ],
          "font": {
           "color": "#2a3f5f"
          },
          "geo": {
           "bgcolor": "white",
           "lakecolor": "white",
           "landcolor": "#E5ECF6",
           "showlakes": true,
           "showland": true,
           "subunitcolor": "white"
          },
          "hoverlabel": {
           "align": "left"
          },
          "hovermode": "closest",
          "mapbox": {
           "style": "light"
          },
          "paper_bgcolor": "white",
          "plot_bgcolor": "#E5ECF6",
          "polar": {
           "angularaxis": {
            "gridcolor": "white",
            "linecolor": "white",
            "ticks": ""
           },
           "bgcolor": "#E5ECF6",
           "radialaxis": {
            "gridcolor": "white",
            "linecolor": "white",
            "ticks": ""
           }
          },
          "scene": {
           "xaxis": {
            "backgroundcolor": "#E5ECF6",
            "gridcolor": "white",
            "gridwidth": 2,
            "linecolor": "white",
            "showbackground": true,
            "ticks": "",
            "zerolinecolor": "white"
           },
           "yaxis": {
            "backgroundcolor": "#E5ECF6",
            "gridcolor": "white",
            "gridwidth": 2,
            "linecolor": "white",
            "showbackground": true,
            "ticks": "",
            "zerolinecolor": "white"
           },
           "zaxis": {
            "backgroundcolor": "#E5ECF6",
            "gridcolor": "white",
            "gridwidth": 2,
            "linecolor": "white",
            "showbackground": true,
            "ticks": "",
            "zerolinecolor": "white"
           }
          },
          "shapedefaults": {
           "line": {
            "color": "#2a3f5f"
           }
          },
          "ternary": {
           "aaxis": {
            "gridcolor": "white",
            "linecolor": "white",
            "ticks": ""
           },
           "baxis": {
            "gridcolor": "white",
            "linecolor": "white",
            "ticks": ""
           },
           "bgcolor": "#E5ECF6",
           "caxis": {
            "gridcolor": "white",
            "linecolor": "white",
            "ticks": ""
           }
          },
          "title": {
           "x": 0.05
          },
          "xaxis": {
           "automargin": true,
           "gridcolor": "white",
           "linecolor": "white",
           "ticks": "",
           "title": {
            "standoff": 15
           },
           "zerolinecolor": "white",
           "zerolinewidth": 2
          },
          "yaxis": {
           "automargin": true,
           "gridcolor": "white",
           "linecolor": "white",
           "ticks": "",
           "title": {
            "standoff": 15
           },
           "zerolinecolor": "white",
           "zerolinewidth": 2
          }
         }
        },
        "xaxis": {
         "anchor": "y",
         "autorange": true,
         "domain": [
          0,
          1
         ],
         "range": [
          580,
          650
         ],
         "title": {
          "text": "x"
         },
         "type": "linear"
        },
        "yaxis": {
         "anchor": "x",
         "autorange": true,
         "domain": [
          0,
          1
         ],
         "range": [
          1127.5,
          1177.5
         ],
         "title": {
          "text": "y"
         },
         "type": "linear"
        }
       }
      },
      "image/png": "[encoded data removed]",
      "text/html": [
       "<div>                            <div id=\"1a908145-adf2-4b09-bc4b-be8466fb4ede\" class=\"plotly-graph-div\" style=\"height:525px; width:100%;\"></div>            <script type=\"text/javascript\">                require([\"plotly\"], function(Plotly) {                    window.PLOTLYENV=window.PLOTLYENV || {};                                    if (document.getElementById(\"1a908145-adf2-4b09-bc4b-be8466fb4ede\")) {                    Plotly.newPlot(                        \"1a908145-adf2-4b09-bc4b-be8466fb4ede\",                        [{\"hovertemplate\": \"x=%{x}<br>y=%{y}<extra></extra>\", \"legendgroup\": \"\", \"line\": {\"color\": \"#636efa\", \"dash\": \"solid\"}, \"mode\": \"lines\", \"name\": \"\", \"orientation\": \"v\", \"showlegend\": false, \"type\": \"scatter\", \"x\": [580.0, 650.0], \"xaxis\": \"x\", \"y\": [1175.0, 1130.0], \"yaxis\": \"y\"}],                        {\"legend\": {\"tracegroupgap\": 0}, \"margin\": {\"t\": 60}, \"template\": {\"data\": {\"bar\": [{\"error_x\": {\"color\": \"#2a3f5f\"}, \"error_y\": {\"color\": \"#2a3f5f\"}, \"marker\": {\"line\": {\"color\": \"#E5ECF6\", \"width\": 0.5}}, \"type\": \"bar\"}], \"barpolar\": [{\"marker\": {\"line\": {\"color\": \"#E5ECF6\", \"width\": 0.5}}, \"type\": \"barpolar\"}], \"carpet\": [{\"aaxis\": {\"endlinecolor\": \"#2a3f5f\", \"gridcolor\": \"white\", \"linecolor\": \"white\", \"minorgridcolor\": \"white\", \"startlinecolor\": \"#2a3f5f\"}, \"baxis\": {\"endlinecolor\": \"#2a3f5f\", \"gridcolor\": \"white\", \"linecolor\": \"white\", \"minorgridcolor\": \"white\", \"startlinecolor\": \"#2a3f5f\"}, \"type\": \"carpet\"}], \"choropleth\": [{\"colorbar\": {\"outlinewidth\": 0, \"ticks\": \"\"}, \"type\": \"choropleth\"}], \"contour\": [{\"colorbar\": {\"outlinewidth\": 0, \"ticks\": \"\"}, \"colorscale\": [[0.0, \"#0d0887\"], [0.1111111111111111, \"#46039f\"], [0.2222222222222222, \"#7201a8\"], [0.3333333333333333, \"#9c179e\"], [0.4444444444444444, \"#bd3786\"], [0.5555555555555556, \"#d8576b\"], [0.6666666666666666, \"#ed7953\"], [0.7777777777777778, \"#fb9f3a\"], [0.8888888888888888, \"#fdca26\"], [1.0, \"#f0f921\"]], \"type\": \"contour\"}], \"contourcarpet\": [{\"colorbar\": {\"outlinewidth\": 0, \"ticks\": \"\"}, \"type\": \"contourcarpet\"}], \"heatmap\": [{\"colorbar\": {\"outlinewidth\": 0, \"ticks\": \"\"}, \"colorscale\": [[0.0, \"#0d0887\"], [0.1111111111111111, \"#46039f\"], [0.2222222222222222, \"#7201a8\"], [0.3333333333333333, \"#9c179e\"], [0.4444444444444444, \"#bd3786\"], [0.5555555555555556, \"#d8576b\"], [0.6666666666666666, \"#ed7953\"], [0.7777777777777778, \"#fb9f3a\"], [0.8888888888888888, \"#fdca26\"], [1.0, \"#f0f921\"]], \"type\": \"heatmap\"}], \"heatmapgl\": [{\"colorbar\": {\"outlinewidth\": 0, \"ticks\": \"\"}, \"colorscale\": [[0.0, \"#0d0887\"], [0.1111111111111111, \"#46039f\"], [0.2222222222222222, \"#7201a8\"], [0.3333333333333333, \"#9c179e\"], [0.4444444444444444, \"#bd3786\"], [0.5555555555555556, \"#d8576b\"], [0.6666666666666666, \"#ed7953\"], [0.7777777777777778, \"#fb9f3a\"], [0.8888888888888888, \"#fdca26\"], [1.0, \"#f0f921\"]], \"type\": \"heatmapgl\"}], \"histogram\": [{\"marker\": {\"colorbar\": {\"outlinewidth\": 0, \"ticks\": \"\"}}, \"type\": \"histogram\"}], \"histogram2d\": [{\"colorbar\": {\"outlinewidth\": 0, \"ticks\": \"\"}, \"colorscale\": [[0.0, \"#0d0887\"], [0.1111111111111111, \"#46039f\"], [0.2222222222222222, \"#7201a8\"], [0.3333333333333333, \"#9c179e\"], [0.4444444444444444, \"#bd3786\"], [0.5555555555555556, \"#d8576b\"], [0.6666666666666666, \"#ed7953\"], [0.7777777777777778, \"#fb9f3a\"], [0.8888888888888888, \"#fdca26\"], [1.0, \"#f0f921\"]], \"type\": \"histogram2d\"}], \"histogram2dcontour\": [{\"colorbar\": {\"outlinewidth\": 0, \"ticks\": \"\"}, \"colorscale\": [[0.0, \"#0d0887\"], [0.1111111111111111, \"#46039f\"], [0.2222222222222222, \"#7201a8\"], [0.3333333333333333, \"#9c179e\"], [0.4444444444444444, \"#bd3786\"], [0.5555555555555556, \"#d8576b\"], [0.6666666666666666, \"#ed7953\"], [0.7777777777777778, \"#fb9f3a\"], [0.8888888888888888, \"#fdca26\"], [1.0, \"#f0f921\"]], \"type\": \"histogram2dcontour\"}], \"mesh3d\": [{\"colorbar\": {\"outlinewidth\": 0, \"ticks\": \"\"}, \"type\": \"mesh3d\"}], \"parcoords\": [{\"line\": {\"colorbar\": {\"outlinewidth\": 0, \"ticks\": \"\"}}, \"type\": \"parcoords\"}], \"pie\": [{\"automargin\": true, \"type\": \"pie\"}], \"scatter\": [{\"marker\": {\"colorbar\": {\"outlinewidth\": 0, \"ticks\": \"\"}}, \"type\": \"scatter\"}], \"scatter3d\": [{\"line\": {\"colorbar\": {\"outlinewidth\": 0, \"ticks\": \"\"}}, \"marker\": {\"colorbar\": {\"outlinewidth\": 0, \"ticks\": \"\"}}, \"type\": \"scatter3d\"}], \"scattercarpet\": [{\"marker\": {\"colorbar\": {\"outlinewidth\": 0, \"ticks\": \"\"}}, \"type\": \"scattercarpet\"}], \"scattergeo\": [{\"marker\": {\"colorbar\": {\"outlinewidth\": 0, \"ticks\": \"\"}}, \"type\": \"scattergeo\"}], \"scattergl\": [{\"marker\": {\"colorbar\": {\"outlinewidth\": 0, \"ticks\": \"\"}}, \"type\": \"scattergl\"}], \"scattermapbox\": [{\"marker\": {\"colorbar\": {\"outlinewidth\": 0, \"ticks\": \"\"}}, \"type\": \"scattermapbox\"}], \"scatterpolar\": [{\"marker\": {\"colorbar\": {\"outlinewidth\": 0, \"ticks\": \"\"}}, \"type\": \"scatterpolar\"}], \"scatterpolargl\": [{\"marker\": {\"colorbar\": {\"outlinewidth\": 0, \"ticks\": \"\"}}, \"type\": \"scatterpolargl\"}], \"scatterternary\": [{\"marker\": {\"colorbar\": {\"outlinewidth\": 0, \"ticks\": \"\"}}, \"type\": \"scatterternary\"}], \"surface\": [{\"colorbar\": {\"outlinewidth\": 0, \"ticks\": \"\"}, \"colorscale\": [[0.0, \"#0d0887\"], [0.1111111111111111, \"#46039f\"], [0.2222222222222222, \"#7201a8\"], [0.3333333333333333, \"#9c179e\"], [0.4444444444444444, \"#bd3786\"], [0.5555555555555556, \"#d8576b\"], [0.6666666666666666, \"#ed7953\"], [0.7777777777777778, \"#fb9f3a\"], [0.8888888888888888, \"#fdca26\"], [1.0, \"#f0f921\"]], \"type\": \"surface\"}], \"table\": [{\"cells\": {\"fill\": {\"color\": \"#EBF0F8\"}, \"line\": {\"color\": \"white\"}}, \"header\": {\"fill\": {\"color\": \"#C8D4E3\"}, \"line\": {\"color\": \"white\"}}, \"type\": \"table\"}]}, \"layout\": {\"annotationdefaults\": {\"arrowcolor\": \"#2a3f5f\", \"arrowhead\": 0, \"arrowwidth\": 1}, \"autotypenumbers\": \"strict\", \"coloraxis\": {\"colorbar\": {\"outlinewidth\": 0, \"ticks\": \"\"}}, \"colorscale\": {\"diverging\": [[0, \"#8e0152\"], [0.1, \"#c51b7d\"], [0.2, \"#de77ae\"], [0.3, \"#f1b6da\"], [0.4, \"#fde0ef\"], [0.5, \"#f7f7f7\"], [0.6, \"#e6f5d0\"], [0.7, \"#b8e186\"], [0.8, \"#7fbc41\"], [0.9, \"#4d9221\"], [1, \"#276419\"]], \"sequential\": [[0.0, \"#0d0887\"], [0.1111111111111111, \"#46039f\"], [0.2222222222222222, \"#7201a8\"], [0.3333333333333333, \"#9c179e\"], [0.4444444444444444, \"#bd3786\"], [0.5555555555555556, \"#d8576b\"], [0.6666666666666666, \"#ed7953\"], [0.7777777777777778, \"#fb9f3a\"], [0.8888888888888888, \"#fdca26\"], [1.0, \"#f0f921\"]], \"sequentialminus\": [[0.0, \"#0d0887\"], [0.1111111111111111, \"#46039f\"], [0.2222222222222222, \"#7201a8\"], [0.3333333333333333, \"#9c179e\"], [0.4444444444444444, \"#bd3786\"], [0.5555555555555556, \"#d8576b\"], [0.6666666666666666, \"#ed7953\"], [0.7777777777777778, \"#fb9f3a\"], [0.8888888888888888, \"#fdca26\"], [1.0, \"#f0f921\"]]}, \"colorway\": [\"#636efa\", \"#EF553B\", \"#00cc96\", \"#ab63fa\", \"#FFA15A\", \"#19d3f3\", \"#FF6692\", \"#B6E880\", \"#FF97FF\", \"#FECB52\"], \"font\": {\"color\": \"#2a3f5f\"}, \"geo\": {\"bgcolor\": \"white\", \"lakecolor\": \"white\", \"landcolor\": \"#E5ECF6\", \"showlakes\": true, \"showland\": true, \"subunitcolor\": \"white\"}, \"hoverlabel\": {\"align\": \"left\"}, \"hovermode\": \"closest\", \"mapbox\": {\"style\": \"light\"}, \"paper_bgcolor\": \"white\", \"plot_bgcolor\": \"#E5ECF6\", \"polar\": {\"angularaxis\": {\"gridcolor\": \"white\", \"linecolor\": \"white\", \"ticks\": \"\"}, \"bgcolor\": \"#E5ECF6\", \"radialaxis\": {\"gridcolor\": \"white\", \"linecolor\": \"white\", \"ticks\": \"\"}}, \"scene\": {\"xaxis\": {\"backgroundcolor\": \"#E5ECF6\", \"gridcolor\": \"white\", \"gridwidth\": 2, \"linecolor\": \"white\", \"showbackground\": true, \"ticks\": \"\", \"zerolinecolor\": \"white\"}, \"yaxis\": {\"backgroundcolor\": \"#E5ECF6\", \"gridcolor\": \"white\", \"gridwidth\": 2, \"linecolor\": \"white\", \"showbackground\": true, \"ticks\": \"\", \"zerolinecolor\": \"white\"}, \"zaxis\": {\"backgroundcolor\": \"#E5ECF6\", \"gridcolor\": \"white\", \"gridwidth\": 2, \"linecolor\": \"white\", \"showbackground\": true, \"ticks\": \"\", \"zerolinecolor\": \"white\"}}, \"shapedefaults\": {\"line\": {\"color\": \"#2a3f5f\"}}, \"ternary\": {\"aaxis\": {\"gridcolor\": \"white\", \"linecolor\": \"white\", \"ticks\": \"\"}, \"baxis\": {\"gridcolor\": \"white\", \"linecolor\": \"white\", \"ticks\": \"\"}, \"bgcolor\": \"#E5ECF6\", \"caxis\": {\"gridcolor\": \"white\", \"linecolor\": \"white\", \"ticks\": \"\"}}, \"title\": {\"x\": 0.05}, \"xaxis\": {\"automargin\": true, \"gridcolor\": \"white\", \"linecolor\": \"white\", \"ticks\": \"\", \"title\": {\"standoff\": 15}, \"zerolinecolor\": \"white\", \"zerolinewidth\": 2}, \"yaxis\": {\"automargin\": true, \"gridcolor\": \"white\", \"linecolor\": \"white\", \"ticks\": \"\", \"title\": {\"standoff\": 15}, \"zerolinecolor\": \"white\", \"zerolinewidth\": 2}}}, \"xaxis\": {\"anchor\": \"y\", \"domain\": [0.0, 1.0], \"title\": {\"text\": \"x\"}}, \"yaxis\": {\"anchor\": \"x\", \"domain\": [0.0, 1.0], \"title\": {\"text\": \"y\"}}},                        {\"responsive\": true}                    ).then(function(){\n",
       "                            \n",
       "var gd = document.getElementById('1a908145-adf2-4b09-bc4b-be8466fb4ede');\n",
       "var x = new MutationObserver(function (mutations, observer) {{\n",
       "        var display = window.getComputedStyle(gd).display;\n",
       "        if (!display || display === 'none') {{\n",
       "            console.log([gd, 'removed!']);\n",
       "            Plotly.purge(gd);\n",
       "            observer.disconnect();\n",
       "        }}\n",
       "}});\n",
       "\n",
       "// Listen for the removal of the full notebook cells\n",
       "var notebookContainer = gd.closest('#notebook-container');\n",
       "if (notebookContainer) {{\n",
       "    x.observe(notebookContainer, {childList: true});\n",
       "}}\n",
       "\n",
       "// Listen for the clearing of the current output cell\n",
       "var outputEl = gd.closest('.output');\n",
       "if (outputEl) {{\n",
       "    x.observe(outputEl, {childList: true});\n",
       "}}\n",
       "\n",
       "                        })                };                });            </script>        </div>"
      ]
     },
     "metadata": {},
     "output_type": "display_data"
    }
   ],
   "source": [
    "px.line(x=[trace[0][0], trace[1][0]], y=[trace[0][1], trace[1][1]])"
   ]
  },
  {
   "cell_type": "code",
   "execution_count": 164,
   "id": "c31755cf",
   "metadata": {},
   "outputs": [
    {
     "ename": "ValueError",
     "evalue": "\n    Invalid element(s) received for the 'data' property of frame\n        Invalid elements include: [Figure({\n    'data': [{'line': {'color': '#888', 'width': 0.14014621214042644},\n              'mode': 'lines',\n              'type': 'scatter',\n              'x': [565.0, 25.0],\n              'y': [575.0, 185.0]},\n             {'line': {'color': '#888', 'width': 0.04138614528126772},\n              'mode': 'lines',\n              'type': 'scatter',\n              'x': [565.0, 345.0],\n              'y': [575.0, 750.0]},\n             {'line': {'color': '#888', 'width': 0.3327615779272384},\n              'mode': 'lines',\n              'type': 'scatter',\n              'x': [565.0, 945.0],\n              'y': [575.0, 685.0]},\n             {'line': {'color': '#888', 'width': 0.008834507049529816},\n              'mode': 'lines',\n              'type': 'scatter',\n              'x': [565.0, 845.0],\n              'y': [575.0, 655.0]},\n             {'line': {'color': '#888', 'width': 0.9149797274722425},\n              'mode': 'lines',\n              'type': 'scatter',\n              'x': [565.0, 880.0],\n              'y': [575.0, 660.0]},\n             {'line': {'color': '#888', 'width': 0.5808242513216268},\n              'mode': 'lines',\n              'type': 'scatter',\n              'x': [565.0, 25.0],\n              'y': [575.0, 230.0]},\n             {'line': {'color': '#888', 'width': 0.14911807281039702},\n              'mode': 'lines',\n              'type': 'scatter',\n              'x': [565.0, 525.0],\n              'y': [575.0, 1000.0]},\n             {'line': {'color': '#888', 'width': 0.044945842446909134},\n              'mode': 'lines',\n              'type': 'scatter',\n              'x': [565.0, 580.0],\n              'y': [575.0, 1175.0]},\n             {'line': {'color': '#888', 'width': 0.930886072872414},\n              'mode': 'lines',\n              'type': 'scatter',\n              'x': [565.0, 650.0],\n              'y': [575.0, 1130.0]},\n             {'line': {'color': '#888', 'width': 0.3249535993331393},\n              'mode': 'lines',\n              'type': 'scatter',\n              'x': [25.0, 345.0],\n              'y': [185.0, 750.0]},\n             {'line': {'color': '#888', 'width': 0.9268302273159047},\n              'mode': 'lines',\n              'type': 'scatter',\n              'x': [25.0, 945.0],\n              'y': [185.0, 685.0]},\n             {'line': {'color': '#888', 'width': 0.93053247352208},\n              'mode': 'lines',\n              'type': 'scatter',\n              'x': [25.0, 845.0],\n              'y': [185.0, 655.0]},\n             {'line': {'color': '#888', 'width': 0.1872256557715536},\n              'mode': 'lines',\n              'type': 'scatter',\n              'x': [25.0, 880.0],\n              'y': [185.0, 660.0]},\n             {'line': {'color': '#888', 'width': 0.8772087684828761},\n              'mode': 'lines',\n              'type': 'scatter',\n              'x': [25.0, 25.0],\n              'y': [185.0, 230.0]},\n             {'line': {'color': '#888', 'width': 0.2523059580105037},\n              'mode': 'lines',\n              'type': 'scatter',\n              'x': [25.0, 525.0],\n              'y': [185.0, 1000.0]},\n             {'line': {'color': '#888', 'width': 0.13451858279330786},\n              'mode': 'lines',\n              'type': 'scatter',\n              'x': [25.0, 580.0],\n              'y': [185.0, 1175.0]},\n             {'line': {'color': '#888', 'width': 0.8676335142362195},\n              'mode': 'lines',\n              'type': 'scatter',\n              'x': [25.0, 650.0],\n              'y': [185.0, 1130.0]},\n             {'line': {'color': '#888', 'width': 0.5197266027916111},\n              'mode': 'lines',\n              'type': 'scatter',\n              'x': [345.0, 945.0],\n              'y': [750.0, 685.0]},\n             {'line': {'color': '#888', 'width': 0.01858237163102261},\n              'mode': 'lines',\n              'type': 'scatter',\n              'x': [345.0, 845.0],\n              'y': [750.0, 655.0]},\n             {'line': {'color': '#888', 'width': 0.9844456145155837},\n              'mode': 'lines',\n              'type': 'scatter',\n              'x': [345.0, 880.0],\n              'y': [750.0, 660.0]},\n             {'line': {'color': '#888', 'width': 0.7751216138078928},\n              'mode': 'lines',\n              'type': 'scatter',\n              'x': [345.0, 25.0],\n              'y': [750.0, 230.0]},\n             {'line': {'color': '#888', 'width': 0.47706005085228465},\n              'mode': 'lines',\n              'type': 'scatter',\n              'x': [345.0, 525.0],\n              'y': [750.0, 1000.0]},\n             {'line': {'color': '#888', 'width': 0.1532996961963663},\n              'mode': 'lines',\n              'type': 'scatter',\n              'x': [345.0, 580.0],\n              'y': [750.0, 1175.0]},\n             {'line': {'color': '#888', 'width': 0.8969093321102206},\n              'mode': 'lines',\n              'type': 'scatter',\n              'x': [345.0, 650.0],\n              'y': [750.0, 1130.0]},\n             {'line': {'color': '#888', 'width': 0.17543073765369532},\n              'mode': 'lines',\n              'type': 'scatter',\n              'x': [945.0, 845.0],\n              'y': [685.0, 655.0]},\n             {'line': {'color': '#888', 'width': 0.5363730087648552},\n              'mode': 'lines',\n              'type': 'scatter',\n              'x': [945.0, 880.0],\n              'y': [685.0, 660.0]},\n             {'line': {'color': '#888', 'width': 0.5621444835403069},\n              'mode': 'lines',\n              'type': 'scatter',\n              'x': [945.0, 25.0],\n              'y': [685.0, 230.0]},\n             {'line': {'color': '#888', 'width': 0.16373733551897973},\n              'mode': 'lines',\n              'type': 'scatter',\n              'x': [945.0, 525.0],\n              'y': [685.0, 1000.0]},\n             {'line': {'color': '#888', 'width': 0.10040856160562117},\n              'mode': 'lines',\n              'type': 'scatter',\n              'x': [945.0, 580.0],\n              'y': [685.0, 1175.0]},\n             {'line': {'color': '#888', 'width': 0.9112111689306365},\n              'mode': 'lines',\n              'type': 'scatter',\n              'x': [945.0, 650.0],\n              'y': [685.0, 1130.0]},\n             {'line': {'color': '#888', 'width': 0.7167168893564203},\n              'mode': 'lines',\n              'type': 'scatter',\n              'x': [845.0, 880.0],\n              'y': [655.0, 660.0]},\n             {'line': {'color': '#888', 'width': 0.6773853139005769},\n              'mode': 'lines',\n              'type': 'scatter',\n              'x': [845.0, 25.0],\n              'y': [655.0, 230.0]},\n             {'line': {'color': '#888', 'width': 0.3609417265875483},\n              'mode': 'lines',\n              'type': 'scatter',\n              'x': [845.0, 525.0],\n              'y': [655.0, 1000.0]},\n             {'line': {'color': '#888', 'width': 0.27602747687417073},\n              'mode': 'lines',\n              'type': 'scatter',\n              'x': [845.0, 580.0],\n              'y': [655.0, 1175.0]},\n             {'line': {'color': '#888', 'width': 0.3314840422176065},\n              'mode': 'lines',\n              'type': 'scatter',\n              'x': [845.0, 650.0],\n              'y': [655.0, 1130.0]},\n             {'line': {'color': '#888', 'width': 0.5229447664799209},\n              'mode': 'lines',\n              'type': 'scatter',\n              'x': [880.0, 25.0],\n              'y': [660.0, 230.0]},\n             {'line': {'color': '#888', 'width': 0.7304194692968429},\n              'mode': 'lines',\n              'type': 'scatter',\n              'x': [880.0, 525.0],\n              'y': [660.0, 1000.0]},\n             {'line': {'color': '#888', 'width': 0.15535551695944727},\n              'mode': 'lines',\n              'type': 'scatter',\n              'x': [880.0, 580.0],\n              'y': [660.0, 1175.0]},\n             {'line': {'color': '#888', 'width': 0.668340748802095},\n              'mode': 'lines',\n              'type': 'scatter',\n              'x': [880.0, 650.0],\n              'y': [660.0, 1130.0]},\n             {'line': {'color': '#888', 'width': 0.30253884257150254},\n              'mode': 'lines',\n              'type': 'scatter',\n              'x': [25.0, 525.0],\n              'y': [230.0, 1000.0]},\n             {'line': {'color': '#888', 'width': 0.4054630572382404},\n              'mode': 'lines',\n              'type': 'scatter',\n              'x': [25.0, 580.0],\n              'y': [230.0, 1175.0]},\n             {'line': {'color': '#888', 'width': 0.7808623873134867},\n              'mode': 'lines',\n              'type': 'scatter',\n              'x': [25.0, 650.0],\n              'y': [230.0, 1130.0]},\n             {'line': {'color': '#888', 'width': 0.4819177932349553},\n              'mode': 'lines',\n              'type': 'scatter',\n              'x': [525.0, 580.0],\n              'y': [1000.0, 1175.0]},\n             {'line': {'color': '#888', 'width': 0.06787413950676735},\n              'mode': 'lines',\n              'type': 'scatter',\n              'x': [525.0, 650.0],\n              'y': [1000.0, 1130.0]},\n             {'line': {'color': '#888', 'width': 0.9989058903894402},\n              'mode': 'lines',\n              'type': 'scatter',\n              'x': [580.0, 650.0],\n              'y': [1175.0, 1130.0]}],\n    'layout': {'template': '...'}\n})]\n\n    The 'data' property is a tuple of trace instances\n    that may be specified as:\n      - A list or tuple of trace instances\n        (e.g. [Scatter(...), Bar(...)])\n      - A single trace instance\n        (e.g. Scatter(...), Bar(...), etc.)\n      - A list or tuple of dicts of string/value properties where:\n        - The 'type' property specifies the trace type\n            One of: ['area', 'bar', 'barpolar', 'box',\n                     'candlestick', 'carpet', 'choropleth',\n                     'choroplethmapbox', 'cone', 'contour',\n                     'contourcarpet', 'densitymapbox', 'funnel',\n                     'funnelarea', 'heatmap', 'heatmapgl',\n                     'histogram', 'histogram2d',\n                     'histogram2dcontour', 'image', 'indicator',\n                     'isosurface', 'mesh3d', 'ohlc', 'parcats',\n                     'parcoords', 'pie', 'pointcloud', 'sankey',\n                     'scatter', 'scatter3d', 'scattercarpet',\n                     'scattergeo', 'scattergl', 'scattermapbox',\n                     'scatterpolar', 'scatterpolargl',\n                     'scatterternary', 'splom', 'streamtube',\n                     'sunburst', 'surface', 'table', 'treemap',\n                     'violin', 'volume', 'waterfall']\n\n        - All remaining properties are passed to the constructor of\n          the specified trace type\n\n        (e.g. [{'type': 'scatter', ...}, {'type': 'bar, ...}])",
     "output_type": "error",
     "traceback": [
      "\u001b[0;31m---------------------------------------------------------------------------\u001b[0m",
      "\u001b[0;31mValueError\u001b[0m                                Traceback (most recent call last)",
      "\u001b[0;32m<ipython-input-164-6389502e9112>\u001b[0m in \u001b[0;36m<module>\u001b[0;34m\u001b[0m\n\u001b[1;32m      8\u001b[0m                     )))\n\u001b[1;32m      9\u001b[0m \u001b[0;34m\u001b[0m\u001b[0m\n\u001b[0;32m---> 10\u001b[0;31m \u001b[0manimacao\u001b[0m\u001b[0;34m.\u001b[0m\u001b[0mappend\u001b[0m\u001b[0;34m(\u001b[0m\u001b[0mgo\u001b[0m\u001b[0;34m.\u001b[0m\u001b[0mFrame\u001b[0m\u001b[0;34m(\u001b[0m\u001b[0mdata\u001b[0m\u001b[0;34m=\u001b[0m\u001b[0mfig\u001b[0m\u001b[0;34m)\u001b[0m\u001b[0;34m)\u001b[0m\u001b[0;34m\u001b[0m\u001b[0;34m\u001b[0m\u001b[0m\n\u001b[0m",
      "\u001b[0;32m~/anaconda3/lib/python3.7/site-packages/plotly/graph_objs/_frame.py\u001b[0m in \u001b[0;36m__init__\u001b[0;34m(self, arg, baseframe, data, group, layout, name, traces, **kwargs)\u001b[0m\n\u001b[1;32m    241\u001b[0m         \u001b[0m_v\u001b[0m \u001b[0;34m=\u001b[0m \u001b[0mdata\u001b[0m \u001b[0;32mif\u001b[0m \u001b[0mdata\u001b[0m \u001b[0;32mis\u001b[0m \u001b[0;32mnot\u001b[0m \u001b[0;32mNone\u001b[0m \u001b[0;32melse\u001b[0m \u001b[0m_v\u001b[0m\u001b[0;34m\u001b[0m\u001b[0;34m\u001b[0m\u001b[0m\n\u001b[1;32m    242\u001b[0m         \u001b[0;32mif\u001b[0m \u001b[0m_v\u001b[0m \u001b[0;32mis\u001b[0m \u001b[0;32mnot\u001b[0m \u001b[0;32mNone\u001b[0m\u001b[0;34m:\u001b[0m\u001b[0;34m\u001b[0m\u001b[0;34m\u001b[0m\u001b[0m\n\u001b[0;32m--> 243\u001b[0;31m             \u001b[0mself\u001b[0m\u001b[0;34m[\u001b[0m\u001b[0;34m\"data\"\u001b[0m\u001b[0;34m]\u001b[0m \u001b[0;34m=\u001b[0m \u001b[0m_v\u001b[0m\u001b[0;34m\u001b[0m\u001b[0;34m\u001b[0m\u001b[0m\n\u001b[0m\u001b[1;32m    244\u001b[0m         \u001b[0m_v\u001b[0m \u001b[0;34m=\u001b[0m \u001b[0marg\u001b[0m\u001b[0;34m.\u001b[0m\u001b[0mpop\u001b[0m\u001b[0;34m(\u001b[0m\u001b[0;34m\"group\"\u001b[0m\u001b[0;34m,\u001b[0m \u001b[0;32mNone\u001b[0m\u001b[0;34m)\u001b[0m\u001b[0;34m\u001b[0m\u001b[0;34m\u001b[0m\u001b[0m\n\u001b[1;32m    245\u001b[0m         \u001b[0m_v\u001b[0m \u001b[0;34m=\u001b[0m \u001b[0mgroup\u001b[0m \u001b[0;32mif\u001b[0m \u001b[0mgroup\u001b[0m \u001b[0;32mis\u001b[0m \u001b[0;32mnot\u001b[0m \u001b[0;32mNone\u001b[0m \u001b[0;32melse\u001b[0m \u001b[0m_v\u001b[0m\u001b[0;34m\u001b[0m\u001b[0;34m\u001b[0m\u001b[0m\n",
      "\u001b[0;32m~/anaconda3/lib/python3.7/site-packages/plotly/basedatatypes.py\u001b[0m in \u001b[0;36m__setitem__\u001b[0;34m(self, prop, value)\u001b[0m\n\u001b[1;32m   4798\u001b[0m                 \u001b[0;31m# ### Handle compound array property ###\u001b[0m\u001b[0;34m\u001b[0m\u001b[0;34m\u001b[0m\u001b[0;34m\u001b[0m\u001b[0m\n\u001b[1;32m   4799\u001b[0m                 \u001b[0;32melif\u001b[0m \u001b[0misinstance\u001b[0m\u001b[0;34m(\u001b[0m\u001b[0mvalidator\u001b[0m\u001b[0;34m,\u001b[0m \u001b[0;34m(\u001b[0m\u001b[0mCompoundArrayValidator\u001b[0m\u001b[0;34m,\u001b[0m \u001b[0mBaseDataValidator\u001b[0m\u001b[0;34m)\u001b[0m\u001b[0;34m)\u001b[0m\u001b[0;34m:\u001b[0m\u001b[0;34m\u001b[0m\u001b[0;34m\u001b[0m\u001b[0m\n\u001b[0;32m-> 4800\u001b[0;31m                     \u001b[0mself\u001b[0m\u001b[0;34m.\u001b[0m\u001b[0m_set_array_prop\u001b[0m\u001b[0;34m(\u001b[0m\u001b[0mprop\u001b[0m\u001b[0;34m,\u001b[0m \u001b[0mvalue\u001b[0m\u001b[0;34m)\u001b[0m\u001b[0;34m\u001b[0m\u001b[0;34m\u001b[0m\u001b[0m\n\u001b[0m\u001b[1;32m   4801\u001b[0m \u001b[0;34m\u001b[0m\u001b[0m\n\u001b[1;32m   4802\u001b[0m                 \u001b[0;31m# ### Handle simple property ###\u001b[0m\u001b[0;34m\u001b[0m\u001b[0;34m\u001b[0m\u001b[0;34m\u001b[0m\u001b[0m\n",
      "\u001b[0;32m~/anaconda3/lib/python3.7/site-packages/plotly/basedatatypes.py\u001b[0m in \u001b[0;36m_set_array_prop\u001b[0;34m(self, prop, val)\u001b[0m\n\u001b[1;32m   5279\u001b[0m         \u001b[0;31m# ------------\u001b[0m\u001b[0;34m\u001b[0m\u001b[0;34m\u001b[0m\u001b[0;34m\u001b[0m\u001b[0m\n\u001b[1;32m   5280\u001b[0m         \u001b[0mvalidator\u001b[0m \u001b[0;34m=\u001b[0m \u001b[0mself\u001b[0m\u001b[0;34m.\u001b[0m\u001b[0m_get_validator\u001b[0m\u001b[0;34m(\u001b[0m\u001b[0mprop\u001b[0m\u001b[0;34m)\u001b[0m\u001b[0;34m\u001b[0m\u001b[0;34m\u001b[0m\u001b[0m\n\u001b[0;32m-> 5281\u001b[0;31m         \u001b[0mval\u001b[0m \u001b[0;34m=\u001b[0m \u001b[0mvalidator\u001b[0m\u001b[0;34m.\u001b[0m\u001b[0mvalidate_coerce\u001b[0m\u001b[0;34m(\u001b[0m\u001b[0mval\u001b[0m\u001b[0;34m,\u001b[0m \u001b[0mskip_invalid\u001b[0m\u001b[0;34m=\u001b[0m\u001b[0mself\u001b[0m\u001b[0;34m.\u001b[0m\u001b[0m_skip_invalid\u001b[0m\u001b[0;34m)\u001b[0m\u001b[0;34m\u001b[0m\u001b[0;34m\u001b[0m\u001b[0m\n\u001b[0m\u001b[1;32m   5282\u001b[0m \u001b[0;34m\u001b[0m\u001b[0m\n\u001b[1;32m   5283\u001b[0m         \u001b[0;31m# Save deep copies of current and new states\u001b[0m\u001b[0;34m\u001b[0m\u001b[0;34m\u001b[0m\u001b[0;34m\u001b[0m\u001b[0m\n",
      "\u001b[0;32m~/anaconda3/lib/python3.7/site-packages/_plotly_utils/basevalidators.py\u001b[0m in \u001b[0;36mvalidate_coerce\u001b[0;34m(self, v, skip_invalid, _validate)\u001b[0m\n\u001b[1;32m   2675\u001b[0m \u001b[0;34m\u001b[0m\u001b[0m\n\u001b[1;32m   2676\u001b[0m             \u001b[0;32mif\u001b[0m \u001b[0minvalid_els\u001b[0m\u001b[0;34m:\u001b[0m\u001b[0;34m\u001b[0m\u001b[0;34m\u001b[0m\u001b[0m\n\u001b[0;32m-> 2677\u001b[0;31m                 \u001b[0mself\u001b[0m\u001b[0;34m.\u001b[0m\u001b[0mraise_invalid_elements\u001b[0m\u001b[0;34m(\u001b[0m\u001b[0minvalid_els\u001b[0m\u001b[0;34m)\u001b[0m\u001b[0;34m\u001b[0m\u001b[0;34m\u001b[0m\u001b[0m\n\u001b[0m\u001b[1;32m   2678\u001b[0m \u001b[0;34m\u001b[0m\u001b[0m\n\u001b[1;32m   2679\u001b[0m             \u001b[0mv\u001b[0m \u001b[0;34m=\u001b[0m \u001b[0mto_scalar_or_list\u001b[0m\u001b[0;34m(\u001b[0m\u001b[0mres\u001b[0m\u001b[0;34m)\u001b[0m\u001b[0;34m\u001b[0m\u001b[0;34m\u001b[0m\u001b[0m\n",
      "\u001b[0;32m~/anaconda3/lib/python3.7/site-packages/_plotly_utils/basevalidators.py\u001b[0m in \u001b[0;36mraise_invalid_elements\u001b[0;34m(self, invalid_els)\u001b[0m\n\u001b[1;32m    300\u001b[0m                     \u001b[0mpname\u001b[0m\u001b[0;34m=\u001b[0m\u001b[0mself\u001b[0m\u001b[0;34m.\u001b[0m\u001b[0mparent_name\u001b[0m\u001b[0;34m,\u001b[0m\u001b[0;34m\u001b[0m\u001b[0;34m\u001b[0m\u001b[0m\n\u001b[1;32m    301\u001b[0m                     \u001b[0minvalid\u001b[0m\u001b[0;34m=\u001b[0m\u001b[0minvalid_els\u001b[0m\u001b[0;34m[\u001b[0m\u001b[0;34m:\u001b[0m\u001b[0;36m10\u001b[0m\u001b[0;34m]\u001b[0m\u001b[0;34m,\u001b[0m\u001b[0;34m\u001b[0m\u001b[0;34m\u001b[0m\u001b[0m\n\u001b[0;32m--> 302\u001b[0;31m                     \u001b[0mvalid_clr_desc\u001b[0m\u001b[0;34m=\u001b[0m\u001b[0mself\u001b[0m\u001b[0;34m.\u001b[0m\u001b[0mdescription\u001b[0m\u001b[0;34m(\u001b[0m\u001b[0;34m)\u001b[0m\u001b[0;34m,\u001b[0m\u001b[0;34m\u001b[0m\u001b[0;34m\u001b[0m\u001b[0m\n\u001b[0m\u001b[1;32m    303\u001b[0m                 )\n\u001b[1;32m    304\u001b[0m             )\n",
      "\u001b[0;31mValueError\u001b[0m: \n    Invalid element(s) received for the 'data' property of frame\n        Invalid elements include: [Figure({\n    'data': [{'line': {'color': '#888', 'width': 0.14014621214042644},\n              'mode': 'lines',\n              'type': 'scatter',\n              'x': [565.0, 25.0],\n              'y': [575.0, 185.0]},\n             {'line': {'color': '#888', 'width': 0.04138614528126772},\n              'mode': 'lines',\n              'type': 'scatter',\n              'x': [565.0, 345.0],\n              'y': [575.0, 750.0]},\n             {'line': {'color': '#888', 'width': 0.3327615779272384},\n              'mode': 'lines',\n              'type': 'scatter',\n              'x': [565.0, 945.0],\n              'y': [575.0, 685.0]},\n             {'line': {'color': '#888', 'width': 0.008834507049529816},\n              'mode': 'lines',\n              'type': 'scatter',\n              'x': [565.0, 845.0],\n              'y': [575.0, 655.0]},\n             {'line': {'color': '#888', 'width': 0.9149797274722425},\n              'mode': 'lines',\n              'type': 'scatter',\n              'x': [565.0, 880.0],\n              'y': [575.0, 660.0]},\n             {'line': {'color': '#888', 'width': 0.5808242513216268},\n              'mode': 'lines',\n              'type': 'scatter',\n              'x': [565.0, 25.0],\n              'y': [575.0, 230.0]},\n             {'line': {'color': '#888', 'width': 0.14911807281039702},\n              'mode': 'lines',\n              'type': 'scatter',\n              'x': [565.0, 525.0],\n              'y': [575.0, 1000.0]},\n             {'line': {'color': '#888', 'width': 0.044945842446909134},\n              'mode': 'lines',\n              'type': 'scatter',\n              'x': [565.0, 580.0],\n              'y': [575.0, 1175.0]},\n             {'line': {'color': '#888', 'width': 0.930886072872414},\n              'mode': 'lines',\n              'type': 'scatter',\n              'x': [565.0, 650.0],\n              'y': [575.0, 1130.0]},\n             {'line': {'color': '#888', 'width': 0.3249535993331393},\n              'mode': 'lines',\n              'type': 'scatter',\n              'x': [25.0, 345.0],\n              'y': [185.0, 750.0]},\n             {'line': {'color': '#888', 'width': 0.9268302273159047},\n              'mode': 'lines',\n              'type': 'scatter',\n              'x': [25.0, 945.0],\n              'y': [185.0, 685.0]},\n             {'line': {'color': '#888', 'width': 0.93053247352208},\n              'mode': 'lines',\n              'type': 'scatter',\n              'x': [25.0, 845.0],\n              'y': [185.0, 655.0]},\n             {'line': {'color': '#888', 'width': 0.1872256557715536},\n              'mode': 'lines',\n              'type': 'scatter',\n              'x': [25.0, 880.0],\n              'y': [185.0, 660.0]},\n             {'line': {'color': '#888', 'width': 0.8772087684828761},\n              'mode': 'lines',\n              'type': 'scatter',\n              'x': [25.0, 25.0],\n              'y': [185.0, 230.0]},\n             {'line': {'color': '#888', 'width': 0.2523059580105037},\n              'mode': 'lines',\n              'type': 'scatter',\n              'x': [25.0, 525.0],\n              'y': [185.0, 1000.0]},\n             {'line': {'color': '#888', 'width': 0.13451858279330786},\n              'mode': 'lines',\n              'type': 'scatter',\n              'x': [25.0, 580.0],\n              'y': [185.0, 1175.0]},\n             {'line': {'color': '#888', 'width': 0.8676335142362195},\n              'mode': 'lines',\n              'type': 'scatter',\n              'x': [25.0, 650.0],\n              'y': [185.0, 1130.0]},\n             {'line': {'color': '#888', 'width': 0.5197266027916111},\n              'mode': 'lines',\n              'type': 'scatter',\n              'x': [345.0, 945.0],\n              'y': [750.0, 685.0]},\n             {'line': {'color': '#888', 'width': 0.01858237163102261},\n              'mode': 'lines',\n              'type': 'scatter',\n              'x': [345.0, 845.0],\n              'y': [750.0, 655.0]},\n             {'line': {'color': '#888', 'width': 0.9844456145155837},\n              'mode': 'lines',\n              'type': 'scatter',\n              'x': [345.0, 880.0],\n              'y': [750.0, 660.0]},\n             {'line': {'color': '#888', 'width': 0.7751216138078928},\n              'mode': 'lines',\n              'type': 'scatter',\n              'x': [345.0, 25.0],\n              'y': [750.0, 230.0]},\n             {'line': {'color': '#888', 'width': 0.47706005085228465},\n              'mode': 'lines',\n              'type': 'scatter',\n              'x': [345.0, 525.0],\n              'y': [750.0, 1000.0]},\n             {'line': {'color': '#888', 'width': 0.1532996961963663},\n              'mode': 'lines',\n              'type': 'scatter',\n              'x': [345.0, 580.0],\n              'y': [750.0, 1175.0]},\n             {'line': {'color': '#888', 'width': 0.8969093321102206},\n              'mode': 'lines',\n              'type': 'scatter',\n              'x': [345.0, 650.0],\n              'y': [750.0, 1130.0]},\n             {'line': {'color': '#888', 'width': 0.17543073765369532},\n              'mode': 'lines',\n              'type': 'scatter',\n              'x': [945.0, 845.0],\n              'y': [685.0, 655.0]},\n             {'line': {'color': '#888', 'width': 0.5363730087648552},\n              'mode': 'lines',\n              'type': 'scatter',\n              'x': [945.0, 880.0],\n              'y': [685.0, 660.0]},\n             {'line': {'color': '#888', 'width': 0.5621444835403069},\n              'mode': 'lines',\n              'type': 'scatter',\n              'x': [945.0, 25.0],\n              'y': [685.0, 230.0]},\n             {'line': {'color': '#888', 'width': 0.16373733551897973},\n              'mode': 'lines',\n              'type': 'scatter',\n              'x': [945.0, 525.0],\n              'y': [685.0, 1000.0]},\n             {'line': {'color': '#888', 'width': 0.10040856160562117},\n              'mode': 'lines',\n              'type': 'scatter',\n              'x': [945.0, 580.0],\n              'y': [685.0, 1175.0]},\n             {'line': {'color': '#888', 'width': 0.9112111689306365},\n              'mode': 'lines',\n              'type': 'scatter',\n              'x': [945.0, 650.0],\n              'y': [685.0, 1130.0]},\n             {'line': {'color': '#888', 'width': 0.7167168893564203},\n              'mode': 'lines',\n              'type': 'scatter',\n              'x': [845.0, 880.0],\n              'y': [655.0, 660.0]},\n             {'line': {'color': '#888', 'width': 0.6773853139005769},\n              'mode': 'lines',\n              'type': 'scatter',\n              'x': [845.0, 25.0],\n              'y': [655.0, 230.0]},\n             {'line': {'color': '#888', 'width': 0.3609417265875483},\n              'mode': 'lines',\n              'type': 'scatter',\n              'x': [845.0, 525.0],\n              'y': [655.0, 1000.0]},\n             {'line': {'color': '#888', 'width': 0.27602747687417073},\n              'mode': 'lines',\n              'type': 'scatter',\n              'x': [845.0, 580.0],\n              'y': [655.0, 1175.0]},\n             {'line': {'color': '#888', 'width': 0.3314840422176065},\n              'mode': 'lines',\n              'type': 'scatter',\n              'x': [845.0, 650.0],\n              'y': [655.0, 1130.0]},\n             {'line': {'color': '#888', 'width': 0.5229447664799209},\n              'mode': 'lines',\n              'type': 'scatter',\n              'x': [880.0, 25.0],\n              'y': [660.0, 230.0]},\n             {'line': {'color': '#888', 'width': 0.7304194692968429},\n              'mode': 'lines',\n              'type': 'scatter',\n              'x': [880.0, 525.0],\n              'y': [660.0, 1000.0]},\n             {'line': {'color': '#888', 'width': 0.15535551695944727},\n              'mode': 'lines',\n              'type': 'scatter',\n              'x': [880.0, 580.0],\n              'y': [660.0, 1175.0]},\n             {'line': {'color': '#888', 'width': 0.668340748802095},\n              'mode': 'lines',\n              'type': 'scatter',\n              'x': [880.0, 650.0],\n              'y': [660.0, 1130.0]},\n             {'line': {'color': '#888', 'width': 0.30253884257150254},\n              'mode': 'lines',\n              'type': 'scatter',\n              'x': [25.0, 525.0],\n              'y': [230.0, 1000.0]},\n             {'line': {'color': '#888', 'width': 0.4054630572382404},\n              'mode': 'lines',\n              'type': 'scatter',\n              'x': [25.0, 580.0],\n              'y': [230.0, 1175.0]},\n             {'line': {'color': '#888', 'width': 0.7808623873134867},\n              'mode': 'lines',\n              'type': 'scatter',\n              'x': [25.0, 650.0],\n              'y': [230.0, 1130.0]},\n             {'line': {'color': '#888', 'width': 0.4819177932349553},\n              'mode': 'lines',\n              'type': 'scatter',\n              'x': [525.0, 580.0],\n              'y': [1000.0, 1175.0]},\n             {'line': {'color': '#888', 'width': 0.06787413950676735},\n              'mode': 'lines',\n              'type': 'scatter',\n              'x': [525.0, 650.0],\n              'y': [1000.0, 1130.0]},\n             {'line': {'color': '#888', 'width': 0.9989058903894402},\n              'mode': 'lines',\n              'type': 'scatter',\n              'x': [580.0, 650.0],\n              'y': [1175.0, 1130.0]}],\n    'layout': {'template': '...'}\n})]\n\n    The 'data' property is a tuple of trace instances\n    that may be specified as:\n      - A list or tuple of trace instances\n        (e.g. [Scatter(...), Bar(...)])\n      - A single trace instance\n        (e.g. Scatter(...), Bar(...), etc.)\n      - A list or tuple of dicts of string/value properties where:\n        - The 'type' property specifies the trace type\n            One of: ['area', 'bar', 'barpolar', 'box',\n                     'candlestick', 'carpet', 'choropleth',\n                     'choroplethmapbox', 'cone', 'contour',\n                     'contourcarpet', 'densitymapbox', 'funnel',\n                     'funnelarea', 'heatmap', 'heatmapgl',\n                     'histogram', 'histogram2d',\n                     'histogram2dcontour', 'image', 'indicator',\n                     'isosurface', 'mesh3d', 'ohlc', 'parcats',\n                     'parcoords', 'pie', 'pointcloud', 'sankey',\n                     'scatter', 'scatter3d', 'scattercarpet',\n                     'scattergeo', 'scattergl', 'scattermapbox',\n                     'scatterpolar', 'scatterpolargl',\n                     'scatterternary', 'splom', 'streamtube',\n                     'sunburst', 'surface', 'table', 'treemap',\n                     'violin', 'volume', 'waterfall']\n\n        - All remaining properties are passed to the constructor of\n          the specified trace type\n\n        (e.g. [{'type': 'scatter', ...}, {'type': 'bar, ...}])"
     ]
    }
   ],
   "source": [
    "animacao = []\n",
    "for _ in range(10):\n",
    "    fig = go.Figure()\n",
    "    for trace in aux:\n",
    "        fig.add_trace(go.Scatter(x=[trace[0][0], trace[1][0]], y=[trace[0][1], trace[1][1]], mode='lines',line=dict(\n",
    "                        color='#888',\n",
    "                        width=np.random.random()\n",
    "                    )))\n",
    "\n",
    "animacao.append(go.Frame(data=fig))"
   ]
  },
  {
   "cell_type": "code",
   "execution_count": 151,
   "id": "1c476421",
   "metadata": {},
   "outputs": [
    {
     "data": {
      "application/vnd.plotly.v1+json": {
       "config": {
        "plotlyServerURL": "https://plot.ly"
       },
       "data": [
        {
         "line": {
          "color": "#888",
          "width": 0.036471657604839725
         },
         "mode": "lines",
         "type": "scatter",
         "x": [
          565,
          25
         ],
         "y": [
          575,
          185
         ]
        },
        {
         "line": {
          "color": "#888",
          "width": 0.9129372534769175
         },
         "mode": "lines",
         "type": "scatter",
         "x": [
          565,
          345
         ],
         "y": [
          575,
          750
         ]
        },
        {
         "line": {
          "color": "#888",
          "width": 0.18308604398311157
         },
         "mode": "lines",
         "type": "scatter",
         "x": [
          565,
          945
         ],
         "y": [
          575,
          685
         ]
        },
        {
         "line": {
          "color": "#888",
          "width": 0.4913074364328558
         },
         "mode": "lines",
         "type": "scatter",
         "x": [
          565,
          845
         ],
         "y": [
          575,
          655
         ]
        },
        {
         "line": {
          "color": "#888",
          "width": 0.5862467922786953
         },
         "mode": "lines",
         "type": "scatter",
         "x": [
          565,
          880
         ],
         "y": [
          575,
          660
         ]
        },
        {
         "line": {
          "color": "#888",
          "width": 0.35604777111186015
         },
         "mode": "lines",
         "type": "scatter",
         "x": [
          565,
          25
         ],
         "y": [
          575,
          230
         ]
        },
        {
         "line": {
          "color": "#888",
          "width": 0.15320062350948482
         },
         "mode": "lines",
         "type": "scatter",
         "x": [
          565,
          525
         ],
         "y": [
          575,
          1000
         ]
        },
        {
         "line": {
          "color": "#888",
          "width": 0.6083655134575505
         },
         "mode": "lines",
         "type": "scatter",
         "x": [
          565,
          580
         ],
         "y": [
          575,
          1175
         ]
        },
        {
         "line": {
          "color": "#888",
          "width": 0.6554623086581589
         },
         "mode": "lines",
         "type": "scatter",
         "x": [
          565,
          650
         ],
         "y": [
          575,
          1130
         ]
        },
        {
         "line": {
          "color": "#888",
          "width": 0.8553613042278626
         },
         "mode": "lines",
         "type": "scatter",
         "x": [
          25,
          345
         ],
         "y": [
          185,
          750
         ]
        },
        {
         "line": {
          "color": "#888",
          "width": 0.40751551806616937
         },
         "mode": "lines",
         "type": "scatter",
         "x": [
          25,
          945
         ],
         "y": [
          185,
          685
         ]
        },
        {
         "line": {
          "color": "#888",
          "width": 0.9789051161711358
         },
         "mode": "lines",
         "type": "scatter",
         "x": [
          25,
          845
         ],
         "y": [
          185,
          655
         ]
        },
        {
         "line": {
          "color": "#888",
          "width": 0.4902723097306172
         },
         "mode": "lines",
         "type": "scatter",
         "x": [
          25,
          880
         ],
         "y": [
          185,
          660
         ]
        },
        {
         "line": {
          "color": "#888",
          "width": 0.6471746057839264
         },
         "mode": "lines",
         "type": "scatter",
         "x": [
          25,
          25
         ],
         "y": [
          185,
          230
         ]
        },
        {
         "line": {
          "color": "#888",
          "width": 0.593801243515957
         },
         "mode": "lines",
         "type": "scatter",
         "x": [
          25,
          525
         ],
         "y": [
          185,
          1000
         ]
        },
        {
         "line": {
          "color": "#888",
          "width": 0.9540739252262281
         },
         "mode": "lines",
         "type": "scatter",
         "x": [
          25,
          580
         ],
         "y": [
          185,
          1175
         ]
        },
        {
         "line": {
          "color": "#888",
          "width": 0.7721509253378801
         },
         "mode": "lines",
         "type": "scatter",
         "x": [
          25,
          650
         ],
         "y": [
          185,
          1130
         ]
        },
        {
         "line": {
          "color": "#888",
          "width": 0.8614028737289916
         },
         "mode": "lines",
         "type": "scatter",
         "x": [
          345,
          945
         ],
         "y": [
          750,
          685
         ]
        },
        {
         "line": {
          "color": "#888",
          "width": 0.7479200964513097
         },
         "mode": "lines",
         "type": "scatter",
         "x": [
          345,
          845
         ],
         "y": [
          750,
          655
         ]
        },
        {
         "line": {
          "color": "#888",
          "width": 0.2559519086929748
         },
         "mode": "lines",
         "type": "scatter",
         "x": [
          345,
          880
         ],
         "y": [
          750,
          660
         ]
        },
        {
         "line": {
          "color": "#888",
          "width": 0.7791571173842842
         },
         "mode": "lines",
         "type": "scatter",
         "x": [
          345,
          25
         ],
         "y": [
          750,
          230
         ]
        },
        {
         "line": {
          "color": "#888",
          "width": 0.030610266906493155
         },
         "mode": "lines",
         "type": "scatter",
         "x": [
          345,
          525
         ],
         "y": [
          750,
          1000
         ]
        },
        {
         "line": {
          "color": "#888",
          "width": 0.03278784491055031
         },
         "mode": "lines",
         "type": "scatter",
         "x": [
          345,
          580
         ],
         "y": [
          750,
          1175
         ]
        },
        {
         "line": {
          "color": "#888",
          "width": 0.3910823147653435
         },
         "mode": "lines",
         "type": "scatter",
         "x": [
          345,
          650
         ],
         "y": [
          750,
          1130
         ]
        },
        {
         "line": {
          "color": "#888",
          "width": 0.6949022801348446
         },
         "mode": "lines",
         "type": "scatter",
         "x": [
          945,
          845
         ],
         "y": [
          685,
          655
         ]
        },
        {
         "line": {
          "color": "#888",
          "width": 0.7295663004698336
         },
         "mode": "lines",
         "type": "scatter",
         "x": [
          945,
          880
         ],
         "y": [
          685,
          660
         ]
        },
        {
         "line": {
          "color": "#888",
          "width": 0.9727211171287796
         },
         "mode": "lines",
         "type": "scatter",
         "x": [
          945,
          25
         ],
         "y": [
          685,
          230
         ]
        },
        {
         "line": {
          "color": "#888",
          "width": 0.2114700394825687
         },
         "mode": "lines",
         "type": "scatter",
         "x": [
          945,
          525
         ],
         "y": [
          685,
          1000
         ]
        },
        {
         "line": {
          "color": "#888",
          "width": 0.9531893130972803
         },
         "mode": "lines",
         "type": "scatter",
         "x": [
          945,
          580
         ],
         "y": [
          685,
          1175
         ]
        },
        {
         "line": {
          "color": "#888",
          "width": 0.9172810624518533
         },
         "mode": "lines",
         "type": "scatter",
         "x": [
          945,
          650
         ],
         "y": [
          685,
          1130
         ]
        },
        {
         "line": {
          "color": "#888",
          "width": 0.8125594535324107
         },
         "mode": "lines",
         "type": "scatter",
         "x": [
          845,
          880
         ],
         "y": [
          655,
          660
         ]
        },
        {
         "line": {
          "color": "#888",
          "width": 0.3754710506932859
         },
         "mode": "lines",
         "type": "scatter",
         "x": [
          845,
          25
         ],
         "y": [
          655,
          230
         ]
        },
        {
         "line": {
          "color": "#888",
          "width": 0.004904310762074315
         },
         "mode": "lines",
         "type": "scatter",
         "x": [
          845,
          525
         ],
         "y": [
          655,
          1000
         ]
        },
        {
         "line": {
          "color": "#888",
          "width": 0.6299521513301242
         },
         "mode": "lines",
         "type": "scatter",
         "x": [
          845,
          580
         ],
         "y": [
          655,
          1175
         ]
        },
        {
         "line": {
          "color": "#888",
          "width": 0.5659273730704832
         },
         "mode": "lines",
         "type": "scatter",
         "x": [
          845,
          650
         ],
         "y": [
          655,
          1130
         ]
        },
        {
         "line": {
          "color": "#888",
          "width": 0.2322727842628417
         },
         "mode": "lines",
         "type": "scatter",
         "x": [
          880,
          25
         ],
         "y": [
          660,
          230
         ]
        },
        {
         "line": {
          "color": "#888",
          "width": 0.8529377806881873
         },
         "mode": "lines",
         "type": "scatter",
         "x": [
          880,
          525
         ],
         "y": [
          660,
          1000
         ]
        },
        {
         "line": {
          "color": "#888",
          "width": 0.49823023397235544
         },
         "mode": "lines",
         "type": "scatter",
         "x": [
          880,
          580
         ],
         "y": [
          660,
          1175
         ]
        },
        {
         "line": {
          "color": "#888",
          "width": 0.8440662076586757
         },
         "mode": "lines",
         "type": "scatter",
         "x": [
          880,
          650
         ],
         "y": [
          660,
          1130
         ]
        },
        {
         "line": {
          "color": "#888",
          "width": 0.02348884292226283
         },
         "mode": "lines",
         "type": "scatter",
         "x": [
          25,
          525
         ],
         "y": [
          230,
          1000
         ]
        },
        {
         "line": {
          "color": "#888",
          "width": 0.5240489015996876
         },
         "mode": "lines",
         "type": "scatter",
         "x": [
          25,
          580
         ],
         "y": [
          230,
          1175
         ]
        },
        {
         "line": {
          "color": "#888",
          "width": 0.6369694842958478
         },
         "mode": "lines",
         "type": "scatter",
         "x": [
          25,
          650
         ],
         "y": [
          230,
          1130
         ]
        },
        {
         "line": {
          "color": "#888",
          "width": 0.09939883189442089
         },
         "mode": "lines",
         "type": "scatter",
         "x": [
          525,
          580
         ],
         "y": [
          1000,
          1175
         ]
        },
        {
         "line": {
          "color": "#888",
          "width": 0.17853971983322114
         },
         "mode": "lines",
         "type": "scatter",
         "x": [
          525,
          650
         ],
         "y": [
          1000,
          1130
         ]
        },
        {
         "line": {
          "color": "#888",
          "width": 0.3172868214914555
         },
         "mode": "lines",
         "type": "scatter",
         "x": [
          580,
          650
         ],
         "y": [
          1175,
          1130
         ]
        }
       ],
       "layout": {
        "autosize": true,
        "template": {
         "data": {
          "bar": [
           {
            "error_x": {
             "color": "#2a3f5f"
            },
            "error_y": {
             "color": "#2a3f5f"
            },
            "marker": {
             "line": {
              "color": "#E5ECF6",
              "width": 0.5
             }
            },
            "type": "bar"
           }
          ],
          "barpolar": [
           {
            "marker": {
             "line": {
              "color": "#E5ECF6",
              "width": 0.5
             }
            },
            "type": "barpolar"
           }
          ],
          "carpet": [
           {
            "aaxis": {
             "endlinecolor": "#2a3f5f",
             "gridcolor": "white",
             "linecolor": "white",
             "minorgridcolor": "white",
             "startlinecolor": "#2a3f5f"
            },
            "baxis": {
             "endlinecolor": "#2a3f5f",
             "gridcolor": "white",
             "linecolor": "white",
             "minorgridcolor": "white",
             "startlinecolor": "#2a3f5f"
            },
            "type": "carpet"
           }
          ],
          "choropleth": [
           {
            "colorbar": {
             "outlinewidth": 0,
             "ticks": ""
            },
            "type": "choropleth"
           }
          ],
          "contour": [
           {
            "colorbar": {
             "outlinewidth": 0,
             "ticks": ""
            },
            "colorscale": [
             [
              0,
              "#0d0887"
             ],
             [
              0.1111111111111111,
              "#46039f"
             ],
             [
              0.2222222222222222,
              "#7201a8"
             ],
             [
              0.3333333333333333,
              "#9c179e"
             ],
             [
              0.4444444444444444,
              "#bd3786"
             ],
             [
              0.5555555555555556,
              "#d8576b"
             ],
             [
              0.6666666666666666,
              "#ed7953"
             ],
             [
              0.7777777777777778,
              "#fb9f3a"
             ],
             [
              0.8888888888888888,
              "#fdca26"
             ],
             [
              1,
              "#f0f921"
             ]
            ],
            "type": "contour"
           }
          ],
          "contourcarpet": [
           {
            "colorbar": {
             "outlinewidth": 0,
             "ticks": ""
            },
            "type": "contourcarpet"
           }
          ],
          "heatmap": [
           {
            "colorbar": {
             "outlinewidth": 0,
             "ticks": ""
            },
            "colorscale": [
             [
              0,
              "#0d0887"
             ],
             [
              0.1111111111111111,
              "#46039f"
             ],
             [
              0.2222222222222222,
              "#7201a8"
             ],
             [
              0.3333333333333333,
              "#9c179e"
             ],
             [
              0.4444444444444444,
              "#bd3786"
             ],
             [
              0.5555555555555556,
              "#d8576b"
             ],
             [
              0.6666666666666666,
              "#ed7953"
             ],
             [
              0.7777777777777778,
              "#fb9f3a"
             ],
             [
              0.8888888888888888,
              "#fdca26"
             ],
             [
              1,
              "#f0f921"
             ]
            ],
            "type": "heatmap"
           }
          ],
          "heatmapgl": [
           {
            "colorbar": {
             "outlinewidth": 0,
             "ticks": ""
            },
            "colorscale": [
             [
              0,
              "#0d0887"
             ],
             [
              0.1111111111111111,
              "#46039f"
             ],
             [
              0.2222222222222222,
              "#7201a8"
             ],
             [
              0.3333333333333333,
              "#9c179e"
             ],
             [
              0.4444444444444444,
              "#bd3786"
             ],
             [
              0.5555555555555556,
              "#d8576b"
             ],
             [
              0.6666666666666666,
              "#ed7953"
             ],
             [
              0.7777777777777778,
              "#fb9f3a"
             ],
             [
              0.8888888888888888,
              "#fdca26"
             ],
             [
              1,
              "#f0f921"
             ]
            ],
            "type": "heatmapgl"
           }
          ],
          "histogram": [
           {
            "marker": {
             "colorbar": {
              "outlinewidth": 0,
              "ticks": ""
             }
            },
            "type": "histogram"
           }
          ],
          "histogram2d": [
           {
            "colorbar": {
             "outlinewidth": 0,
             "ticks": ""
            },
            "colorscale": [
             [
              0,
              "#0d0887"
             ],
             [
              0.1111111111111111,
              "#46039f"
             ],
             [
              0.2222222222222222,
              "#7201a8"
             ],
             [
              0.3333333333333333,
              "#9c179e"
             ],
             [
              0.4444444444444444,
              "#bd3786"
             ],
             [
              0.5555555555555556,
              "#d8576b"
             ],
             [
              0.6666666666666666,
              "#ed7953"
             ],
             [
              0.7777777777777778,
              "#fb9f3a"
             ],
             [
              0.8888888888888888,
              "#fdca26"
             ],
             [
              1,
              "#f0f921"
             ]
            ],
            "type": "histogram2d"
           }
          ],
          "histogram2dcontour": [
           {
            "colorbar": {
             "outlinewidth": 0,
             "ticks": ""
            },
            "colorscale": [
             [
              0,
              "#0d0887"
             ],
             [
              0.1111111111111111,
              "#46039f"
             ],
             [
              0.2222222222222222,
              "#7201a8"
             ],
             [
              0.3333333333333333,
              "#9c179e"
             ],
             [
              0.4444444444444444,
              "#bd3786"
             ],
             [
              0.5555555555555556,
              "#d8576b"
             ],
             [
              0.6666666666666666,
              "#ed7953"
             ],
             [
              0.7777777777777778,
              "#fb9f3a"
             ],
             [
              0.8888888888888888,
              "#fdca26"
             ],
             [
              1,
              "#f0f921"
             ]
            ],
            "type": "histogram2dcontour"
           }
          ],
          "mesh3d": [
           {
            "colorbar": {
             "outlinewidth": 0,
             "ticks": ""
            },
            "type": "mesh3d"
           }
          ],
          "parcoords": [
           {
            "line": {
             "colorbar": {
              "outlinewidth": 0,
              "ticks": ""
             }
            },
            "type": "parcoords"
           }
          ],
          "pie": [
           {
            "automargin": true,
            "type": "pie"
           }
          ],
          "scatter": [
           {
            "marker": {
             "colorbar": {
              "outlinewidth": 0,
              "ticks": ""
             }
            },
            "type": "scatter"
           }
          ],
          "scatter3d": [
           {
            "line": {
             "colorbar": {
              "outlinewidth": 0,
              "ticks": ""
             }
            },
            "marker": {
             "colorbar": {
              "outlinewidth": 0,
              "ticks": ""
             }
            },
            "type": "scatter3d"
           }
          ],
          "scattercarpet": [
           {
            "marker": {
             "colorbar": {
              "outlinewidth": 0,
              "ticks": ""
             }
            },
            "type": "scattercarpet"
           }
          ],
          "scattergeo": [
           {
            "marker": {
             "colorbar": {
              "outlinewidth": 0,
              "ticks": ""
             }
            },
            "type": "scattergeo"
           }
          ],
          "scattergl": [
           {
            "marker": {
             "colorbar": {
              "outlinewidth": 0,
              "ticks": ""
             }
            },
            "type": "scattergl"
           }
          ],
          "scattermapbox": [
           {
            "marker": {
             "colorbar": {
              "outlinewidth": 0,
              "ticks": ""
             }
            },
            "type": "scattermapbox"
           }
          ],
          "scatterpolar": [
           {
            "marker": {
             "colorbar": {
              "outlinewidth": 0,
              "ticks": ""
             }
            },
            "type": "scatterpolar"
           }
          ],
          "scatterpolargl": [
           {
            "marker": {
             "colorbar": {
              "outlinewidth": 0,
              "ticks": ""
             }
            },
            "type": "scatterpolargl"
           }
          ],
          "scatterternary": [
           {
            "marker": {
             "colorbar": {
              "outlinewidth": 0,
              "ticks": ""
             }
            },
            "type": "scatterternary"
           }
          ],
          "surface": [
           {
            "colorbar": {
             "outlinewidth": 0,
             "ticks": ""
            },
            "colorscale": [
             [
              0,
              "#0d0887"
             ],
             [
              0.1111111111111111,
              "#46039f"
             ],
             [
              0.2222222222222222,
              "#7201a8"
             ],
             [
              0.3333333333333333,
              "#9c179e"
             ],
             [
              0.4444444444444444,
              "#bd3786"
             ],
             [
              0.5555555555555556,
              "#d8576b"
             ],
             [
              0.6666666666666666,
              "#ed7953"
             ],
             [
              0.7777777777777778,
              "#fb9f3a"
             ],
             [
              0.8888888888888888,
              "#fdca26"
             ],
             [
              1,
              "#f0f921"
             ]
            ],
            "type": "surface"
           }
          ],
          "table": [
           {
            "cells": {
             "fill": {
              "color": "#EBF0F8"
             },
             "line": {
              "color": "white"
             }
            },
            "header": {
             "fill": {
              "color": "#C8D4E3"
             },
             "line": {
              "color": "white"
             }
            },
            "type": "table"
           }
          ]
         },
         "layout": {
          "annotationdefaults": {
           "arrowcolor": "#2a3f5f",
           "arrowhead": 0,
           "arrowwidth": 1
          },
          "autotypenumbers": "strict",
          "coloraxis": {
           "colorbar": {
            "outlinewidth": 0,
            "ticks": ""
           }
          },
          "colorscale": {
           "diverging": [
            [
             0,
             "#8e0152"
            ],
            [
             0.1,
             "#c51b7d"
            ],
            [
             0.2,
             "#de77ae"
            ],
            [
             0.3,
             "#f1b6da"
            ],
            [
             0.4,
             "#fde0ef"
            ],
            [
             0.5,
             "#f7f7f7"
            ],
            [
             0.6,
             "#e6f5d0"
            ],
            [
             0.7,
             "#b8e186"
            ],
            [
             0.8,
             "#7fbc41"
            ],
            [
             0.9,
             "#4d9221"
            ],
            [
             1,
             "#276419"
            ]
           ],
           "sequential": [
            [
             0,
             "#0d0887"
            ],
            [
             0.1111111111111111,
             "#46039f"
            ],
            [
             0.2222222222222222,
             "#7201a8"
            ],
            [
             0.3333333333333333,
             "#9c179e"
            ],
            [
             0.4444444444444444,
             "#bd3786"
            ],
            [
             0.5555555555555556,
             "#d8576b"
            ],
            [
             0.6666666666666666,
             "#ed7953"
            ],
            [
             0.7777777777777778,
             "#fb9f3a"
            ],
            [
             0.8888888888888888,
             "#fdca26"
            ],
            [
             1,
             "#f0f921"
            ]
           ],
           "sequentialminus": [
            [
             0,
             "#0d0887"
            ],
            [
             0.1111111111111111,
             "#46039f"
            ],
            [
             0.2222222222222222,
             "#7201a8"
            ],
            [
             0.3333333333333333,
             "#9c179e"
            ],
            [
             0.4444444444444444,
             "#bd3786"
            ],
            [
             0.5555555555555556,
             "#d8576b"
            ],
            [
             0.6666666666666666,
             "#ed7953"
            ],
            [
             0.7777777777777778,
             "#fb9f3a"
            ],
            [
             0.8888888888888888,
             "#fdca26"
            ],
            [
             1,
             "#f0f921"
            ]
           ]
          },
          "colorway": [
           "#636efa",
           "#EF553B",
           "#00cc96",
           "#ab63fa",
           "#FFA15A",
           "#19d3f3",
           "#FF6692",
           "#B6E880",
           "#FF97FF",
           "#FECB52"
          ],
          "font": {
           "color": "#2a3f5f"
          },
          "geo": {
           "bgcolor": "white",
           "lakecolor": "white",
           "landcolor": "#E5ECF6",
           "showlakes": true,
           "showland": true,
           "subunitcolor": "white"
          },
          "hoverlabel": {
           "align": "left"
          },
          "hovermode": "closest",
          "mapbox": {
           "style": "light"
          },
          "paper_bgcolor": "white",
          "plot_bgcolor": "#E5ECF6",
          "polar": {
           "angularaxis": {
            "gridcolor": "white",
            "linecolor": "white",
            "ticks": ""
           },
           "bgcolor": "#E5ECF6",
           "radialaxis": {
            "gridcolor": "white",
            "linecolor": "white",
            "ticks": ""
           }
          },
          "scene": {
           "xaxis": {
            "backgroundcolor": "#E5ECF6",
            "gridcolor": "white",
            "gridwidth": 2,
            "linecolor": "white",
            "showbackground": true,
            "ticks": "",
            "zerolinecolor": "white"
           },
           "yaxis": {
            "backgroundcolor": "#E5ECF6",
            "gridcolor": "white",
            "gridwidth": 2,
            "linecolor": "white",
            "showbackground": true,
            "ticks": "",
            "zerolinecolor": "white"
           },
           "zaxis": {
            "backgroundcolor": "#E5ECF6",
            "gridcolor": "white",
            "gridwidth": 2,
            "linecolor": "white",
            "showbackground": true,
            "ticks": "",
            "zerolinecolor": "white"
           }
          },
          "shapedefaults": {
           "line": {
            "color": "#2a3f5f"
           }
          },
          "ternary": {
           "aaxis": {
            "gridcolor": "white",
            "linecolor": "white",
            "ticks": ""
           },
           "baxis": {
            "gridcolor": "white",
            "linecolor": "white",
            "ticks": ""
           },
           "bgcolor": "#E5ECF6",
           "caxis": {
            "gridcolor": "white",
            "linecolor": "white",
            "ticks": ""
           }
          },
          "title": {
           "x": 0.05
          },
          "xaxis": {
           "automargin": true,
           "gridcolor": "white",
           "linecolor": "white",
           "ticks": "",
           "title": {
            "standoff": 15
           },
           "zerolinecolor": "white",
           "zerolinewidth": 2
          },
          "yaxis": {
           "automargin": true,
           "gridcolor": "white",
           "linecolor": "white",
           "ticks": "",
           "title": {
            "standoff": 15
           },
           "zerolinecolor": "white",
           "zerolinewidth": 2
          }
         }
        },
        "xaxis": {
         "autorange": true,
         "range": [
          25,
          945
         ],
         "type": "linear"
        },
        "yaxis": {
         "autorange": true,
         "range": [
          130,
          1230
         ],
         "type": "linear"
        }
       }
      },
      "image/png": "[encoded data removed]",
      "text/html": [
       "<div>                            <div id=\"d59563a3-e835-4f47-908e-64b72a9a1340\" class=\"plotly-graph-div\" style=\"height:525px; width:100%;\"></div>            <script type=\"text/javascript\">                require([\"plotly\"], function(Plotly) {                    window.PLOTLYENV=window.PLOTLYENV || {};                                    if (document.getElementById(\"d59563a3-e835-4f47-908e-64b72a9a1340\")) {                    Plotly.newPlot(                        \"d59563a3-e835-4f47-908e-64b72a9a1340\",                        [{\"line\": {\"color\": \"#888\", \"width\": 0.036471657604839725}, \"mode\": \"lines\", \"type\": \"scatter\", \"x\": [565.0, 25.0], \"y\": [575.0, 185.0]}, {\"line\": {\"color\": \"#888\", \"width\": 0.9129372534769175}, \"mode\": \"lines\", \"type\": \"scatter\", \"x\": [565.0, 345.0], \"y\": [575.0, 750.0]}, {\"line\": {\"color\": \"#888\", \"width\": 0.18308604398311157}, \"mode\": \"lines\", \"type\": \"scatter\", \"x\": [565.0, 945.0], \"y\": [575.0, 685.0]}, {\"line\": {\"color\": \"#888\", \"width\": 0.4913074364328558}, \"mode\": \"lines\", \"type\": \"scatter\", \"x\": [565.0, 845.0], \"y\": [575.0, 655.0]}, {\"line\": {\"color\": \"#888\", \"width\": 0.5862467922786953}, \"mode\": \"lines\", \"type\": \"scatter\", \"x\": [565.0, 880.0], \"y\": [575.0, 660.0]}, {\"line\": {\"color\": \"#888\", \"width\": 0.35604777111186015}, \"mode\": \"lines\", \"type\": \"scatter\", \"x\": [565.0, 25.0], \"y\": [575.0, 230.0]}, {\"line\": {\"color\": \"#888\", \"width\": 0.15320062350948482}, \"mode\": \"lines\", \"type\": \"scatter\", \"x\": [565.0, 525.0], \"y\": [575.0, 1000.0]}, {\"line\": {\"color\": \"#888\", \"width\": 0.6083655134575505}, \"mode\": \"lines\", \"type\": \"scatter\", \"x\": [565.0, 580.0], \"y\": [575.0, 1175.0]}, {\"line\": {\"color\": \"#888\", \"width\": 0.6554623086581589}, \"mode\": \"lines\", \"type\": \"scatter\", \"x\": [565.0, 650.0], \"y\": [575.0, 1130.0]}, {\"line\": {\"color\": \"#888\", \"width\": 0.8553613042278626}, \"mode\": \"lines\", \"type\": \"scatter\", \"x\": [25.0, 345.0], \"y\": [185.0, 750.0]}, {\"line\": {\"color\": \"#888\", \"width\": 0.40751551806616937}, \"mode\": \"lines\", \"type\": \"scatter\", \"x\": [25.0, 945.0], \"y\": [185.0, 685.0]}, {\"line\": {\"color\": \"#888\", \"width\": 0.9789051161711358}, \"mode\": \"lines\", \"type\": \"scatter\", \"x\": [25.0, 845.0], \"y\": [185.0, 655.0]}, {\"line\": {\"color\": \"#888\", \"width\": 0.4902723097306172}, \"mode\": \"lines\", \"type\": \"scatter\", \"x\": [25.0, 880.0], \"y\": [185.0, 660.0]}, {\"line\": {\"color\": \"#888\", \"width\": 0.6471746057839264}, \"mode\": \"lines\", \"type\": \"scatter\", \"x\": [25.0, 25.0], \"y\": [185.0, 230.0]}, {\"line\": {\"color\": \"#888\", \"width\": 0.593801243515957}, \"mode\": \"lines\", \"type\": \"scatter\", \"x\": [25.0, 525.0], \"y\": [185.0, 1000.0]}, {\"line\": {\"color\": \"#888\", \"width\": 0.9540739252262281}, \"mode\": \"lines\", \"type\": \"scatter\", \"x\": [25.0, 580.0], \"y\": [185.0, 1175.0]}, {\"line\": {\"color\": \"#888\", \"width\": 0.7721509253378801}, \"mode\": \"lines\", \"type\": \"scatter\", \"x\": [25.0, 650.0], \"y\": [185.0, 1130.0]}, {\"line\": {\"color\": \"#888\", \"width\": 0.8614028737289916}, \"mode\": \"lines\", \"type\": \"scatter\", \"x\": [345.0, 945.0], \"y\": [750.0, 685.0]}, {\"line\": {\"color\": \"#888\", \"width\": 0.7479200964513097}, \"mode\": \"lines\", \"type\": \"scatter\", \"x\": [345.0, 845.0], \"y\": [750.0, 655.0]}, {\"line\": {\"color\": \"#888\", \"width\": 0.2559519086929748}, \"mode\": \"lines\", \"type\": \"scatter\", \"x\": [345.0, 880.0], \"y\": [750.0, 660.0]}, {\"line\": {\"color\": \"#888\", \"width\": 0.7791571173842842}, \"mode\": \"lines\", \"type\": \"scatter\", \"x\": [345.0, 25.0], \"y\": [750.0, 230.0]}, {\"line\": {\"color\": \"#888\", \"width\": 0.030610266906493155}, \"mode\": \"lines\", \"type\": \"scatter\", \"x\": [345.0, 525.0], \"y\": [750.0, 1000.0]}, {\"line\": {\"color\": \"#888\", \"width\": 0.03278784491055031}, \"mode\": \"lines\", \"type\": \"scatter\", \"x\": [345.0, 580.0], \"y\": [750.0, 1175.0]}, {\"line\": {\"color\": \"#888\", \"width\": 0.3910823147653435}, \"mode\": \"lines\", \"type\": \"scatter\", \"x\": [345.0, 650.0], \"y\": [750.0, 1130.0]}, {\"line\": {\"color\": \"#888\", \"width\": 0.6949022801348446}, \"mode\": \"lines\", \"type\": \"scatter\", \"x\": [945.0, 845.0], \"y\": [685.0, 655.0]}, {\"line\": {\"color\": \"#888\", \"width\": 0.7295663004698336}, \"mode\": \"lines\", \"type\": \"scatter\", \"x\": [945.0, 880.0], \"y\": [685.0, 660.0]}, {\"line\": {\"color\": \"#888\", \"width\": 0.9727211171287796}, \"mode\": \"lines\", \"type\": \"scatter\", \"x\": [945.0, 25.0], \"y\": [685.0, 230.0]}, {\"line\": {\"color\": \"#888\", \"width\": 0.2114700394825687}, \"mode\": \"lines\", \"type\": \"scatter\", \"x\": [945.0, 525.0], \"y\": [685.0, 1000.0]}, {\"line\": {\"color\": \"#888\", \"width\": 0.9531893130972803}, \"mode\": \"lines\", \"type\": \"scatter\", \"x\": [945.0, 580.0], \"y\": [685.0, 1175.0]}, {\"line\": {\"color\": \"#888\", \"width\": 0.9172810624518533}, \"mode\": \"lines\", \"type\": \"scatter\", \"x\": [945.0, 650.0], \"y\": [685.0, 1130.0]}, {\"line\": {\"color\": \"#888\", \"width\": 0.8125594535324107}, \"mode\": \"lines\", \"type\": \"scatter\", \"x\": [845.0, 880.0], \"y\": [655.0, 660.0]}, {\"line\": {\"color\": \"#888\", \"width\": 0.3754710506932859}, \"mode\": \"lines\", \"type\": \"scatter\", \"x\": [845.0, 25.0], \"y\": [655.0, 230.0]}, {\"line\": {\"color\": \"#888\", \"width\": 0.004904310762074315}, \"mode\": \"lines\", \"type\": \"scatter\", \"x\": [845.0, 525.0], \"y\": [655.0, 1000.0]}, {\"line\": {\"color\": \"#888\", \"width\": 0.6299521513301242}, \"mode\": \"lines\", \"type\": \"scatter\", \"x\": [845.0, 580.0], \"y\": [655.0, 1175.0]}, {\"line\": {\"color\": \"#888\", \"width\": 0.5659273730704832}, \"mode\": \"lines\", \"type\": \"scatter\", \"x\": [845.0, 650.0], \"y\": [655.0, 1130.0]}, {\"line\": {\"color\": \"#888\", \"width\": 0.2322727842628417}, \"mode\": \"lines\", \"type\": \"scatter\", \"x\": [880.0, 25.0], \"y\": [660.0, 230.0]}, {\"line\": {\"color\": \"#888\", \"width\": 0.8529377806881873}, \"mode\": \"lines\", \"type\": \"scatter\", \"x\": [880.0, 525.0], \"y\": [660.0, 1000.0]}, {\"line\": {\"color\": \"#888\", \"width\": 0.49823023397235544}, \"mode\": \"lines\", \"type\": \"scatter\", \"x\": [880.0, 580.0], \"y\": [660.0, 1175.0]}, {\"line\": {\"color\": \"#888\", \"width\": 0.8440662076586757}, \"mode\": \"lines\", \"type\": \"scatter\", \"x\": [880.0, 650.0], \"y\": [660.0, 1130.0]}, {\"line\": {\"color\": \"#888\", \"width\": 0.02348884292226283}, \"mode\": \"lines\", \"type\": \"scatter\", \"x\": [25.0, 525.0], \"y\": [230.0, 1000.0]}, {\"line\": {\"color\": \"#888\", \"width\": 0.5240489015996876}, \"mode\": \"lines\", \"type\": \"scatter\", \"x\": [25.0, 580.0], \"y\": [230.0, 1175.0]}, {\"line\": {\"color\": \"#888\", \"width\": 0.6369694842958478}, \"mode\": \"lines\", \"type\": \"scatter\", \"x\": [25.0, 650.0], \"y\": [230.0, 1130.0]}, {\"line\": {\"color\": \"#888\", \"width\": 0.09939883189442089}, \"mode\": \"lines\", \"type\": \"scatter\", \"x\": [525.0, 580.0], \"y\": [1000.0, 1175.0]}, {\"line\": {\"color\": \"#888\", \"width\": 0.17853971983322114}, \"mode\": \"lines\", \"type\": \"scatter\", \"x\": [525.0, 650.0], \"y\": [1000.0, 1130.0]}, {\"line\": {\"color\": \"#888\", \"width\": 0.3172868214914555}, \"mode\": \"lines\", \"type\": \"scatter\", \"x\": [580.0, 650.0], \"y\": [1175.0, 1130.0]}],                        {\"template\": {\"data\": {\"bar\": [{\"error_x\": {\"color\": \"#2a3f5f\"}, \"error_y\": {\"color\": \"#2a3f5f\"}, \"marker\": {\"line\": {\"color\": \"#E5ECF6\", \"width\": 0.5}}, \"type\": \"bar\"}], \"barpolar\": [{\"marker\": {\"line\": {\"color\": \"#E5ECF6\", \"width\": 0.5}}, \"type\": \"barpolar\"}], \"carpet\": [{\"aaxis\": {\"endlinecolor\": \"#2a3f5f\", \"gridcolor\": \"white\", \"linecolor\": \"white\", \"minorgridcolor\": \"white\", \"startlinecolor\": \"#2a3f5f\"}, \"baxis\": {\"endlinecolor\": \"#2a3f5f\", \"gridcolor\": \"white\", \"linecolor\": \"white\", \"minorgridcolor\": \"white\", \"startlinecolor\": \"#2a3f5f\"}, \"type\": \"carpet\"}], \"choropleth\": [{\"colorbar\": {\"outlinewidth\": 0, \"ticks\": \"\"}, \"type\": \"choropleth\"}], \"contour\": [{\"colorbar\": {\"outlinewidth\": 0, \"ticks\": \"\"}, \"colorscale\": [[0.0, \"#0d0887\"], [0.1111111111111111, \"#46039f\"], [0.2222222222222222, \"#7201a8\"], [0.3333333333333333, \"#9c179e\"], [0.4444444444444444, \"#bd3786\"], [0.5555555555555556, \"#d8576b\"], [0.6666666666666666, \"#ed7953\"], [0.7777777777777778, \"#fb9f3a\"], [0.8888888888888888, \"#fdca26\"], [1.0, \"#f0f921\"]], \"type\": \"contour\"}], \"contourcarpet\": [{\"colorbar\": {\"outlinewidth\": 0, \"ticks\": \"\"}, \"type\": \"contourcarpet\"}], \"heatmap\": [{\"colorbar\": {\"outlinewidth\": 0, \"ticks\": \"\"}, \"colorscale\": [[0.0, \"#0d0887\"], [0.1111111111111111, \"#46039f\"], [0.2222222222222222, \"#7201a8\"], [0.3333333333333333, \"#9c179e\"], [0.4444444444444444, \"#bd3786\"], [0.5555555555555556, \"#d8576b\"], [0.6666666666666666, \"#ed7953\"], [0.7777777777777778, \"#fb9f3a\"], [0.8888888888888888, \"#fdca26\"], [1.0, \"#f0f921\"]], \"type\": \"heatmap\"}], \"heatmapgl\": [{\"colorbar\": {\"outlinewidth\": 0, \"ticks\": \"\"}, \"colorscale\": [[0.0, \"#0d0887\"], [0.1111111111111111, \"#46039f\"], [0.2222222222222222, \"#7201a8\"], [0.3333333333333333, \"#9c179e\"], [0.4444444444444444, \"#bd3786\"], [0.5555555555555556, \"#d8576b\"], [0.6666666666666666, \"#ed7953\"], [0.7777777777777778, \"#fb9f3a\"], [0.8888888888888888, \"#fdca26\"], [1.0, \"#f0f921\"]], \"type\": \"heatmapgl\"}], \"histogram\": [{\"marker\": {\"colorbar\": {\"outlinewidth\": 0, \"ticks\": \"\"}}, \"type\": \"histogram\"}], \"histogram2d\": [{\"colorbar\": {\"outlinewidth\": 0, \"ticks\": \"\"}, \"colorscale\": [[0.0, \"#0d0887\"], [0.1111111111111111, \"#46039f\"], [0.2222222222222222, \"#7201a8\"], [0.3333333333333333, \"#9c179e\"], [0.4444444444444444, \"#bd3786\"], [0.5555555555555556, \"#d8576b\"], [0.6666666666666666, \"#ed7953\"], [0.7777777777777778, \"#fb9f3a\"], [0.8888888888888888, \"#fdca26\"], [1.0, \"#f0f921\"]], \"type\": \"histogram2d\"}], \"histogram2dcontour\": [{\"colorbar\": {\"outlinewidth\": 0, \"ticks\": \"\"}, \"colorscale\": [[0.0, \"#0d0887\"], [0.1111111111111111, \"#46039f\"], [0.2222222222222222, \"#7201a8\"], [0.3333333333333333, \"#9c179e\"], [0.4444444444444444, \"#bd3786\"], [0.5555555555555556, \"#d8576b\"], [0.6666666666666666, \"#ed7953\"], [0.7777777777777778, \"#fb9f3a\"], [0.8888888888888888, \"#fdca26\"], [1.0, \"#f0f921\"]], \"type\": \"histogram2dcontour\"}], \"mesh3d\": [{\"colorbar\": {\"outlinewidth\": 0, \"ticks\": \"\"}, \"type\": \"mesh3d\"}], \"parcoords\": [{\"line\": {\"colorbar\": {\"outlinewidth\": 0, \"ticks\": \"\"}}, \"type\": \"parcoords\"}], \"pie\": [{\"automargin\": true, \"type\": \"pie\"}], \"scatter\": [{\"marker\": {\"colorbar\": {\"outlinewidth\": 0, \"ticks\": \"\"}}, \"type\": \"scatter\"}], \"scatter3d\": [{\"line\": {\"colorbar\": {\"outlinewidth\": 0, \"ticks\": \"\"}}, \"marker\": {\"colorbar\": {\"outlinewidth\": 0, \"ticks\": \"\"}}, \"type\": \"scatter3d\"}], \"scattercarpet\": [{\"marker\": {\"colorbar\": {\"outlinewidth\": 0, \"ticks\": \"\"}}, \"type\": \"scattercarpet\"}], \"scattergeo\": [{\"marker\": {\"colorbar\": {\"outlinewidth\": 0, \"ticks\": \"\"}}, \"type\": \"scattergeo\"}], \"scattergl\": [{\"marker\": {\"colorbar\": {\"outlinewidth\": 0, \"ticks\": \"\"}}, \"type\": \"scattergl\"}], \"scattermapbox\": [{\"marker\": {\"colorbar\": {\"outlinewidth\": 0, \"ticks\": \"\"}}, \"type\": \"scattermapbox\"}], \"scatterpolar\": [{\"marker\": {\"colorbar\": {\"outlinewidth\": 0, \"ticks\": \"\"}}, \"type\": \"scatterpolar\"}], \"scatterpolargl\": [{\"marker\": {\"colorbar\": {\"outlinewidth\": 0, \"ticks\": \"\"}}, \"type\": \"scatterpolargl\"}], \"scatterternary\": [{\"marker\": {\"colorbar\": {\"outlinewidth\": 0, \"ticks\": \"\"}}, \"type\": \"scatterternary\"}], \"surface\": [{\"colorbar\": {\"outlinewidth\": 0, \"ticks\": \"\"}, \"colorscale\": [[0.0, \"#0d0887\"], [0.1111111111111111, \"#46039f\"], [0.2222222222222222, \"#7201a8\"], [0.3333333333333333, \"#9c179e\"], [0.4444444444444444, \"#bd3786\"], [0.5555555555555556, \"#d8576b\"], [0.6666666666666666, \"#ed7953\"], [0.7777777777777778, \"#fb9f3a\"], [0.8888888888888888, \"#fdca26\"], [1.0, \"#f0f921\"]], \"type\": \"surface\"}], \"table\": [{\"cells\": {\"fill\": {\"color\": \"#EBF0F8\"}, \"line\": {\"color\": \"white\"}}, \"header\": {\"fill\": {\"color\": \"#C8D4E3\"}, \"line\": {\"color\": \"white\"}}, \"type\": \"table\"}]}, \"layout\": {\"annotationdefaults\": {\"arrowcolor\": \"#2a3f5f\", \"arrowhead\": 0, \"arrowwidth\": 1}, \"autotypenumbers\": \"strict\", \"coloraxis\": {\"colorbar\": {\"outlinewidth\": 0, \"ticks\": \"\"}}, \"colorscale\": {\"diverging\": [[0, \"#8e0152\"], [0.1, \"#c51b7d\"], [0.2, \"#de77ae\"], [0.3, \"#f1b6da\"], [0.4, \"#fde0ef\"], [0.5, \"#f7f7f7\"], [0.6, \"#e6f5d0\"], [0.7, \"#b8e186\"], [0.8, \"#7fbc41\"], [0.9, \"#4d9221\"], [1, \"#276419\"]], \"sequential\": [[0.0, \"#0d0887\"], [0.1111111111111111, \"#46039f\"], [0.2222222222222222, \"#7201a8\"], [0.3333333333333333, \"#9c179e\"], [0.4444444444444444, \"#bd3786\"], [0.5555555555555556, \"#d8576b\"], [0.6666666666666666, \"#ed7953\"], [0.7777777777777778, \"#fb9f3a\"], [0.8888888888888888, \"#fdca26\"], [1.0, \"#f0f921\"]], \"sequentialminus\": [[0.0, \"#0d0887\"], [0.1111111111111111, \"#46039f\"], [0.2222222222222222, \"#7201a8\"], [0.3333333333333333, \"#9c179e\"], [0.4444444444444444, \"#bd3786\"], [0.5555555555555556, \"#d8576b\"], [0.6666666666666666, \"#ed7953\"], [0.7777777777777778, \"#fb9f3a\"], [0.8888888888888888, \"#fdca26\"], [1.0, \"#f0f921\"]]}, \"colorway\": [\"#636efa\", \"#EF553B\", \"#00cc96\", \"#ab63fa\", \"#FFA15A\", \"#19d3f3\", \"#FF6692\", \"#B6E880\", \"#FF97FF\", \"#FECB52\"], \"font\": {\"color\": \"#2a3f5f\"}, \"geo\": {\"bgcolor\": \"white\", \"lakecolor\": \"white\", \"landcolor\": \"#E5ECF6\", \"showlakes\": true, \"showland\": true, \"subunitcolor\": \"white\"}, \"hoverlabel\": {\"align\": \"left\"}, \"hovermode\": \"closest\", \"mapbox\": {\"style\": \"light\"}, \"paper_bgcolor\": \"white\", \"plot_bgcolor\": \"#E5ECF6\", \"polar\": {\"angularaxis\": {\"gridcolor\": \"white\", \"linecolor\": \"white\", \"ticks\": \"\"}, \"bgcolor\": \"#E5ECF6\", \"radialaxis\": {\"gridcolor\": \"white\", \"linecolor\": \"white\", \"ticks\": \"\"}}, \"scene\": {\"xaxis\": {\"backgroundcolor\": \"#E5ECF6\", \"gridcolor\": \"white\", \"gridwidth\": 2, \"linecolor\": \"white\", \"showbackground\": true, \"ticks\": \"\", \"zerolinecolor\": \"white\"}, \"yaxis\": {\"backgroundcolor\": \"#E5ECF6\", \"gridcolor\": \"white\", \"gridwidth\": 2, \"linecolor\": \"white\", \"showbackground\": true, \"ticks\": \"\", \"zerolinecolor\": \"white\"}, \"zaxis\": {\"backgroundcolor\": \"#E5ECF6\", \"gridcolor\": \"white\", \"gridwidth\": 2, \"linecolor\": \"white\", \"showbackground\": true, \"ticks\": \"\", \"zerolinecolor\": \"white\"}}, \"shapedefaults\": {\"line\": {\"color\": \"#2a3f5f\"}}, \"ternary\": {\"aaxis\": {\"gridcolor\": \"white\", \"linecolor\": \"white\", \"ticks\": \"\"}, \"baxis\": {\"gridcolor\": \"white\", \"linecolor\": \"white\", \"ticks\": \"\"}, \"bgcolor\": \"#E5ECF6\", \"caxis\": {\"gridcolor\": \"white\", \"linecolor\": \"white\", \"ticks\": \"\"}}, \"title\": {\"x\": 0.05}, \"xaxis\": {\"automargin\": true, \"gridcolor\": \"white\", \"linecolor\": \"white\", \"ticks\": \"\", \"title\": {\"standoff\": 15}, \"zerolinecolor\": \"white\", \"zerolinewidth\": 2}, \"yaxis\": {\"automargin\": true, \"gridcolor\": \"white\", \"linecolor\": \"white\", \"ticks\": \"\", \"title\": {\"standoff\": 15}, \"zerolinecolor\": \"white\", \"zerolinewidth\": 2}}}},                        {\"responsive\": true}                    ).then(function(){\n",
       "                            \n",
       "var gd = document.getElementById('d59563a3-e835-4f47-908e-64b72a9a1340');\n",
       "var x = new MutationObserver(function (mutations, observer) {{\n",
       "        var display = window.getComputedStyle(gd).display;\n",
       "        if (!display || display === 'none') {{\n",
       "            console.log([gd, 'removed!']);\n",
       "            Plotly.purge(gd);\n",
       "            observer.disconnect();\n",
       "        }}\n",
       "}});\n",
       "\n",
       "// Listen for the removal of the full notebook cells\n",
       "var notebookContainer = gd.closest('#notebook-container');\n",
       "if (notebookContainer) {{\n",
       "    x.observe(notebookContainer, {childList: true});\n",
       "}}\n",
       "\n",
       "// Listen for the clearing of the current output cell\n",
       "var outputEl = gd.closest('.output');\n",
       "if (outputEl) {{\n",
       "    x.observe(outputEl, {childList: true});\n",
       "}}\n",
       "\n",
       "                        })                };                });            </script>        </div>"
      ]
     },
     "metadata": {},
     "output_type": "display_data"
    }
   ],
   "source": [
    "fig.show()"
   ]
  },
  {
   "cell_type": "code",
   "execution_count": 111,
   "id": "cb1b1cd4",
   "metadata": {},
   "outputs": [
    {
     "data": {
      "application/vnd.plotly.v1+json": {
       "config": {
        "plotlyServerURL": "https://plot.ly"
       },
       "data": [
        {
         "hoverinfo": "none",
         "line": {
          "color": "#888",
          "width": 1
         },
         "mode": "lines",
         "type": "scatter",
         "x": [
          565,
          25,
          565,
          345,
          565,
          945,
          565,
          845,
          565,
          880,
          565,
          25,
          565,
          525,
          565,
          580,
          565,
          650,
          565,
          1605,
          565,
          1220,
          565,
          1465,
          565,
          1530,
          565,
          845,
          565,
          725,
          565,
          145,
          565,
          415,
          565,
          510,
          565,
          560,
          565,
          300,
          565,
          520,
          565,
          480,
          565,
          835,
          565,
          975,
          565,
          1215,
          565,
          1320,
          565,
          1250,
          565,
          660,
          565,
          410,
          565,
          420,
          565,
          575,
          565,
          1150,
          565,
          700,
          565,
          685,
          565,
          685,
          565,
          770,
          565,
          795,
          565,
          720,
          565,
          760,
          565,
          475,
          565,
          95,
          565,
          875,
          565,
          700,
          565,
          555,
          565,
          830,
          565,
          1170,
          565,
          830,
          565,
          605,
          565,
          595,
          565,
          1340,
          565,
          1740,
          25,
          345,
          25,
          945,
          25,
          845,
          25,
          880,
          25,
          25,
          25,
          525,
          25,
          580,
          25,
          650,
          25,
          1605,
          25,
          1220,
          25,
          1465,
          25,
          1530,
          25,
          845,
          25,
          725,
          25,
          145,
          25,
          415,
          25,
          510,
          25,
          560,
          25,
          300,
          25,
          520,
          25,
          480,
          25,
          835,
          25,
          975,
          25,
          1215,
          25,
          1320,
          25,
          1250,
          25,
          660,
          25,
          410,
          25,
          420,
          25,
          575,
          25,
          1150,
          25,
          700,
          25,
          685,
          25,
          685,
          25,
          770,
          25,
          795,
          25,
          720,
          25,
          760,
          25,
          475,
          25,
          95,
          25,
          875,
          25,
          700,
          25,
          555,
          25,
          830,
          25,
          1170,
          25,
          830,
          25,
          605,
          25,
          595,
          25,
          1340,
          25,
          1740,
          345,
          945,
          345,
          845,
          345,
          880,
          345,
          25,
          345,
          525,
          345,
          580,
          345,
          650,
          345,
          1605,
          345,
          1220,
          345,
          1465,
          345,
          1530,
          345,
          845,
          345,
          725,
          345,
          145,
          345,
          415,
          345,
          510,
          345,
          560,
          345,
          300,
          345,
          520,
          345,
          480,
          345,
          835,
          345,
          975,
          345,
          1215,
          345,
          1320,
          345,
          1250,
          345,
          660,
          345,
          410,
          345,
          420,
          345,
          575,
          345,
          1150,
          345,
          700,
          345,
          685,
          345,
          685,
          345,
          770,
          345,
          795,
          345,
          720,
          345,
          760,
          345,
          475,
          345,
          95,
          345,
          875,
          345,
          700,
          345,
          555,
          345,
          830,
          345,
          1170,
          345,
          830,
          345,
          605,
          345,
          595,
          345,
          1340,
          345,
          1740,
          945,
          845,
          945,
          880,
          945,
          25,
          945,
          525,
          945,
          580,
          945,
          650,
          945,
          1605,
          945,
          1220,
          945,
          1465,
          945,
          1530,
          945,
          845,
          945,
          725,
          945,
          145,
          945,
          415,
          945,
          510,
          945,
          560,
          945,
          300,
          945,
          520,
          945,
          480,
          945,
          835,
          945,
          975,
          945,
          1215,
          945,
          1320,
          945,
          1250,
          945,
          660,
          945,
          410,
          945,
          420,
          945,
          575,
          945,
          1150,
          945,
          700,
          945,
          685,
          945,
          685,
          945,
          770,
          945,
          795,
          945,
          720,
          945,
          760,
          945,
          475,
          945,
          95,
          945,
          875,
          945,
          700,
          945,
          555,
          945,
          830,
          945,
          1170,
          945,
          830,
          945,
          605,
          945,
          595,
          945,
          1340,
          945,
          1740,
          845,
          880,
          845,
          25,
          845,
          525,
          845,
          580,
          845,
          650,
          845,
          1605,
          845,
          1220,
          845,
          1465,
          845,
          1530,
          845,
          845,
          845,
          725,
          845,
          145,
          845,
          415,
          845,
          510,
          845,
          560,
          845,
          300,
          845,
          520,
          845,
          480,
          845,
          835,
          845,
          975,
          845,
          1215,
          845,
          1320,
          845,
          1250,
          845,
          660,
          845,
          410,
          845,
          420,
          845,
          575,
          845,
          1150,
          845,
          700,
          845,
          685,
          845,
          685,
          845,
          770,
          845,
          795,
          845,
          720,
          845,
          760,
          845,
          475,
          845,
          95,
          845,
          875,
          845,
          700,
          845,
          555,
          845,
          830,
          845,
          1170,
          845,
          830,
          845,
          605,
          845,
          595,
          845,
          1340,
          845,
          1740,
          880,
          25,
          880,
          525,
          880,
          580,
          880,
          650,
          880,
          1605,
          880,
          1220,
          880,
          1465,
          880,
          1530,
          880,
          845,
          880,
          725,
          880,
          145,
          880,
          415,
          880,
          510,
          880,
          560,
          880,
          300,
          880,
          520,
          880,
          480,
          880,
          835,
          880,
          975,
          880,
          1215,
          880,
          1320,
          880,
          1250,
          880,
          660,
          880,
          410,
          880,
          420,
          880,
          575,
          880,
          1150,
          880,
          700,
          880,
          685,
          880,
          685,
          880,
          770,
          880,
          795,
          880,
          720,
          880,
          760,
          880,
          475,
          880,
          95,
          880,
          875,
          880,
          700,
          880,
          555,
          880,
          830,
          880,
          1170,
          880,
          830,
          880,
          605,
          880,
          595,
          880,
          1340,
          880,
          1740,
          25,
          525,
          25,
          580,
          25,
          650,
          25,
          1605,
          25,
          1220,
          25,
          1465,
          25,
          1530,
          25,
          845,
          25,
          725,
          25,
          145,
          25,
          415,
          25,
          510,
          25,
          560,
          25,
          300,
          25,
          520,
          25,
          480,
          25,
          835,
          25,
          975,
          25,
          1215,
          25,
          1320,
          25,
          1250,
          25,
          660,
          25,
          410,
          25,
          420,
          25,
          575,
          25,
          1150,
          25,
          700,
          25,
          685,
          25,
          685,
          25,
          770,
          25,
          795,
          25,
          720,
          25,
          760,
          25,
          475,
          25,
          95,
          25,
          875,
          25,
          700,
          25,
          555,
          25,
          830,
          25,
          1170,
          25,
          830,
          25,
          605,
          25,
          595,
          25,
          1340,
          25,
          1740,
          525,
          580,
          525,
          650,
          525,
          1605,
          525,
          1220,
          525,
          1465,
          525,
          1530,
          525,
          845,
          525,
          725,
          525,
          145,
          525,
          415,
          525,
          510,
          525,
          560,
          525,
          300,
          525,
          520,
          525,
          480,
          525,
          835,
          525,
          975,
          525,
          1215,
          525,
          1320,
          525,
          1250,
          525,
          660,
          525,
          410,
          525,
          420,
          525,
          575,
          525,
          1150,
          525,
          700,
          525,
          685,
          525,
          685,
          525,
          770,
          525,
          795,
          525,
          720,
          525,
          760,
          525,
          475,
          525,
          95,
          525,
          875,
          525,
          700,
          525,
          555,
          525,
          830,
          525,
          1170,
          525,
          830,
          525,
          605,
          525,
          595,
          525,
          1340,
          525,
          1740,
          580,
          650,
          580,
          1605,
          580,
          1220,
          580,
          1465,
          580,
          1530,
          580,
          845,
          580,
          725,
          580,
          145,
          580,
          415,
          580,
          510,
          580,
          560,
          580,
          300,
          580,
          520,
          580,
          480,
          580,
          835,
          580,
          975,
          580,
          1215,
          580,
          1320,
          580,
          1250,
          580,
          660,
          580,
          410,
          580,
          420,
          580,
          575,
          580,
          1150,
          580,
          700,
          580,
          685,
          580,
          685,
          580,
          770,
          580,
          795,
          580,
          720,
          580,
          760,
          580,
          475,
          580,
          95,
          580,
          875,
          580,
          700,
          580,
          555,
          580,
          830,
          580,
          1170,
          580,
          830,
          580,
          605,
          580,
          595,
          580,
          1340,
          580,
          1740,
          650,
          1605,
          650,
          1220,
          650,
          1465,
          650,
          1530,
          650,
          845,
          650,
          725,
          650,
          145,
          650,
          415,
          650,
          510,
          650,
          560,
          650,
          300,
          650,
          520,
          650,
          480,
          650,
          835,
          650,
          975,
          650,
          1215,
          650,
          1320,
          650,
          1250,
          650,
          660,
          650,
          410,
          650,
          420,
          650,
          575,
          650,
          1150,
          650,
          700,
          650,
          685,
          650,
          685,
          650,
          770,
          650,
          795,
          650,
          720,
          650,
          760,
          650,
          475,
          650,
          95,
          650,
          875,
          650,
          700,
          650,
          555,
          650,
          830,
          650,
          1170,
          650,
          830,
          650,
          605,
          650,
          595,
          650,
          1340,
          650,
          1740,
          1605,
          1220,
          1605,
          1465,
          1605,
          1530,
          1605,
          845,
          1605,
          725,
          1605,
          145,
          1605,
          415,
          1605,
          510,
          1605,
          560,
          1605,
          300,
          1605,
          520,
          1605,
          480,
          1605,
          835,
          1605,
          975,
          1605,
          1215,
          1605,
          1320,
          1605,
          1250,
          1605,
          660,
          1605,
          410,
          1605,
          420,
          1605,
          575,
          1605,
          1150,
          1605,
          700,
          1605,
          685,
          1605,
          685,
          1605,
          770,
          1605,
          795,
          1605,
          720,
          1605,
          760,
          1605,
          475,
          1605,
          95,
          1605,
          875,
          1605,
          700,
          1605,
          555,
          1605,
          830,
          1605,
          1170,
          1605,
          830,
          1605,
          605,
          1605,
          595,
          1605,
          1340,
          1605,
          1740,
          1220,
          1465,
          1220,
          1530,
          1220,
          845,
          1220,
          725,
          1220,
          145,
          1220,
          415,
          1220,
          510,
          1220,
          560,
          1220,
          300,
          1220,
          520,
          1220,
          480,
          1220,
          835,
          1220,
          975,
          1220,
          1215,
          1220,
          1320,
          1220,
          1250,
          1220,
          660,
          1220,
          410,
          1220,
          420,
          1220,
          575,
          1220,
          1150,
          1220,
          700,
          1220,
          685,
          1220,
          685,
          1220,
          770,
          1220,
          795,
          1220,
          720,
          1220,
          760,
          1220,
          475,
          1220,
          95,
          1220,
          875,
          1220,
          700,
          1220,
          555,
          1220,
          830,
          1220,
          1170,
          1220,
          830,
          1220,
          605,
          1220,
          595,
          1220,
          1340,
          1220,
          1740,
          1465,
          1530,
          1465,
          845,
          1465,
          725,
          1465,
          145,
          1465,
          415,
          1465,
          510,
          1465,
          560,
          1465,
          300,
          1465,
          520,
          1465,
          480,
          1465,
          835,
          1465,
          975,
          1465,
          1215,
          1465,
          1320,
          1465,
          1250,
          1465,
          660,
          1465,
          410,
          1465,
          420,
          1465,
          575,
          1465,
          1150,
          1465,
          700,
          1465,
          685,
          1465,
          685,
          1465,
          770,
          1465,
          795,
          1465,
          720,
          1465,
          760,
          1465,
          475,
          1465,
          95,
          1465,
          875,
          1465,
          700,
          1465,
          555,
          1465,
          830,
          1465,
          1170,
          1465,
          830,
          1465,
          605,
          1465,
          595,
          1465,
          1340,
          1465,
          1740,
          1530,
          845,
          1530,
          725,
          1530,
          145,
          1530,
          415,
          1530,
          510,
          1530,
          560,
          1530,
          300,
          1530,
          520,
          1530,
          480,
          1530,
          835,
          1530,
          975,
          1530,
          1215,
          1530,
          1320,
          1530,
          1250,
          1530,
          660,
          1530,
          410,
          1530,
          420,
          1530,
          575,
          1530,
          1150,
          1530,
          700,
          1530,
          685,
          1530,
          685,
          1530,
          770,
          1530,
          795,
          1530,
          720,
          1530,
          760,
          1530,
          475,
          1530,
          95,
          1530,
          875,
          1530,
          700,
          1530,
          555,
          1530,
          830,
          1530,
          1170,
          1530,
          830,
          1530,
          605,
          1530,
          595,
          1530,
          1340,
          1530,
          1740,
          845,
          725,
          845,
          145,
          845,
          415,
          845,
          510,
          845,
          560,
          845,
          300,
          845,
          520,
          845,
          480,
          845,
          835,
          845,
          975,
          845,
          1215,
          845,
          1320,
          845,
          1250,
          845,
          660,
          845,
          410,
          845,
          420,
          845,
          575,
          845,
          1150,
          845,
          700,
          845,
          685,
          845,
          685,
          845,
          770,
          845,
          795,
          845,
          720,
          845,
          760,
          845,
          475,
          845,
          95,
          845,
          875,
          845,
          700,
          845,
          555,
          845,
          830,
          845,
          1170,
          845,
          830,
          845,
          605,
          845,
          595,
          845,
          1340,
          845,
          1740,
          725,
          145,
          725,
          415,
          725,
          510,
          725,
          560,
          725,
          300,
          725,
          520,
          725,
          480,
          725,
          835,
          725,
          975,
          725,
          1215,
          725,
          1320,
          725,
          1250,
          725,
          660,
          725,
          410,
          725,
          420,
          725,
          575,
          725,
          1150,
          725,
          700,
          725,
          685,
          725,
          685,
          725,
          770,
          725,
          795,
          725,
          720,
          725,
          760,
          725,
          475,
          725,
          95,
          725,
          875,
          725,
          700,
          725,
          555,
          725,
          830,
          725,
          1170,
          725,
          830,
          725,
          605,
          725,
          595,
          725,
          1340,
          725,
          1740,
          145,
          415,
          145,
          510,
          145,
          560,
          145,
          300,
          145,
          520,
          145,
          480,
          145,
          835,
          145,
          975,
          145,
          1215,
          145,
          1320,
          145,
          1250,
          145,
          660,
          145,
          410,
          145,
          420,
          145,
          575,
          145,
          1150,
          145,
          700,
          145,
          685,
          145,
          685,
          145,
          770,
          145,
          795,
          145,
          720,
          145,
          760,
          145,
          475,
          145,
          95,
          145,
          875,
          145,
          700,
          145,
          555,
          145,
          830,
          145,
          1170,
          145,
          830,
          145,
          605,
          145,
          595,
          145,
          1340,
          145,
          1740,
          415,
          510,
          415,
          560,
          415,
          300,
          415,
          520,
          415,
          480,
          415,
          835,
          415,
          975,
          415,
          1215,
          415,
          1320,
          415,
          1250,
          415,
          660,
          415,
          410,
          415,
          420,
          415,
          575,
          415,
          1150,
          415,
          700,
          415,
          685,
          415,
          685,
          415,
          770,
          415,
          795,
          415,
          720,
          415,
          760,
          415,
          475,
          415,
          95,
          415,
          875,
          415,
          700,
          415,
          555,
          415,
          830,
          415,
          1170,
          415,
          830,
          415,
          605,
          415,
          595,
          415,
          1340,
          415,
          1740,
          510,
          560,
          510,
          300,
          510,
          520,
          510,
          480,
          510,
          835,
          510,
          975,
          510,
          1215,
          510,
          1320,
          510,
          1250,
          510,
          660,
          510,
          410,
          510,
          420,
          510,
          575,
          510,
          1150,
          510,
          700,
          510,
          685,
          510,
          685,
          510,
          770,
          510,
          795,
          510,
          720,
          510,
          760,
          510,
          475,
          510,
          95,
          510,
          875,
          510,
          700,
          510,
          555,
          510,
          830,
          510,
          1170,
          510,
          830,
          510,
          605,
          510,
          595,
          510,
          1340,
          510,
          1740,
          560,
          300,
          560,
          520,
          560,
          480,
          560,
          835,
          560,
          975,
          560,
          1215,
          560,
          1320,
          560,
          1250,
          560,
          660,
          560,
          410,
          560,
          420,
          560,
          575,
          560,
          1150,
          560,
          700,
          560,
          685,
          560,
          685,
          560,
          770,
          560,
          795,
          560,
          720,
          560,
          760,
          560,
          475,
          560,
          95,
          560,
          875,
          560,
          700,
          560,
          555,
          560,
          830,
          560,
          1170,
          560,
          830,
          560,
          605,
          560,
          595,
          560,
          1340,
          560,
          1740,
          300,
          520,
          300,
          480,
          300,
          835,
          300,
          975,
          300,
          1215,
          300,
          1320,
          300,
          1250,
          300,
          660,
          300,
          410,
          300,
          420,
          300,
          575,
          300,
          1150,
          300,
          700,
          300,
          685,
          300,
          685,
          300,
          770,
          300,
          795,
          300,
          720,
          300,
          760,
          300,
          475,
          300,
          95,
          300,
          875,
          300,
          700,
          300,
          555,
          300,
          830,
          300,
          1170,
          300,
          830,
          300,
          605,
          300,
          595,
          300,
          1340,
          300,
          1740,
          520,
          480,
          520,
          835,
          520,
          975,
          520,
          1215,
          520,
          1320,
          520,
          1250,
          520,
          660,
          520,
          410,
          520,
          420,
          520,
          575,
          520,
          1150,
          520,
          700,
          520,
          685,
          520,
          685,
          520,
          770,
          520,
          795,
          520,
          720,
          520,
          760,
          520,
          475,
          520,
          95,
          520,
          875,
          520,
          700,
          520,
          555,
          520,
          830,
          520,
          1170,
          520,
          830,
          520,
          605,
          520,
          595,
          520,
          1340,
          520,
          1740,
          480,
          835,
          480,
          975,
          480,
          1215,
          480,
          1320,
          480,
          1250,
          480,
          660,
          480,
          410,
          480,
          420,
          480,
          575,
          480,
          1150,
          480,
          700,
          480,
          685,
          480,
          685,
          480,
          770,
          480,
          795,
          480,
          720,
          480,
          760,
          480,
          475,
          480,
          95,
          480,
          875,
          480,
          700,
          480,
          555,
          480,
          830,
          480,
          1170,
          480,
          830,
          480,
          605,
          480,
          595,
          480,
          1340,
          480,
          1740,
          835,
          975,
          835,
          1215,
          835,
          1320,
          835,
          1250,
          835,
          660,
          835,
          410,
          835,
          420,
          835,
          575,
          835,
          1150,
          835,
          700,
          835,
          685,
          835,
          685,
          835,
          770,
          835,
          795,
          835,
          720,
          835,
          760,
          835,
          475,
          835,
          95,
          835,
          875,
          835,
          700,
          835,
          555,
          835,
          830,
          835,
          1170,
          835,
          830,
          835,
          605,
          835,
          595,
          835,
          1340,
          835,
          1740,
          975,
          1215,
          975,
          1320,
          975,
          1250,
          975,
          660,
          975,
          410,
          975,
          420,
          975,
          575,
          975,
          1150,
          975,
          700,
          975,
          685,
          975,
          685,
          975,
          770,
          975,
          795,
          975,
          720,
          975,
          760,
          975,
          475,
          975,
          95,
          975,
          875,
          975,
          700,
          975,
          555,
          975,
          830,
          975,
          1170,
          975,
          830,
          975,
          605,
          975,
          595,
          975,
          1340,
          975,
          1740,
          1215,
          1320,
          1215,
          1250,
          1215,
          660,
          1215,
          410,
          1215,
          420,
          1215,
          575,
          1215,
          1150,
          1215,
          700,
          1215,
          685,
          1215,
          685,
          1215,
          770,
          1215,
          795,
          1215,
          720,
          1215,
          760,
          1215,
          475,
          1215,
          95,
          1215,
          875,
          1215,
          700,
          1215,
          555,
          1215,
          830,
          1215,
          1170,
          1215,
          830,
          1215,
          605,
          1215,
          595,
          1215,
          1340,
          1215,
          1740,
          1320,
          1250,
          1320,
          660,
          1320,
          410,
          1320,
          420,
          1320,
          575,
          1320,
          1150,
          1320,
          700,
          1320,
          685,
          1320,
          685,
          1320,
          770,
          1320,
          795,
          1320,
          720,
          1320,
          760,
          1320,
          475,
          1320,
          95,
          1320,
          875,
          1320,
          700,
          1320,
          555,
          1320,
          830,
          1320,
          1170,
          1320,
          830,
          1320,
          605,
          1320,
          595,
          1320,
          1340,
          1320,
          1740,
          1250,
          660,
          1250,
          410,
          1250,
          420,
          1250,
          575,
          1250,
          1150,
          1250,
          700,
          1250,
          685,
          1250,
          685,
          1250,
          770,
          1250,
          795,
          1250,
          720,
          1250,
          760,
          1250,
          475,
          1250,
          95,
          1250,
          875,
          1250,
          700,
          1250,
          555,
          1250,
          830,
          1250,
          1170,
          1250,
          830,
          1250,
          605,
          1250,
          595,
          1250,
          1340,
          1250,
          1740,
          660,
          410,
          660,
          420,
          660,
          575,
          660,
          1150,
          660,
          700,
          660,
          685,
          660,
          685,
          660,
          770,
          660,
          795,
          660,
          720,
          660,
          760,
          660,
          475,
          660,
          95,
          660,
          875,
          660,
          700,
          660,
          555,
          660,
          830,
          660,
          1170,
          660,
          830,
          660,
          605,
          660,
          595,
          660,
          1340,
          660,
          1740,
          410,
          420,
          410,
          575,
          410,
          1150,
          410,
          700,
          410,
          685,
          410,
          685,
          410,
          770,
          410,
          795,
          410,
          720,
          410,
          760,
          410,
          475,
          410,
          95,
          410,
          875,
          410,
          700,
          410,
          555,
          410,
          830,
          410,
          1170,
          410,
          830,
          410,
          605,
          410,
          595,
          410,
          1340,
          410,
          1740,
          420,
          575,
          420,
          1150,
          420,
          700,
          420,
          685,
          420,
          685,
          420,
          770,
          420,
          795,
          420,
          720,
          420,
          760,
          420,
          475,
          420,
          95,
          420,
          875,
          420,
          700,
          420,
          555,
          420,
          830,
          420,
          1170,
          420,
          830,
          420,
          605,
          420,
          595,
          420,
          1340,
          420,
          1740,
          575,
          1150,
          575,
          700,
          575,
          685,
          575,
          685,
          575,
          770,
          575,
          795,
          575,
          720,
          575,
          760,
          575,
          475,
          575,
          95,
          575,
          875,
          575,
          700,
          575,
          555,
          575,
          830,
          575,
          1170,
          575,
          830,
          575,
          605,
          575,
          595,
          575,
          1340,
          575,
          1740,
          1150,
          700,
          1150,
          685,
          1150,
          685,
          1150,
          770,
          1150,
          795,
          1150,
          720,
          1150,
          760,
          1150,
          475,
          1150,
          95,
          1150,
          875,
          1150,
          700,
          1150,
          555,
          1150,
          830,
          1150,
          1170,
          1150,
          830,
          1150,
          605,
          1150,
          595,
          1150,
          1340,
          1150,
          1740,
          700,
          685,
          700,
          685,
          700,
          770,
          700,
          795,
          700,
          720,
          700,
          760,
          700,
          475,
          700,
          95,
          700,
          875,
          700,
          700,
          700,
          555,
          700,
          830,
          700,
          1170,
          700,
          830,
          700,
          605,
          700,
          595,
          700,
          1340,
          700,
          1740,
          685,
          685,
          685,
          770,
          685,
          795,
          685,
          720,
          685,
          760,
          685,
          475,
          685,
          95,
          685,
          875,
          685,
          700,
          685,
          555,
          685,
          830,
          685,
          1170,
          685,
          830,
          685,
          605,
          685,
          595,
          685,
          1340,
          685,
          1740,
          685,
          770,
          685,
          795,
          685,
          720,
          685,
          760,
          685,
          475,
          685,
          95,
          685,
          875,
          685,
          700,
          685,
          555,
          685,
          830,
          685,
          1170,
          685,
          830,
          685,
          605,
          685,
          595,
          685,
          1340,
          685,
          1740,
          770,
          795,
          770,
          720,
          770,
          760,
          770,
          475,
          770,
          95,
          770,
          875,
          770,
          700,
          770,
          555,
          770,
          830,
          770,
          1170,
          770,
          830,
          770,
          605,
          770,
          595,
          770,
          1340,
          770,
          1740,
          795,
          720,
          795,
          760,
          795,
          475,
          795,
          95,
          795,
          875,
          795,
          700,
          795,
          555,
          795,
          830,
          795,
          1170,
          795,
          830,
          795,
          605,
          795,
          595,
          795,
          1340,
          795,
          1740,
          720,
          760,
          720,
          475,
          720,
          95,
          720,
          875,
          720,
          700,
          720,
          555,
          720,
          830,
          720,
          1170,
          720,
          830,
          720,
          605,
          720,
          595,
          720,
          1340,
          720,
          1740,
          760,
          475,
          760,
          95,
          760,
          875,
          760,
          700,
          760,
          555,
          760,
          830,
          760,
          1170,
          760,
          830,
          760,
          605,
          760,
          595,
          760,
          1340,
          760,
          1740,
          475,
          95,
          475,
          875,
          475,
          700,
          475,
          555,
          475,
          830,
          475,
          1170,
          475,
          830,
          475,
          605,
          475,
          595,
          475,
          1340,
          475,
          1740,
          95,
          875,
          95,
          700,
          95,
          555,
          95,
          830,
          95,
          1170,
          95,
          830,
          95,
          605,
          95,
          595,
          95,
          1340,
          95,
          1740,
          875,
          700,
          875,
          555,
          875,
          830,
          875,
          1170,
          875,
          830,
          875,
          605,
          875,
          595,
          875,
          1340,
          875,
          1740,
          700,
          555,
          700,
          830,
          700,
          1170,
          700,
          830,
          700,
          605,
          700,
          595,
          700,
          1340,
          700,
          1740,
          555,
          830,
          555,
          1170,
          555,
          830,
          555,
          605,
          555,
          595,
          555,
          1340,
          555,
          1740,
          830,
          1170,
          830,
          830,
          830,
          605,
          830,
          595,
          830,
          1340,
          830,
          1740,
          1170,
          830,
          1170,
          605,
          1170,
          595,
          1170,
          1340,
          1170,
          1740,
          830,
          605,
          830,
          595,
          830,
          1340,
          830,
          1740,
          605,
          595,
          605,
          1340,
          605,
          1740,
          595,
          1340,
          595,
          1740,
          1340,
          1740
         ],
         "y": [
          575,
          185,
          575,
          750,
          575,
          685,
          575,
          655,
          575,
          660,
          575,
          230,
          575,
          1000,
          575,
          1175,
          575,
          1130,
          575,
          620,
          575,
          580,
          575,
          200,
          575,
          5,
          575,
          680,
          575,
          370,
          575,
          665,
          575,
          635,
          575,
          875,
          575,
          365,
          575,
          465,
          575,
          585,
          575,
          415,
          575,
          625,
          575,
          580,
          575,
          245,
          575,
          315,
          575,
          400,
          575,
          180,
          575,
          250,
          575,
          555,
          575,
          665,
          575,
          1160,
          575,
          580,
          575,
          595,
          575,
          610,
          575,
          610,
          575,
          645,
          575,
          635,
          575,
          650,
          575,
          960,
          575,
          260,
          575,
          920,
          575,
          500,
          575,
          815,
          575,
          485,
          575,
          65,
          575,
          610,
          575,
          625,
          575,
          360,
          575,
          725,
          575,
          245,
          185,
          750,
          185,
          685,
          185,
          655,
          185,
          660,
          185,
          230,
          185,
          1000,
          185,
          1175,
          185,
          1130,
          185,
          620,
          185,
          580,
          185,
          200,
          185,
          5,
          185,
          680,
          185,
          370,
          185,
          665,
          185,
          635,
          185,
          875,
          185,
          365,
          185,
          465,
          185,
          585,
          185,
          415,
          185,
          625,
          185,
          580,
          185,
          245,
          185,
          315,
          185,
          400,
          185,
          180,
          185,
          250,
          185,
          555,
          185,
          665,
          185,
          1160,
          185,
          580,
          185,
          595,
          185,
          610,
          185,
          610,
          185,
          645,
          185,
          635,
          185,
          650,
          185,
          960,
          185,
          260,
          185,
          920,
          185,
          500,
          185,
          815,
          185,
          485,
          185,
          65,
          185,
          610,
          185,
          625,
          185,
          360,
          185,
          725,
          185,
          245,
          750,
          685,
          750,
          655,
          750,
          660,
          750,
          230,
          750,
          1000,
          750,
          1175,
          750,
          1130,
          750,
          620,
          750,
          580,
          750,
          200,
          750,
          5,
          750,
          680,
          750,
          370,
          750,
          665,
          750,
          635,
          750,
          875,
          750,
          365,
          750,
          465,
          750,
          585,
          750,
          415,
          750,
          625,
          750,
          580,
          750,
          245,
          750,
          315,
          750,
          400,
          750,
          180,
          750,
          250,
          750,
          555,
          750,
          665,
          750,
          1160,
          750,
          580,
          750,
          595,
          750,
          610,
          750,
          610,
          750,
          645,
          750,
          635,
          750,
          650,
          750,
          960,
          750,
          260,
          750,
          920,
          750,
          500,
          750,
          815,
          750,
          485,
          750,
          65,
          750,
          610,
          750,
          625,
          750,
          360,
          750,
          725,
          750,
          245,
          685,
          655,
          685,
          660,
          685,
          230,
          685,
          1000,
          685,
          1175,
          685,
          1130,
          685,
          620,
          685,
          580,
          685,
          200,
          685,
          5,
          685,
          680,
          685,
          370,
          685,
          665,
          685,
          635,
          685,
          875,
          685,
          365,
          685,
          465,
          685,
          585,
          685,
          415,
          685,
          625,
          685,
          580,
          685,
          245,
          685,
          315,
          685,
          400,
          685,
          180,
          685,
          250,
          685,
          555,
          685,
          665,
          685,
          1160,
          685,
          580,
          685,
          595,
          685,
          610,
          685,
          610,
          685,
          645,
          685,
          635,
          685,
          650,
          685,
          960,
          685,
          260,
          685,
          920,
          685,
          500,
          685,
          815,
          685,
          485,
          685,
          65,
          685,
          610,
          685,
          625,
          685,
          360,
          685,
          725,
          685,
          245,
          655,
          660,
          655,
          230,
          655,
          1000,
          655,
          1175,
          655,
          1130,
          655,
          620,
          655,
          580,
          655,
          200,
          655,
          5,
          655,
          680,
          655,
          370,
          655,
          665,
          655,
          635,
          655,
          875,
          655,
          365,
          655,
          465,
          655,
          585,
          655,
          415,
          655,
          625,
          655,
          580,
          655,
          245,
          655,
          315,
          655,
          400,
          655,
          180,
          655,
          250,
          655,
          555,
          655,
          665,
          655,
          1160,
          655,
          580,
          655,
          595,
          655,
          610,
          655,
          610,
          655,
          645,
          655,
          635,
          655,
          650,
          655,
          960,
          655,
          260,
          655,
          920,
          655,
          500,
          655,
          815,
          655,
          485,
          655,
          65,
          655,
          610,
          655,
          625,
          655,
          360,
          655,
          725,
          655,
          245,
          660,
          230,
          660,
          1000,
          660,
          1175,
          660,
          1130,
          660,
          620,
          660,
          580,
          660,
          200,
          660,
          5,
          660,
          680,
          660,
          370,
          660,
          665,
          660,
          635,
          660,
          875,
          660,
          365,
          660,
          465,
          660,
          585,
          660,
          415,
          660,
          625,
          660,
          580,
          660,
          245,
          660,
          315,
          660,
          400,
          660,
          180,
          660,
          250,
          660,
          555,
          660,
          665,
          660,
          1160,
          660,
          580,
          660,
          595,
          660,
          610,
          660,
          610,
          660,
          645,
          660,
          635,
          660,
          650,
          660,
          960,
          660,
          260,
          660,
          920,
          660,
          500,
          660,
          815,
          660,
          485,
          660,
          65,
          660,
          610,
          660,
          625,
          660,
          360,
          660,
          725,
          660,
          245,
          230,
          1000,
          230,
          1175,
          230,
          1130,
          230,
          620,
          230,
          580,
          230,
          200,
          230,
          5,
          230,
          680,
          230,
          370,
          230,
          665,
          230,
          635,
          230,
          875,
          230,
          365,
          230,
          465,
          230,
          585,
          230,
          415,
          230,
          625,
          230,
          580,
          230,
          245,
          230,
          315,
          230,
          400,
          230,
          180,
          230,
          250,
          230,
          555,
          230,
          665,
          230,
          1160,
          230,
          580,
          230,
          595,
          230,
          610,
          230,
          610,
          230,
          645,
          230,
          635,
          230,
          650,
          230,
          960,
          230,
          260,
          230,
          920,
          230,
          500,
          230,
          815,
          230,
          485,
          230,
          65,
          230,
          610,
          230,
          625,
          230,
          360,
          230,
          725,
          230,
          245,
          1000,
          1175,
          1000,
          1130,
          1000,
          620,
          1000,
          580,
          1000,
          200,
          1000,
          5,
          1000,
          680,
          1000,
          370,
          1000,
          665,
          1000,
          635,
          1000,
          875,
          1000,
          365,
          1000,
          465,
          1000,
          585,
          1000,
          415,
          1000,
          625,
          1000,
          580,
          1000,
          245,
          1000,
          315,
          1000,
          400,
          1000,
          180,
          1000,
          250,
          1000,
          555,
          1000,
          665,
          1000,
          1160,
          1000,
          580,
          1000,
          595,
          1000,
          610,
          1000,
          610,
          1000,
          645,
          1000,
          635,
          1000,
          650,
          1000,
          960,
          1000,
          260,
          1000,
          920,
          1000,
          500,
          1000,
          815,
          1000,
          485,
          1000,
          65,
          1000,
          610,
          1000,
          625,
          1000,
          360,
          1000,
          725,
          1000,
          245,
          1175,
          1130,
          1175,
          620,
          1175,
          580,
          1175,
          200,
          1175,
          5,
          1175,
          680,
          1175,
          370,
          1175,
          665,
          1175,
          635,
          1175,
          875,
          1175,
          365,
          1175,
          465,
          1175,
          585,
          1175,
          415,
          1175,
          625,
          1175,
          580,
          1175,
          245,
          1175,
          315,
          1175,
          400,
          1175,
          180,
          1175,
          250,
          1175,
          555,
          1175,
          665,
          1175,
          1160,
          1175,
          580,
          1175,
          595,
          1175,
          610,
          1175,
          610,
          1175,
          645,
          1175,
          635,
          1175,
          650,
          1175,
          960,
          1175,
          260,
          1175,
          920,
          1175,
          500,
          1175,
          815,
          1175,
          485,
          1175,
          65,
          1175,
          610,
          1175,
          625,
          1175,
          360,
          1175,
          725,
          1175,
          245,
          1130,
          620,
          1130,
          580,
          1130,
          200,
          1130,
          5,
          1130,
          680,
          1130,
          370,
          1130,
          665,
          1130,
          635,
          1130,
          875,
          1130,
          365,
          1130,
          465,
          1130,
          585,
          1130,
          415,
          1130,
          625,
          1130,
          580,
          1130,
          245,
          1130,
          315,
          1130,
          400,
          1130,
          180,
          1130,
          250,
          1130,
          555,
          1130,
          665,
          1130,
          1160,
          1130,
          580,
          1130,
          595,
          1130,
          610,
          1130,
          610,
          1130,
          645,
          1130,
          635,
          1130,
          650,
          1130,
          960,
          1130,
          260,
          1130,
          920,
          1130,
          500,
          1130,
          815,
          1130,
          485,
          1130,
          65,
          1130,
          610,
          1130,
          625,
          1130,
          360,
          1130,
          725,
          1130,
          245,
          620,
          580,
          620,
          200,
          620,
          5,
          620,
          680,
          620,
          370,
          620,
          665,
          620,
          635,
          620,
          875,
          620,
          365,
          620,
          465,
          620,
          585,
          620,
          415,
          620,
          625,
          620,
          580,
          620,
          245,
          620,
          315,
          620,
          400,
          620,
          180,
          620,
          250,
          620,
          555,
          620,
          665,
          620,
          1160,
          620,
          580,
          620,
          595,
          620,
          610,
          620,
          610,
          620,
          645,
          620,
          635,
          620,
          650,
          620,
          960,
          620,
          260,
          620,
          920,
          620,
          500,
          620,
          815,
          620,
          485,
          620,
          65,
          620,
          610,
          620,
          625,
          620,
          360,
          620,
          725,
          620,
          245,
          580,
          200,
          580,
          5,
          580,
          680,
          580,
          370,
          580,
          665,
          580,
          635,
          580,
          875,
          580,
          365,
          580,
          465,
          580,
          585,
          580,
          415,
          580,
          625,
          580,
          580,
          580,
          245,
          580,
          315,
          580,
          400,
          580,
          180,
          580,
          250,
          580,
          555,
          580,
          665,
          580,
          1160,
          580,
          580,
          580,
          595,
          580,
          610,
          580,
          610,
          580,
          645,
          580,
          635,
          580,
          650,
          580,
          960,
          580,
          260,
          580,
          920,
          580,
          500,
          580,
          815,
          580,
          485,
          580,
          65,
          580,
          610,
          580,
          625,
          580,
          360,
          580,
          725,
          580,
          245,
          200,
          5,
          200,
          680,
          200,
          370,
          200,
          665,
          200,
          635,
          200,
          875,
          200,
          365,
          200,
          465,
          200,
          585,
          200,
          415,
          200,
          625,
          200,
          580,
          200,
          245,
          200,
          315,
          200,
          400,
          200,
          180,
          200,
          250,
          200,
          555,
          200,
          665,
          200,
          1160,
          200,
          580,
          200,
          595,
          200,
          610,
          200,
          610,
          200,
          645,
          200,
          635,
          200,
          650,
          200,
          960,
          200,
          260,
          200,
          920,
          200,
          500,
          200,
          815,
          200,
          485,
          200,
          65,
          200,
          610,
          200,
          625,
          200,
          360,
          200,
          725,
          200,
          245,
          5,
          680,
          5,
          370,
          5,
          665,
          5,
          635,
          5,
          875,
          5,
          365,
          5,
          465,
          5,
          585,
          5,
          415,
          5,
          625,
          5,
          580,
          5,
          245,
          5,
          315,
          5,
          400,
          5,
          180,
          5,
          250,
          5,
          555,
          5,
          665,
          5,
          1160,
          5,
          580,
          5,
          595,
          5,
          610,
          5,
          610,
          5,
          645,
          5,
          635,
          5,
          650,
          5,
          960,
          5,
          260,
          5,
          920,
          5,
          500,
          5,
          815,
          5,
          485,
          5,
          65,
          5,
          610,
          5,
          625,
          5,
          360,
          5,
          725,
          5,
          245,
          680,
          370,
          680,
          665,
          680,
          635,
          680,
          875,
          680,
          365,
          680,
          465,
          680,
          585,
          680,
          415,
          680,
          625,
          680,
          580,
          680,
          245,
          680,
          315,
          680,
          400,
          680,
          180,
          680,
          250,
          680,
          555,
          680,
          665,
          680,
          1160,
          680,
          580,
          680,
          595,
          680,
          610,
          680,
          610,
          680,
          645,
          680,
          635,
          680,
          650,
          680,
          960,
          680,
          260,
          680,
          920,
          680,
          500,
          680,
          815,
          680,
          485,
          680,
          65,
          680,
          610,
          680,
          625,
          680,
          360,
          680,
          725,
          680,
          245,
          370,
          665,
          370,
          635,
          370,
          875,
          370,
          365,
          370,
          465,
          370,
          585,
          370,
          415,
          370,
          625,
          370,
          580,
          370,
          245,
          370,
          315,
          370,
          400,
          370,
          180,
          370,
          250,
          370,
          555,
          370,
          665,
          370,
          1160,
          370,
          580,
          370,
          595,
          370,
          610,
          370,
          610,
          370,
          645,
          370,
          635,
          370,
          650,
          370,
          960,
          370,
          260,
          370,
          920,
          370,
          500,
          370,
          815,
          370,
          485,
          370,
          65,
          370,
          610,
          370,
          625,
          370,
          360,
          370,
          725,
          370,
          245,
          665,
          635,
          665,
          875,
          665,
          365,
          665,
          465,
          665,
          585,
          665,
          415,
          665,
          625,
          665,
          580,
          665,
          245,
          665,
          315,
          665,
          400,
          665,
          180,
          665,
          250,
          665,
          555,
          665,
          665,
          665,
          1160,
          665,
          580,
          665,
          595,
          665,
          610,
          665,
          610,
          665,
          645,
          665,
          635,
          665,
          650,
          665,
          960,
          665,
          260,
          665,
          920,
          665,
          500,
          665,
          815,
          665,
          485,
          665,
          65,
          665,
          610,
          665,
          625,
          665,
          360,
          665,
          725,
          665,
          245,
          635,
          875,
          635,
          365,
          635,
          465,
          635,
          585,
          635,
          415,
          635,
          625,
          635,
          580,
          635,
          245,
          635,
          315,
          635,
          400,
          635,
          180,
          635,
          250,
          635,
          555,
          635,
          665,
          635,
          1160,
          635,
          580,
          635,
          595,
          635,
          610,
          635,
          610,
          635,
          645,
          635,
          635,
          635,
          650,
          635,
          960,
          635,
          260,
          635,
          920,
          635,
          500,
          635,
          815,
          635,
          485,
          635,
          65,
          635,
          610,
          635,
          625,
          635,
          360,
          635,
          725,
          635,
          245,
          875,
          365,
          875,
          465,
          875,
          585,
          875,
          415,
          875,
          625,
          875,
          580,
          875,
          245,
          875,
          315,
          875,
          400,
          875,
          180,
          875,
          250,
          875,
          555,
          875,
          665,
          875,
          1160,
          875,
          580,
          875,
          595,
          875,
          610,
          875,
          610,
          875,
          645,
          875,
          635,
          875,
          650,
          875,
          960,
          875,
          260,
          875,
          920,
          875,
          500,
          875,
          815,
          875,
          485,
          875,
          65,
          875,
          610,
          875,
          625,
          875,
          360,
          875,
          725,
          875,
          245,
          365,
          465,
          365,
          585,
          365,
          415,
          365,
          625,
          365,
          580,
          365,
          245,
          365,
          315,
          365,
          400,
          365,
          180,
          365,
          250,
          365,
          555,
          365,
          665,
          365,
          1160,
          365,
          580,
          365,
          595,
          365,
          610,
          365,
          610,
          365,
          645,
          365,
          635,
          365,
          650,
          365,
          960,
          365,
          260,
          365,
          920,
          365,
          500,
          365,
          815,
          365,
          485,
          365,
          65,
          365,
          610,
          365,
          625,
          365,
          360,
          365,
          725,
          365,
          245,
          465,
          585,
          465,
          415,
          465,
          625,
          465,
          580,
          465,
          245,
          465,
          315,
          465,
          400,
          465,
          180,
          465,
          250,
          465,
          555,
          465,
          665,
          465,
          1160,
          465,
          580,
          465,
          595,
          465,
          610,
          465,
          610,
          465,
          645,
          465,
          635,
          465,
          650,
          465,
          960,
          465,
          260,
          465,
          920,
          465,
          500,
          465,
          815,
          465,
          485,
          465,
          65,
          465,
          610,
          465,
          625,
          465,
          360,
          465,
          725,
          465,
          245,
          585,
          415,
          585,
          625,
          585,
          580,
          585,
          245,
          585,
          315,
          585,
          400,
          585,
          180,
          585,
          250,
          585,
          555,
          585,
          665,
          585,
          1160,
          585,
          580,
          585,
          595,
          585,
          610,
          585,
          610,
          585,
          645,
          585,
          635,
          585,
          650,
          585,
          960,
          585,
          260,
          585,
          920,
          585,
          500,
          585,
          815,
          585,
          485,
          585,
          65,
          585,
          610,
          585,
          625,
          585,
          360,
          585,
          725,
          585,
          245,
          415,
          625,
          415,
          580,
          415,
          245,
          415,
          315,
          415,
          400,
          415,
          180,
          415,
          250,
          415,
          555,
          415,
          665,
          415,
          1160,
          415,
          580,
          415,
          595,
          415,
          610,
          415,
          610,
          415,
          645,
          415,
          635,
          415,
          650,
          415,
          960,
          415,
          260,
          415,
          920,
          415,
          500,
          415,
          815,
          415,
          485,
          415,
          65,
          415,
          610,
          415,
          625,
          415,
          360,
          415,
          725,
          415,
          245,
          625,
          580,
          625,
          245,
          625,
          315,
          625,
          400,
          625,
          180,
          625,
          250,
          625,
          555,
          625,
          665,
          625,
          1160,
          625,
          580,
          625,
          595,
          625,
          610,
          625,
          610,
          625,
          645,
          625,
          635,
          625,
          650,
          625,
          960,
          625,
          260,
          625,
          920,
          625,
          500,
          625,
          815,
          625,
          485,
          625,
          65,
          625,
          610,
          625,
          625,
          625,
          360,
          625,
          725,
          625,
          245,
          580,
          245,
          580,
          315,
          580,
          400,
          580,
          180,
          580,
          250,
          580,
          555,
          580,
          665,
          580,
          1160,
          580,
          580,
          580,
          595,
          580,
          610,
          580,
          610,
          580,
          645,
          580,
          635,
          580,
          650,
          580,
          960,
          580,
          260,
          580,
          920,
          580,
          500,
          580,
          815,
          580,
          485,
          580,
          65,
          580,
          610,
          580,
          625,
          580,
          360,
          580,
          725,
          580,
          245,
          245,
          315,
          245,
          400,
          245,
          180,
          245,
          250,
          245,
          555,
          245,
          665,
          245,
          1160,
          245,
          580,
          245,
          595,
          245,
          610,
          245,
          610,
          245,
          645,
          245,
          635,
          245,
          650,
          245,
          960,
          245,
          260,
          245,
          920,
          245,
          500,
          245,
          815,
          245,
          485,
          245,
          65,
          245,
          610,
          245,
          625,
          245,
          360,
          245,
          725,
          245,
          245,
          315,
          400,
          315,
          180,
          315,
          250,
          315,
          555,
          315,
          665,
          315,
          1160,
          315,
          580,
          315,
          595,
          315,
          610,
          315,
          610,
          315,
          645,
          315,
          635,
          315,
          650,
          315,
          960,
          315,
          260,
          315,
          920,
          315,
          500,
          315,
          815,
          315,
          485,
          315,
          65,
          315,
          610,
          315,
          625,
          315,
          360,
          315,
          725,
          315,
          245,
          400,
          180,
          400,
          250,
          400,
          555,
          400,
          665,
          400,
          1160,
          400,
          580,
          400,
          595,
          400,
          610,
          400,
          610,
          400,
          645,
          400,
          635,
          400,
          650,
          400,
          960,
          400,
          260,
          400,
          920,
          400,
          500,
          400,
          815,
          400,
          485,
          400,
          65,
          400,
          610,
          400,
          625,
          400,
          360,
          400,
          725,
          400,
          245,
          180,
          250,
          180,
          555,
          180,
          665,
          180,
          1160,
          180,
          580,
          180,
          595,
          180,
          610,
          180,
          610,
          180,
          645,
          180,
          635,
          180,
          650,
          180,
          960,
          180,
          260,
          180,
          920,
          180,
          500,
          180,
          815,
          180,
          485,
          180,
          65,
          180,
          610,
          180,
          625,
          180,
          360,
          180,
          725,
          180,
          245,
          250,
          555,
          250,
          665,
          250,
          1160,
          250,
          580,
          250,
          595,
          250,
          610,
          250,
          610,
          250,
          645,
          250,
          635,
          250,
          650,
          250,
          960,
          250,
          260,
          250,
          920,
          250,
          500,
          250,
          815,
          250,
          485,
          250,
          65,
          250,
          610,
          250,
          625,
          250,
          360,
          250,
          725,
          250,
          245,
          555,
          665,
          555,
          1160,
          555,
          580,
          555,
          595,
          555,
          610,
          555,
          610,
          555,
          645,
          555,
          635,
          555,
          650,
          555,
          960,
          555,
          260,
          555,
          920,
          555,
          500,
          555,
          815,
          555,
          485,
          555,
          65,
          555,
          610,
          555,
          625,
          555,
          360,
          555,
          725,
          555,
          245,
          665,
          1160,
          665,
          580,
          665,
          595,
          665,
          610,
          665,
          610,
          665,
          645,
          665,
          635,
          665,
          650,
          665,
          960,
          665,
          260,
          665,
          920,
          665,
          500,
          665,
          815,
          665,
          485,
          665,
          65,
          665,
          610,
          665,
          625,
          665,
          360,
          665,
          725,
          665,
          245,
          1160,
          580,
          1160,
          595,
          1160,
          610,
          1160,
          610,
          1160,
          645,
          1160,
          635,
          1160,
          650,
          1160,
          960,
          1160,
          260,
          1160,
          920,
          1160,
          500,
          1160,
          815,
          1160,
          485,
          1160,
          65,
          1160,
          610,
          1160,
          625,
          1160,
          360,
          1160,
          725,
          1160,
          245,
          580,
          595,
          580,
          610,
          580,
          610,
          580,
          645,
          580,
          635,
          580,
          650,
          580,
          960,
          580,
          260,
          580,
          920,
          580,
          500,
          580,
          815,
          580,
          485,
          580,
          65,
          580,
          610,
          580,
          625,
          580,
          360,
          580,
          725,
          580,
          245,
          595,
          610,
          595,
          610,
          595,
          645,
          595,
          635,
          595,
          650,
          595,
          960,
          595,
          260,
          595,
          920,
          595,
          500,
          595,
          815,
          595,
          485,
          595,
          65,
          595,
          610,
          595,
          625,
          595,
          360,
          595,
          725,
          595,
          245,
          610,
          610,
          610,
          645,
          610,
          635,
          610,
          650,
          610,
          960,
          610,
          260,
          610,
          920,
          610,
          500,
          610,
          815,
          610,
          485,
          610,
          65,
          610,
          610,
          610,
          625,
          610,
          360,
          610,
          725,
          610,
          245,
          610,
          645,
          610,
          635,
          610,
          650,
          610,
          960,
          610,
          260,
          610,
          920,
          610,
          500,
          610,
          815,
          610,
          485,
          610,
          65,
          610,
          610,
          610,
          625,
          610,
          360,
          610,
          725,
          610,
          245,
          645,
          635,
          645,
          650,
          645,
          960,
          645,
          260,
          645,
          920,
          645,
          500,
          645,
          815,
          645,
          485,
          645,
          65,
          645,
          610,
          645,
          625,
          645,
          360,
          645,
          725,
          645,
          245,
          635,
          650,
          635,
          960,
          635,
          260,
          635,
          920,
          635,
          500,
          635,
          815,
          635,
          485,
          635,
          65,
          635,
          610,
          635,
          625,
          635,
          360,
          635,
          725,
          635,
          245,
          650,
          960,
          650,
          260,
          650,
          920,
          650,
          500,
          650,
          815,
          650,
          485,
          650,
          65,
          650,
          610,
          650,
          625,
          650,
          360,
          650,
          725,
          650,
          245,
          960,
          260,
          960,
          920,
          960,
          500,
          960,
          815,
          960,
          485,
          960,
          65,
          960,
          610,
          960,
          625,
          960,
          360,
          960,
          725,
          960,
          245,
          260,
          920,
          260,
          500,
          260,
          815,
          260,
          485,
          260,
          65,
          260,
          610,
          260,
          625,
          260,
          360,
          260,
          725,
          260,
          245,
          920,
          500,
          920,
          815,
          920,
          485,
          920,
          65,
          920,
          610,
          920,
          625,
          920,
          360,
          920,
          725,
          920,
          245,
          500,
          815,
          500,
          485,
          500,
          65,
          500,
          610,
          500,
          625,
          500,
          360,
          500,
          725,
          500,
          245,
          815,
          485,
          815,
          65,
          815,
          610,
          815,
          625,
          815,
          360,
          815,
          725,
          815,
          245,
          485,
          65,
          485,
          610,
          485,
          625,
          485,
          360,
          485,
          725,
          485,
          245,
          65,
          610,
          65,
          625,
          65,
          360,
          65,
          725,
          65,
          245,
          610,
          625,
          610,
          360,
          610,
          725,
          610,
          245,
          625,
          360,
          625,
          725,
          625,
          245,
          360,
          725,
          360,
          245,
          725,
          245
         ]
        },
        {
         "hoverinfo": "none",
         "mode": "markers",
         "type": "scatter",
         "x": [
          565,
          25,
          345,
          945,
          845,
          880,
          25,
          525,
          580,
          650,
          1605,
          1220,
          1465,
          1530,
          845,
          725,
          145,
          415,
          510,
          560,
          300,
          520,
          480,
          835,
          975,
          1215,
          1320,
          1250,
          660,
          410,
          420,
          575,
          1150,
          700,
          685,
          685,
          770,
          795,
          720,
          760,
          475,
          95,
          875,
          700,
          555,
          830,
          1170,
          830,
          605,
          595,
          1340,
          1740
         ],
         "y": [
          575,
          185,
          750,
          685,
          655,
          660,
          230,
          1000,
          1175,
          1130,
          620,
          580,
          200,
          5,
          680,
          370,
          665,
          635,
          875,
          365,
          465,
          585,
          415,
          625,
          580,
          245,
          315,
          400,
          180,
          250,
          555,
          665,
          1160,
          580,
          595,
          610,
          610,
          645,
          635,
          650,
          960,
          260,
          920,
          500,
          815,
          485,
          65,
          610,
          625,
          360,
          725,
          245
         ]
        }
       ],
       "layout": {
        "autosize": true,
        "template": {
         "data": {
          "bar": [
           {
            "error_x": {
             "color": "#2a3f5f"
            },
            "error_y": {
             "color": "#2a3f5f"
            },
            "marker": {
             "line": {
              "color": "#E5ECF6",
              "width": 0.5
             }
            },
            "type": "bar"
           }
          ],
          "barpolar": [
           {
            "marker": {
             "line": {
              "color": "#E5ECF6",
              "width": 0.5
             }
            },
            "type": "barpolar"
           }
          ],
          "carpet": [
           {
            "aaxis": {
             "endlinecolor": "#2a3f5f",
             "gridcolor": "white",
             "linecolor": "white",
             "minorgridcolor": "white",
             "startlinecolor": "#2a3f5f"
            },
            "baxis": {
             "endlinecolor": "#2a3f5f",
             "gridcolor": "white",
             "linecolor": "white",
             "minorgridcolor": "white",
             "startlinecolor": "#2a3f5f"
            },
            "type": "carpet"
           }
          ],
          "choropleth": [
           {
            "colorbar": {
             "outlinewidth": 0,
             "ticks": ""
            },
            "type": "choropleth"
           }
          ],
          "contour": [
           {
            "colorbar": {
             "outlinewidth": 0,
             "ticks": ""
            },
            "colorscale": [
             [
              0,
              "#0d0887"
             ],
             [
              0.1111111111111111,
              "#46039f"
             ],
             [
              0.2222222222222222,
              "#7201a8"
             ],
             [
              0.3333333333333333,
              "#9c179e"
             ],
             [
              0.4444444444444444,
              "#bd3786"
             ],
             [
              0.5555555555555556,
              "#d8576b"
             ],
             [
              0.6666666666666666,
              "#ed7953"
             ],
             [
              0.7777777777777778,
              "#fb9f3a"
             ],
             [
              0.8888888888888888,
              "#fdca26"
             ],
             [
              1,
              "#f0f921"
             ]
            ],
            "type": "contour"
           }
          ],
          "contourcarpet": [
           {
            "colorbar": {
             "outlinewidth": 0,
             "ticks": ""
            },
            "type": "contourcarpet"
           }
          ],
          "heatmap": [
           {
            "colorbar": {
             "outlinewidth": 0,
             "ticks": ""
            },
            "colorscale": [
             [
              0,
              "#0d0887"
             ],
             [
              0.1111111111111111,
              "#46039f"
             ],
             [
              0.2222222222222222,
              "#7201a8"
             ],
             [
              0.3333333333333333,
              "#9c179e"
             ],
             [
              0.4444444444444444,
              "#bd3786"
             ],
             [
              0.5555555555555556,
              "#d8576b"
             ],
             [
              0.6666666666666666,
              "#ed7953"
             ],
             [
              0.7777777777777778,
              "#fb9f3a"
             ],
             [
              0.8888888888888888,
              "#fdca26"
             ],
             [
              1,
              "#f0f921"
             ]
            ],
            "type": "heatmap"
           }
          ],
          "heatmapgl": [
           {
            "colorbar": {
             "outlinewidth": 0,
             "ticks": ""
            },
            "colorscale": [
             [
              0,
              "#0d0887"
             ],
             [
              0.1111111111111111,
              "#46039f"
             ],
             [
              0.2222222222222222,
              "#7201a8"
             ],
             [
              0.3333333333333333,
              "#9c179e"
             ],
             [
              0.4444444444444444,
              "#bd3786"
             ],
             [
              0.5555555555555556,
              "#d8576b"
             ],
             [
              0.6666666666666666,
              "#ed7953"
             ],
             [
              0.7777777777777778,
              "#fb9f3a"
             ],
             [
              0.8888888888888888,
              "#fdca26"
             ],
             [
              1,
              "#f0f921"
             ]
            ],
            "type": "heatmapgl"
           }
          ],
          "histogram": [
           {
            "marker": {
             "colorbar": {
              "outlinewidth": 0,
              "ticks": ""
             }
            },
            "type": "histogram"
           }
          ],
          "histogram2d": [
           {
            "colorbar": {
             "outlinewidth": 0,
             "ticks": ""
            },
            "colorscale": [
             [
              0,
              "#0d0887"
             ],
             [
              0.1111111111111111,
              "#46039f"
             ],
             [
              0.2222222222222222,
              "#7201a8"
             ],
             [
              0.3333333333333333,
              "#9c179e"
             ],
             [
              0.4444444444444444,
              "#bd3786"
             ],
             [
              0.5555555555555556,
              "#d8576b"
             ],
             [
              0.6666666666666666,
              "#ed7953"
             ],
             [
              0.7777777777777778,
              "#fb9f3a"
             ],
             [
              0.8888888888888888,
              "#fdca26"
             ],
             [
              1,
              "#f0f921"
             ]
            ],
            "type": "histogram2d"
           }
          ],
          "histogram2dcontour": [
           {
            "colorbar": {
             "outlinewidth": 0,
             "ticks": ""
            },
            "colorscale": [
             [
              0,
              "#0d0887"
             ],
             [
              0.1111111111111111,
              "#46039f"
             ],
             [
              0.2222222222222222,
              "#7201a8"
             ],
             [
              0.3333333333333333,
              "#9c179e"
             ],
             [
              0.4444444444444444,
              "#bd3786"
             ],
             [
              0.5555555555555556,
              "#d8576b"
             ],
             [
              0.6666666666666666,
              "#ed7953"
             ],
             [
              0.7777777777777778,
              "#fb9f3a"
             ],
             [
              0.8888888888888888,
              "#fdca26"
             ],
             [
              1,
              "#f0f921"
             ]
            ],
            "type": "histogram2dcontour"
           }
          ],
          "mesh3d": [
           {
            "colorbar": {
             "outlinewidth": 0,
             "ticks": ""
            },
            "type": "mesh3d"
           }
          ],
          "parcoords": [
           {
            "line": {
             "colorbar": {
              "outlinewidth": 0,
              "ticks": ""
             }
            },
            "type": "parcoords"
           }
          ],
          "pie": [
           {
            "automargin": true,
            "type": "pie"
           }
          ],
          "scatter": [
           {
            "marker": {
             "colorbar": {
              "outlinewidth": 0,
              "ticks": ""
             }
            },
            "type": "scatter"
           }
          ],
          "scatter3d": [
           {
            "line": {
             "colorbar": {
              "outlinewidth": 0,
              "ticks": ""
             }
            },
            "marker": {
             "colorbar": {
              "outlinewidth": 0,
              "ticks": ""
             }
            },
            "type": "scatter3d"
           }
          ],
          "scattercarpet": [
           {
            "marker": {
             "colorbar": {
              "outlinewidth": 0,
              "ticks": ""
             }
            },
            "type": "scattercarpet"
           }
          ],
          "scattergeo": [
           {
            "marker": {
             "colorbar": {
              "outlinewidth": 0,
              "ticks": ""
             }
            },
            "type": "scattergeo"
           }
          ],
          "scattergl": [
           {
            "marker": {
             "colorbar": {
              "outlinewidth": 0,
              "ticks": ""
             }
            },
            "type": "scattergl"
           }
          ],
          "scattermapbox": [
           {
            "marker": {
             "colorbar": {
              "outlinewidth": 0,
              "ticks": ""
             }
            },
            "type": "scattermapbox"
           }
          ],
          "scatterpolar": [
           {
            "marker": {
             "colorbar": {
              "outlinewidth": 0,
              "ticks": ""
             }
            },
            "type": "scatterpolar"
           }
          ],
          "scatterpolargl": [
           {
            "marker": {
             "colorbar": {
              "outlinewidth": 0,
              "ticks": ""
             }
            },
            "type": "scatterpolargl"
           }
          ],
          "scatterternary": [
           {
            "marker": {
             "colorbar": {
              "outlinewidth": 0,
              "ticks": ""
             }
            },
            "type": "scatterternary"
           }
          ],
          "surface": [
           {
            "colorbar": {
             "outlinewidth": 0,
             "ticks": ""
            },
            "colorscale": [
             [
              0,
              "#0d0887"
             ],
             [
              0.1111111111111111,
              "#46039f"
             ],
             [
              0.2222222222222222,
              "#7201a8"
             ],
             [
              0.3333333333333333,
              "#9c179e"
             ],
             [
              0.4444444444444444,
              "#bd3786"
             ],
             [
              0.5555555555555556,
              "#d8576b"
             ],
             [
              0.6666666666666666,
              "#ed7953"
             ],
             [
              0.7777777777777778,
              "#fb9f3a"
             ],
             [
              0.8888888888888888,
              "#fdca26"
             ],
             [
              1,
              "#f0f921"
             ]
            ],
            "type": "surface"
           }
          ],
          "table": [
           {
            "cells": {
             "fill": {
              "color": "#EBF0F8"
             },
             "line": {
              "color": "white"
             }
            },
            "header": {
             "fill": {
              "color": "#C8D4E3"
             },
             "line": {
              "color": "white"
             }
            },
            "type": "table"
           }
          ]
         },
         "layout": {
          "annotationdefaults": {
           "arrowcolor": "#2a3f5f",
           "arrowhead": 0,
           "arrowwidth": 1
          },
          "autotypenumbers": "strict",
          "coloraxis": {
           "colorbar": {
            "outlinewidth": 0,
            "ticks": ""
           }
          },
          "colorscale": {
           "diverging": [
            [
             0,
             "#8e0152"
            ],
            [
             0.1,
             "#c51b7d"
            ],
            [
             0.2,
             "#de77ae"
            ],
            [
             0.3,
             "#f1b6da"
            ],
            [
             0.4,
             "#fde0ef"
            ],
            [
             0.5,
             "#f7f7f7"
            ],
            [
             0.6,
             "#e6f5d0"
            ],
            [
             0.7,
             "#b8e186"
            ],
            [
             0.8,
             "#7fbc41"
            ],
            [
             0.9,
             "#4d9221"
            ],
            [
             1,
             "#276419"
            ]
           ],
           "sequential": [
            [
             0,
             "#0d0887"
            ],
            [
             0.1111111111111111,
             "#46039f"
            ],
            [
             0.2222222222222222,
             "#7201a8"
            ],
            [
             0.3333333333333333,
             "#9c179e"
            ],
            [
             0.4444444444444444,
             "#bd3786"
            ],
            [
             0.5555555555555556,
             "#d8576b"
            ],
            [
             0.6666666666666666,
             "#ed7953"
            ],
            [
             0.7777777777777778,
             "#fb9f3a"
            ],
            [
             0.8888888888888888,
             "#fdca26"
            ],
            [
             1,
             "#f0f921"
            ]
           ],
           "sequentialminus": [
            [
             0,
             "#0d0887"
            ],
            [
             0.1111111111111111,
             "#46039f"
            ],
            [
             0.2222222222222222,
             "#7201a8"
            ],
            [
             0.3333333333333333,
             "#9c179e"
            ],
            [
             0.4444444444444444,
             "#bd3786"
            ],
            [
             0.5555555555555556,
             "#d8576b"
            ],
            [
             0.6666666666666666,
             "#ed7953"
            ],
            [
             0.7777777777777778,
             "#fb9f3a"
            ],
            [
             0.8888888888888888,
             "#fdca26"
            ],
            [
             1,
             "#f0f921"
            ]
           ]
          },
          "colorway": [
           "#636efa",
           "#EF553B",
           "#00cc96",
           "#ab63fa",
           "#FFA15A",
           "#19d3f3",
           "#FF6692",
           "#B6E880",
           "#FF97FF",
           "#FECB52"
          ],
          "font": {
           "color": "#2a3f5f"
          },
          "geo": {
           "bgcolor": "white",
           "lakecolor": "white",
           "landcolor": "#E5ECF6",
           "showlakes": true,
           "showland": true,
           "subunitcolor": "white"
          },
          "hoverlabel": {
           "align": "left"
          },
          "hovermode": "closest",
          "mapbox": {
           "style": "light"
          },
          "paper_bgcolor": "white",
          "plot_bgcolor": "#E5ECF6",
          "polar": {
           "angularaxis": {
            "gridcolor": "white",
            "linecolor": "white",
            "ticks": ""
           },
           "bgcolor": "#E5ECF6",
           "radialaxis": {
            "gridcolor": "white",
            "linecolor": "white",
            "ticks": ""
           }
          },
          "scene": {
           "xaxis": {
            "backgroundcolor": "#E5ECF6",
            "gridcolor": "white",
            "gridwidth": 2,
            "linecolor": "white",
            "showbackground": true,
            "ticks": "",
            "zerolinecolor": "white"
           },
           "yaxis": {
            "backgroundcolor": "#E5ECF6",
            "gridcolor": "white",
            "gridwidth": 2,
            "linecolor": "white",
            "showbackground": true,
            "ticks": "",
            "zerolinecolor": "white"
           },
           "zaxis": {
            "backgroundcolor": "#E5ECF6",
            "gridcolor": "white",
            "gridwidth": 2,
            "linecolor": "white",
            "showbackground": true,
            "ticks": "",
            "zerolinecolor": "white"
           }
          },
          "shapedefaults": {
           "line": {
            "color": "#2a3f5f"
           }
          },
          "ternary": {
           "aaxis": {
            "gridcolor": "white",
            "linecolor": "white",
            "ticks": ""
           },
           "baxis": {
            "gridcolor": "white",
            "linecolor": "white",
            "ticks": ""
           },
           "bgcolor": "#E5ECF6",
           "caxis": {
            "gridcolor": "white",
            "linecolor": "white",
            "ticks": ""
           }
          },
          "title": {
           "x": 0.05
          },
          "xaxis": {
           "automargin": true,
           "gridcolor": "white",
           "linecolor": "white",
           "ticks": "",
           "title": {
            "standoff": 15
           },
           "zerolinecolor": "white",
           "zerolinewidth": 2
          },
          "yaxis": {
           "automargin": true,
           "gridcolor": "white",
           "linecolor": "white",
           "ticks": "",
           "title": {
            "standoff": 15
           },
           "zerolinecolor": "white",
           "zerolinewidth": 2
          }
         }
        },
        "xaxis": {
         "autorange": true,
         "range": [
          -80.67474174305254,
          1845.6747417430524
         ],
         "type": "linear"
        },
        "yaxis": {
         "autorange": true,
         "range": [
          -80.70063694267516,
          1260.7006369426751
         ],
         "type": "linear"
        }
       }
      },
      "image/png": "[encoded data removed]",
      "text/html": [
       "<div>                            <div id=\"034d3439-9f0d-46f7-a8d7-369ce62a05e7\" class=\"plotly-graph-div\" style=\"height:525px; width:100%;\"></div>            <script type=\"text/javascript\">                require([\"plotly\"], function(Plotly) {                    window.PLOTLYENV=window.PLOTLYENV || {};                                    if (document.getElementById(\"034d3439-9f0d-46f7-a8d7-369ce62a05e7\")) {                    Plotly.newPlot(                        \"034d3439-9f0d-46f7-a8d7-369ce62a05e7\",                        [{\"hoverinfo\": \"none\", \"line\": {\"color\": \"#888\", \"width\": 1}, \"mode\": \"lines\", \"type\": \"scatter\", \"x\": [565.0, 25.0, 565.0, 345.0, 565.0, 945.0, 565.0, 845.0, 565.0, 880.0, 565.0, 25.0, 565.0, 525.0, 565.0, 580.0, 565.0, 650.0, 565.0, 1605.0, 565.0, 1220.0, 565.0, 1465.0, 565.0, 1530.0, 565.0, 845.0, 565.0, 725.0, 565.0, 145.0, 565.0, 415.0, 565.0, 510.0, 565.0, 560.0, 565.0, 300.0, 565.0, 520.0, 565.0, 480.0, 565.0, 835.0, 565.0, 975.0, 565.0, 1215.0, 565.0, 1320.0, 565.0, 1250.0, 565.0, 660.0, 565.0, 410.0, 565.0, 420.0, 565.0, 575.0, 565.0, 1150.0, 565.0, 700.0, 565.0, 685.0, 565.0, 685.0, 565.0, 770.0, 565.0, 795.0, 565.0, 720.0, 565.0, 760.0, 565.0, 475.0, 565.0, 95.0, 565.0, 875.0, 565.0, 700.0, 565.0, 555.0, 565.0, 830.0, 565.0, 1170.0, 565.0, 830.0, 565.0, 605.0, 565.0, 595.0, 565.0, 1340.0, 565.0, 1740.0, 25.0, 345.0, 25.0, 945.0, 25.0, 845.0, 25.0, 880.0, 25.0, 25.0, 25.0, 525.0, 25.0, 580.0, 25.0, 650.0, 25.0, 1605.0, 25.0, 1220.0, 25.0, 1465.0, 25.0, 1530.0, 25.0, 845.0, 25.0, 725.0, 25.0, 145.0, 25.0, 415.0, 25.0, 510.0, 25.0, 560.0, 25.0, 300.0, 25.0, 520.0, 25.0, 480.0, 25.0, 835.0, 25.0, 975.0, 25.0, 1215.0, 25.0, 1320.0, 25.0, 1250.0, 25.0, 660.0, 25.0, 410.0, 25.0, 420.0, 25.0, 575.0, 25.0, 1150.0, 25.0, 700.0, 25.0, 685.0, 25.0, 685.0, 25.0, 770.0, 25.0, 795.0, 25.0, 720.0, 25.0, 760.0, 25.0, 475.0, 25.0, 95.0, 25.0, 875.0, 25.0, 700.0, 25.0, 555.0, 25.0, 830.0, 25.0, 1170.0, 25.0, 830.0, 25.0, 605.0, 25.0, 595.0, 25.0, 1340.0, 25.0, 1740.0, 345.0, 945.0, 345.0, 845.0, 345.0, 880.0, 345.0, 25.0, 345.0, 525.0, 345.0, 580.0, 345.0, 650.0, 345.0, 1605.0, 345.0, 1220.0, 345.0, 1465.0, 345.0, 1530.0, 345.0, 845.0, 345.0, 725.0, 345.0, 145.0, 345.0, 415.0, 345.0, 510.0, 345.0, 560.0, 345.0, 300.0, 345.0, 520.0, 345.0, 480.0, 345.0, 835.0, 345.0, 975.0, 345.0, 1215.0, 345.0, 1320.0, 345.0, 1250.0, 345.0, 660.0, 345.0, 410.0, 345.0, 420.0, 345.0, 575.0, 345.0, 1150.0, 345.0, 700.0, 345.0, 685.0, 345.0, 685.0, 345.0, 770.0, 345.0, 795.0, 345.0, 720.0, 345.0, 760.0, 345.0, 475.0, 345.0, 95.0, 345.0, 875.0, 345.0, 700.0, 345.0, 555.0, 345.0, 830.0, 345.0, 1170.0, 345.0, 830.0, 345.0, 605.0, 345.0, 595.0, 345.0, 1340.0, 345.0, 1740.0, 945.0, 845.0, 945.0, 880.0, 945.0, 25.0, 945.0, 525.0, 945.0, 580.0, 945.0, 650.0, 945.0, 1605.0, 945.0, 1220.0, 945.0, 1465.0, 945.0, 1530.0, 945.0, 845.0, 945.0, 725.0, 945.0, 145.0, 945.0, 415.0, 945.0, 510.0, 945.0, 560.0, 945.0, 300.0, 945.0, 520.0, 945.0, 480.0, 945.0, 835.0, 945.0, 975.0, 945.0, 1215.0, 945.0, 1320.0, 945.0, 1250.0, 945.0, 660.0, 945.0, 410.0, 945.0, 420.0, 945.0, 575.0, 945.0, 1150.0, 945.0, 700.0, 945.0, 685.0, 945.0, 685.0, 945.0, 770.0, 945.0, 795.0, 945.0, 720.0, 945.0, 760.0, 945.0, 475.0, 945.0, 95.0, 945.0, 875.0, 945.0, 700.0, 945.0, 555.0, 945.0, 830.0, 945.0, 1170.0, 945.0, 830.0, 945.0, 605.0, 945.0, 595.0, 945.0, 1340.0, 945.0, 1740.0, 845.0, 880.0, 845.0, 25.0, 845.0, 525.0, 845.0, 580.0, 845.0, 650.0, 845.0, 1605.0, 845.0, 1220.0, 845.0, 1465.0, 845.0, 1530.0, 845.0, 845.0, 845.0, 725.0, 845.0, 145.0, 845.0, 415.0, 845.0, 510.0, 845.0, 560.0, 845.0, 300.0, 845.0, 520.0, 845.0, 480.0, 845.0, 835.0, 845.0, 975.0, 845.0, 1215.0, 845.0, 1320.0, 845.0, 1250.0, 845.0, 660.0, 845.0, 410.0, 845.0, 420.0, 845.0, 575.0, 845.0, 1150.0, 845.0, 700.0, 845.0, 685.0, 845.0, 685.0, 845.0, 770.0, 845.0, 795.0, 845.0, 720.0, 845.0, 760.0, 845.0, 475.0, 845.0, 95.0, 845.0, 875.0, 845.0, 700.0, 845.0, 555.0, 845.0, 830.0, 845.0, 1170.0, 845.0, 830.0, 845.0, 605.0, 845.0, 595.0, 845.0, 1340.0, 845.0, 1740.0, 880.0, 25.0, 880.0, 525.0, 880.0, 580.0, 880.0, 650.0, 880.0, 1605.0, 880.0, 1220.0, 880.0, 1465.0, 880.0, 1530.0, 880.0, 845.0, 880.0, 725.0, 880.0, 145.0, 880.0, 415.0, 880.0, 510.0, 880.0, 560.0, 880.0, 300.0, 880.0, 520.0, 880.0, 480.0, 880.0, 835.0, 880.0, 975.0, 880.0, 1215.0, 880.0, 1320.0, 880.0, 1250.0, 880.0, 660.0, 880.0, 410.0, 880.0, 420.0, 880.0, 575.0, 880.0, 1150.0, 880.0, 700.0, 880.0, 685.0, 880.0, 685.0, 880.0, 770.0, 880.0, 795.0, 880.0, 720.0, 880.0, 760.0, 880.0, 475.0, 880.0, 95.0, 880.0, 875.0, 880.0, 700.0, 880.0, 555.0, 880.0, 830.0, 880.0, 1170.0, 880.0, 830.0, 880.0, 605.0, 880.0, 595.0, 880.0, 1340.0, 880.0, 1740.0, 25.0, 525.0, 25.0, 580.0, 25.0, 650.0, 25.0, 1605.0, 25.0, 1220.0, 25.0, 1465.0, 25.0, 1530.0, 25.0, 845.0, 25.0, 725.0, 25.0, 145.0, 25.0, 415.0, 25.0, 510.0, 25.0, 560.0, 25.0, 300.0, 25.0, 520.0, 25.0, 480.0, 25.0, 835.0, 25.0, 975.0, 25.0, 1215.0, 25.0, 1320.0, 25.0, 1250.0, 25.0, 660.0, 25.0, 410.0, 25.0, 420.0, 25.0, 575.0, 25.0, 1150.0, 25.0, 700.0, 25.0, 685.0, 25.0, 685.0, 25.0, 770.0, 25.0, 795.0, 25.0, 720.0, 25.0, 760.0, 25.0, 475.0, 25.0, 95.0, 25.0, 875.0, 25.0, 700.0, 25.0, 555.0, 25.0, 830.0, 25.0, 1170.0, 25.0, 830.0, 25.0, 605.0, 25.0, 595.0, 25.0, 1340.0, 25.0, 1740.0, 525.0, 580.0, 525.0, 650.0, 525.0, 1605.0, 525.0, 1220.0, 525.0, 1465.0, 525.0, 1530.0, 525.0, 845.0, 525.0, 725.0, 525.0, 145.0, 525.0, 415.0, 525.0, 510.0, 525.0, 560.0, 525.0, 300.0, 525.0, 520.0, 525.0, 480.0, 525.0, 835.0, 525.0, 975.0, 525.0, 1215.0, 525.0, 1320.0, 525.0, 1250.0, 525.0, 660.0, 525.0, 410.0, 525.0, 420.0, 525.0, 575.0, 525.0, 1150.0, 525.0, 700.0, 525.0, 685.0, 525.0, 685.0, 525.0, 770.0, 525.0, 795.0, 525.0, 720.0, 525.0, 760.0, 525.0, 475.0, 525.0, 95.0, 525.0, 875.0, 525.0, 700.0, 525.0, 555.0, 525.0, 830.0, 525.0, 1170.0, 525.0, 830.0, 525.0, 605.0, 525.0, 595.0, 525.0, 1340.0, 525.0, 1740.0, 580.0, 650.0, 580.0, 1605.0, 580.0, 1220.0, 580.0, 1465.0, 580.0, 1530.0, 580.0, 845.0, 580.0, 725.0, 580.0, 145.0, 580.0, 415.0, 580.0, 510.0, 580.0, 560.0, 580.0, 300.0, 580.0, 520.0, 580.0, 480.0, 580.0, 835.0, 580.0, 975.0, 580.0, 1215.0, 580.0, 1320.0, 580.0, 1250.0, 580.0, 660.0, 580.0, 410.0, 580.0, 420.0, 580.0, 575.0, 580.0, 1150.0, 580.0, 700.0, 580.0, 685.0, 580.0, 685.0, 580.0, 770.0, 580.0, 795.0, 580.0, 720.0, 580.0, 760.0, 580.0, 475.0, 580.0, 95.0, 580.0, 875.0, 580.0, 700.0, 580.0, 555.0, 580.0, 830.0, 580.0, 1170.0, 580.0, 830.0, 580.0, 605.0, 580.0, 595.0, 580.0, 1340.0, 580.0, 1740.0, 650.0, 1605.0, 650.0, 1220.0, 650.0, 1465.0, 650.0, 1530.0, 650.0, 845.0, 650.0, 725.0, 650.0, 145.0, 650.0, 415.0, 650.0, 510.0, 650.0, 560.0, 650.0, 300.0, 650.0, 520.0, 650.0, 480.0, 650.0, 835.0, 650.0, 975.0, 650.0, 1215.0, 650.0, 1320.0, 650.0, 1250.0, 650.0, 660.0, 650.0, 410.0, 650.0, 420.0, 650.0, 575.0, 650.0, 1150.0, 650.0, 700.0, 650.0, 685.0, 650.0, 685.0, 650.0, 770.0, 650.0, 795.0, 650.0, 720.0, 650.0, 760.0, 650.0, 475.0, 650.0, 95.0, 650.0, 875.0, 650.0, 700.0, 650.0, 555.0, 650.0, 830.0, 650.0, 1170.0, 650.0, 830.0, 650.0, 605.0, 650.0, 595.0, 650.0, 1340.0, 650.0, 1740.0, 1605.0, 1220.0, 1605.0, 1465.0, 1605.0, 1530.0, 1605.0, 845.0, 1605.0, 725.0, 1605.0, 145.0, 1605.0, 415.0, 1605.0, 510.0, 1605.0, 560.0, 1605.0, 300.0, 1605.0, 520.0, 1605.0, 480.0, 1605.0, 835.0, 1605.0, 975.0, 1605.0, 1215.0, 1605.0, 1320.0, 1605.0, 1250.0, 1605.0, 660.0, 1605.0, 410.0, 1605.0, 420.0, 1605.0, 575.0, 1605.0, 1150.0, 1605.0, 700.0, 1605.0, 685.0, 1605.0, 685.0, 1605.0, 770.0, 1605.0, 795.0, 1605.0, 720.0, 1605.0, 760.0, 1605.0, 475.0, 1605.0, 95.0, 1605.0, 875.0, 1605.0, 700.0, 1605.0, 555.0, 1605.0, 830.0, 1605.0, 1170.0, 1605.0, 830.0, 1605.0, 605.0, 1605.0, 595.0, 1605.0, 1340.0, 1605.0, 1740.0, 1220.0, 1465.0, 1220.0, 1530.0, 1220.0, 845.0, 1220.0, 725.0, 1220.0, 145.0, 1220.0, 415.0, 1220.0, 510.0, 1220.0, 560.0, 1220.0, 300.0, 1220.0, 520.0, 1220.0, 480.0, 1220.0, 835.0, 1220.0, 975.0, 1220.0, 1215.0, 1220.0, 1320.0, 1220.0, 1250.0, 1220.0, 660.0, 1220.0, 410.0, 1220.0, 420.0, 1220.0, 575.0, 1220.0, 1150.0, 1220.0, 700.0, 1220.0, 685.0, 1220.0, 685.0, 1220.0, 770.0, 1220.0, 795.0, 1220.0, 720.0, 1220.0, 760.0, 1220.0, 475.0, 1220.0, 95.0, 1220.0, 875.0, 1220.0, 700.0, 1220.0, 555.0, 1220.0, 830.0, 1220.0, 1170.0, 1220.0, 830.0, 1220.0, 605.0, 1220.0, 595.0, 1220.0, 1340.0, 1220.0, 1740.0, 1465.0, 1530.0, 1465.0, 845.0, 1465.0, 725.0, 1465.0, 145.0, 1465.0, 415.0, 1465.0, 510.0, 1465.0, 560.0, 1465.0, 300.0, 1465.0, 520.0, 1465.0, 480.0, 1465.0, 835.0, 1465.0, 975.0, 1465.0, 1215.0, 1465.0, 1320.0, 1465.0, 1250.0, 1465.0, 660.0, 1465.0, 410.0, 1465.0, 420.0, 1465.0, 575.0, 1465.0, 1150.0, 1465.0, 700.0, 1465.0, 685.0, 1465.0, 685.0, 1465.0, 770.0, 1465.0, 795.0, 1465.0, 720.0, 1465.0, 760.0, 1465.0, 475.0, 1465.0, 95.0, 1465.0, 875.0, 1465.0, 700.0, 1465.0, 555.0, 1465.0, 830.0, 1465.0, 1170.0, 1465.0, 830.0, 1465.0, 605.0, 1465.0, 595.0, 1465.0, 1340.0, 1465.0, 1740.0, 1530.0, 845.0, 1530.0, 725.0, 1530.0, 145.0, 1530.0, 415.0, 1530.0, 510.0, 1530.0, 560.0, 1530.0, 300.0, 1530.0, 520.0, 1530.0, 480.0, 1530.0, 835.0, 1530.0, 975.0, 1530.0, 1215.0, 1530.0, 1320.0, 1530.0, 1250.0, 1530.0, 660.0, 1530.0, 410.0, 1530.0, 420.0, 1530.0, 575.0, 1530.0, 1150.0, 1530.0, 700.0, 1530.0, 685.0, 1530.0, 685.0, 1530.0, 770.0, 1530.0, 795.0, 1530.0, 720.0, 1530.0, 760.0, 1530.0, 475.0, 1530.0, 95.0, 1530.0, 875.0, 1530.0, 700.0, 1530.0, 555.0, 1530.0, 830.0, 1530.0, 1170.0, 1530.0, 830.0, 1530.0, 605.0, 1530.0, 595.0, 1530.0, 1340.0, 1530.0, 1740.0, 845.0, 725.0, 845.0, 145.0, 845.0, 415.0, 845.0, 510.0, 845.0, 560.0, 845.0, 300.0, 845.0, 520.0, 845.0, 480.0, 845.0, 835.0, 845.0, 975.0, 845.0, 1215.0, 845.0, 1320.0, 845.0, 1250.0, 845.0, 660.0, 845.0, 410.0, 845.0, 420.0, 845.0, 575.0, 845.0, 1150.0, 845.0, 700.0, 845.0, 685.0, 845.0, 685.0, 845.0, 770.0, 845.0, 795.0, 845.0, 720.0, 845.0, 760.0, 845.0, 475.0, 845.0, 95.0, 845.0, 875.0, 845.0, 700.0, 845.0, 555.0, 845.0, 830.0, 845.0, 1170.0, 845.0, 830.0, 845.0, 605.0, 845.0, 595.0, 845.0, 1340.0, 845.0, 1740.0, 725.0, 145.0, 725.0, 415.0, 725.0, 510.0, 725.0, 560.0, 725.0, 300.0, 725.0, 520.0, 725.0, 480.0, 725.0, 835.0, 725.0, 975.0, 725.0, 1215.0, 725.0, 1320.0, 725.0, 1250.0, 725.0, 660.0, 725.0, 410.0, 725.0, 420.0, 725.0, 575.0, 725.0, 1150.0, 725.0, 700.0, 725.0, 685.0, 725.0, 685.0, 725.0, 770.0, 725.0, 795.0, 725.0, 720.0, 725.0, 760.0, 725.0, 475.0, 725.0, 95.0, 725.0, 875.0, 725.0, 700.0, 725.0, 555.0, 725.0, 830.0, 725.0, 1170.0, 725.0, 830.0, 725.0, 605.0, 725.0, 595.0, 725.0, 1340.0, 725.0, 1740.0, 145.0, 415.0, 145.0, 510.0, 145.0, 560.0, 145.0, 300.0, 145.0, 520.0, 145.0, 480.0, 145.0, 835.0, 145.0, 975.0, 145.0, 1215.0, 145.0, 1320.0, 145.0, 1250.0, 145.0, 660.0, 145.0, 410.0, 145.0, 420.0, 145.0, 575.0, 145.0, 1150.0, 145.0, 700.0, 145.0, 685.0, 145.0, 685.0, 145.0, 770.0, 145.0, 795.0, 145.0, 720.0, 145.0, 760.0, 145.0, 475.0, 145.0, 95.0, 145.0, 875.0, 145.0, 700.0, 145.0, 555.0, 145.0, 830.0, 145.0, 1170.0, 145.0, 830.0, 145.0, 605.0, 145.0, 595.0, 145.0, 1340.0, 145.0, 1740.0, 415.0, 510.0, 415.0, 560.0, 415.0, 300.0, 415.0, 520.0, 415.0, 480.0, 415.0, 835.0, 415.0, 975.0, 415.0, 1215.0, 415.0, 1320.0, 415.0, 1250.0, 415.0, 660.0, 415.0, 410.0, 415.0, 420.0, 415.0, 575.0, 415.0, 1150.0, 415.0, 700.0, 415.0, 685.0, 415.0, 685.0, 415.0, 770.0, 415.0, 795.0, 415.0, 720.0, 415.0, 760.0, 415.0, 475.0, 415.0, 95.0, 415.0, 875.0, 415.0, 700.0, 415.0, 555.0, 415.0, 830.0, 415.0, 1170.0, 415.0, 830.0, 415.0, 605.0, 415.0, 595.0, 415.0, 1340.0, 415.0, 1740.0, 510.0, 560.0, 510.0, 300.0, 510.0, 520.0, 510.0, 480.0, 510.0, 835.0, 510.0, 975.0, 510.0, 1215.0, 510.0, 1320.0, 510.0, 1250.0, 510.0, 660.0, 510.0, 410.0, 510.0, 420.0, 510.0, 575.0, 510.0, 1150.0, 510.0, 700.0, 510.0, 685.0, 510.0, 685.0, 510.0, 770.0, 510.0, 795.0, 510.0, 720.0, 510.0, 760.0, 510.0, 475.0, 510.0, 95.0, 510.0, 875.0, 510.0, 700.0, 510.0, 555.0, 510.0, 830.0, 510.0, 1170.0, 510.0, 830.0, 510.0, 605.0, 510.0, 595.0, 510.0, 1340.0, 510.0, 1740.0, 560.0, 300.0, 560.0, 520.0, 560.0, 480.0, 560.0, 835.0, 560.0, 975.0, 560.0, 1215.0, 560.0, 1320.0, 560.0, 1250.0, 560.0, 660.0, 560.0, 410.0, 560.0, 420.0, 560.0, 575.0, 560.0, 1150.0, 560.0, 700.0, 560.0, 685.0, 560.0, 685.0, 560.0, 770.0, 560.0, 795.0, 560.0, 720.0, 560.0, 760.0, 560.0, 475.0, 560.0, 95.0, 560.0, 875.0, 560.0, 700.0, 560.0, 555.0, 560.0, 830.0, 560.0, 1170.0, 560.0, 830.0, 560.0, 605.0, 560.0, 595.0, 560.0, 1340.0, 560.0, 1740.0, 300.0, 520.0, 300.0, 480.0, 300.0, 835.0, 300.0, 975.0, 300.0, 1215.0, 300.0, 1320.0, 300.0, 1250.0, 300.0, 660.0, 300.0, 410.0, 300.0, 420.0, 300.0, 575.0, 300.0, 1150.0, 300.0, 700.0, 300.0, 685.0, 300.0, 685.0, 300.0, 770.0, 300.0, 795.0, 300.0, 720.0, 300.0, 760.0, 300.0, 475.0, 300.0, 95.0, 300.0, 875.0, 300.0, 700.0, 300.0, 555.0, 300.0, 830.0, 300.0, 1170.0, 300.0, 830.0, 300.0, 605.0, 300.0, 595.0, 300.0, 1340.0, 300.0, 1740.0, 520.0, 480.0, 520.0, 835.0, 520.0, 975.0, 520.0, 1215.0, 520.0, 1320.0, 520.0, 1250.0, 520.0, 660.0, 520.0, 410.0, 520.0, 420.0, 520.0, 575.0, 520.0, 1150.0, 520.0, 700.0, 520.0, 685.0, 520.0, 685.0, 520.0, 770.0, 520.0, 795.0, 520.0, 720.0, 520.0, 760.0, 520.0, 475.0, 520.0, 95.0, 520.0, 875.0, 520.0, 700.0, 520.0, 555.0, 520.0, 830.0, 520.0, 1170.0, 520.0, 830.0, 520.0, 605.0, 520.0, 595.0, 520.0, 1340.0, 520.0, 1740.0, 480.0, 835.0, 480.0, 975.0, 480.0, 1215.0, 480.0, 1320.0, 480.0, 1250.0, 480.0, 660.0, 480.0, 410.0, 480.0, 420.0, 480.0, 575.0, 480.0, 1150.0, 480.0, 700.0, 480.0, 685.0, 480.0, 685.0, 480.0, 770.0, 480.0, 795.0, 480.0, 720.0, 480.0, 760.0, 480.0, 475.0, 480.0, 95.0, 480.0, 875.0, 480.0, 700.0, 480.0, 555.0, 480.0, 830.0, 480.0, 1170.0, 480.0, 830.0, 480.0, 605.0, 480.0, 595.0, 480.0, 1340.0, 480.0, 1740.0, 835.0, 975.0, 835.0, 1215.0, 835.0, 1320.0, 835.0, 1250.0, 835.0, 660.0, 835.0, 410.0, 835.0, 420.0, 835.0, 575.0, 835.0, 1150.0, 835.0, 700.0, 835.0, 685.0, 835.0, 685.0, 835.0, 770.0, 835.0, 795.0, 835.0, 720.0, 835.0, 760.0, 835.0, 475.0, 835.0, 95.0, 835.0, 875.0, 835.0, 700.0, 835.0, 555.0, 835.0, 830.0, 835.0, 1170.0, 835.0, 830.0, 835.0, 605.0, 835.0, 595.0, 835.0, 1340.0, 835.0, 1740.0, 975.0, 1215.0, 975.0, 1320.0, 975.0, 1250.0, 975.0, 660.0, 975.0, 410.0, 975.0, 420.0, 975.0, 575.0, 975.0, 1150.0, 975.0, 700.0, 975.0, 685.0, 975.0, 685.0, 975.0, 770.0, 975.0, 795.0, 975.0, 720.0, 975.0, 760.0, 975.0, 475.0, 975.0, 95.0, 975.0, 875.0, 975.0, 700.0, 975.0, 555.0, 975.0, 830.0, 975.0, 1170.0, 975.0, 830.0, 975.0, 605.0, 975.0, 595.0, 975.0, 1340.0, 975.0, 1740.0, 1215.0, 1320.0, 1215.0, 1250.0, 1215.0, 660.0, 1215.0, 410.0, 1215.0, 420.0, 1215.0, 575.0, 1215.0, 1150.0, 1215.0, 700.0, 1215.0, 685.0, 1215.0, 685.0, 1215.0, 770.0, 1215.0, 795.0, 1215.0, 720.0, 1215.0, 760.0, 1215.0, 475.0, 1215.0, 95.0, 1215.0, 875.0, 1215.0, 700.0, 1215.0, 555.0, 1215.0, 830.0, 1215.0, 1170.0, 1215.0, 830.0, 1215.0, 605.0, 1215.0, 595.0, 1215.0, 1340.0, 1215.0, 1740.0, 1320.0, 1250.0, 1320.0, 660.0, 1320.0, 410.0, 1320.0, 420.0, 1320.0, 575.0, 1320.0, 1150.0, 1320.0, 700.0, 1320.0, 685.0, 1320.0, 685.0, 1320.0, 770.0, 1320.0, 795.0, 1320.0, 720.0, 1320.0, 760.0, 1320.0, 475.0, 1320.0, 95.0, 1320.0, 875.0, 1320.0, 700.0, 1320.0, 555.0, 1320.0, 830.0, 1320.0, 1170.0, 1320.0, 830.0, 1320.0, 605.0, 1320.0, 595.0, 1320.0, 1340.0, 1320.0, 1740.0, 1250.0, 660.0, 1250.0, 410.0, 1250.0, 420.0, 1250.0, 575.0, 1250.0, 1150.0, 1250.0, 700.0, 1250.0, 685.0, 1250.0, 685.0, 1250.0, 770.0, 1250.0, 795.0, 1250.0, 720.0, 1250.0, 760.0, 1250.0, 475.0, 1250.0, 95.0, 1250.0, 875.0, 1250.0, 700.0, 1250.0, 555.0, 1250.0, 830.0, 1250.0, 1170.0, 1250.0, 830.0, 1250.0, 605.0, 1250.0, 595.0, 1250.0, 1340.0, 1250.0, 1740.0, 660.0, 410.0, 660.0, 420.0, 660.0, 575.0, 660.0, 1150.0, 660.0, 700.0, 660.0, 685.0, 660.0, 685.0, 660.0, 770.0, 660.0, 795.0, 660.0, 720.0, 660.0, 760.0, 660.0, 475.0, 660.0, 95.0, 660.0, 875.0, 660.0, 700.0, 660.0, 555.0, 660.0, 830.0, 660.0, 1170.0, 660.0, 830.0, 660.0, 605.0, 660.0, 595.0, 660.0, 1340.0, 660.0, 1740.0, 410.0, 420.0, 410.0, 575.0, 410.0, 1150.0, 410.0, 700.0, 410.0, 685.0, 410.0, 685.0, 410.0, 770.0, 410.0, 795.0, 410.0, 720.0, 410.0, 760.0, 410.0, 475.0, 410.0, 95.0, 410.0, 875.0, 410.0, 700.0, 410.0, 555.0, 410.0, 830.0, 410.0, 1170.0, 410.0, 830.0, 410.0, 605.0, 410.0, 595.0, 410.0, 1340.0, 410.0, 1740.0, 420.0, 575.0, 420.0, 1150.0, 420.0, 700.0, 420.0, 685.0, 420.0, 685.0, 420.0, 770.0, 420.0, 795.0, 420.0, 720.0, 420.0, 760.0, 420.0, 475.0, 420.0, 95.0, 420.0, 875.0, 420.0, 700.0, 420.0, 555.0, 420.0, 830.0, 420.0, 1170.0, 420.0, 830.0, 420.0, 605.0, 420.0, 595.0, 420.0, 1340.0, 420.0, 1740.0, 575.0, 1150.0, 575.0, 700.0, 575.0, 685.0, 575.0, 685.0, 575.0, 770.0, 575.0, 795.0, 575.0, 720.0, 575.0, 760.0, 575.0, 475.0, 575.0, 95.0, 575.0, 875.0, 575.0, 700.0, 575.0, 555.0, 575.0, 830.0, 575.0, 1170.0, 575.0, 830.0, 575.0, 605.0, 575.0, 595.0, 575.0, 1340.0, 575.0, 1740.0, 1150.0, 700.0, 1150.0, 685.0, 1150.0, 685.0, 1150.0, 770.0, 1150.0, 795.0, 1150.0, 720.0, 1150.0, 760.0, 1150.0, 475.0, 1150.0, 95.0, 1150.0, 875.0, 1150.0, 700.0, 1150.0, 555.0, 1150.0, 830.0, 1150.0, 1170.0, 1150.0, 830.0, 1150.0, 605.0, 1150.0, 595.0, 1150.0, 1340.0, 1150.0, 1740.0, 700.0, 685.0, 700.0, 685.0, 700.0, 770.0, 700.0, 795.0, 700.0, 720.0, 700.0, 760.0, 700.0, 475.0, 700.0, 95.0, 700.0, 875.0, 700.0, 700.0, 700.0, 555.0, 700.0, 830.0, 700.0, 1170.0, 700.0, 830.0, 700.0, 605.0, 700.0, 595.0, 700.0, 1340.0, 700.0, 1740.0, 685.0, 685.0, 685.0, 770.0, 685.0, 795.0, 685.0, 720.0, 685.0, 760.0, 685.0, 475.0, 685.0, 95.0, 685.0, 875.0, 685.0, 700.0, 685.0, 555.0, 685.0, 830.0, 685.0, 1170.0, 685.0, 830.0, 685.0, 605.0, 685.0, 595.0, 685.0, 1340.0, 685.0, 1740.0, 685.0, 770.0, 685.0, 795.0, 685.0, 720.0, 685.0, 760.0, 685.0, 475.0, 685.0, 95.0, 685.0, 875.0, 685.0, 700.0, 685.0, 555.0, 685.0, 830.0, 685.0, 1170.0, 685.0, 830.0, 685.0, 605.0, 685.0, 595.0, 685.0, 1340.0, 685.0, 1740.0, 770.0, 795.0, 770.0, 720.0, 770.0, 760.0, 770.0, 475.0, 770.0, 95.0, 770.0, 875.0, 770.0, 700.0, 770.0, 555.0, 770.0, 830.0, 770.0, 1170.0, 770.0, 830.0, 770.0, 605.0, 770.0, 595.0, 770.0, 1340.0, 770.0, 1740.0, 795.0, 720.0, 795.0, 760.0, 795.0, 475.0, 795.0, 95.0, 795.0, 875.0, 795.0, 700.0, 795.0, 555.0, 795.0, 830.0, 795.0, 1170.0, 795.0, 830.0, 795.0, 605.0, 795.0, 595.0, 795.0, 1340.0, 795.0, 1740.0, 720.0, 760.0, 720.0, 475.0, 720.0, 95.0, 720.0, 875.0, 720.0, 700.0, 720.0, 555.0, 720.0, 830.0, 720.0, 1170.0, 720.0, 830.0, 720.0, 605.0, 720.0, 595.0, 720.0, 1340.0, 720.0, 1740.0, 760.0, 475.0, 760.0, 95.0, 760.0, 875.0, 760.0, 700.0, 760.0, 555.0, 760.0, 830.0, 760.0, 1170.0, 760.0, 830.0, 760.0, 605.0, 760.0, 595.0, 760.0, 1340.0, 760.0, 1740.0, 475.0, 95.0, 475.0, 875.0, 475.0, 700.0, 475.0, 555.0, 475.0, 830.0, 475.0, 1170.0, 475.0, 830.0, 475.0, 605.0, 475.0, 595.0, 475.0, 1340.0, 475.0, 1740.0, 95.0, 875.0, 95.0, 700.0, 95.0, 555.0, 95.0, 830.0, 95.0, 1170.0, 95.0, 830.0, 95.0, 605.0, 95.0, 595.0, 95.0, 1340.0, 95.0, 1740.0, 875.0, 700.0, 875.0, 555.0, 875.0, 830.0, 875.0, 1170.0, 875.0, 830.0, 875.0, 605.0, 875.0, 595.0, 875.0, 1340.0, 875.0, 1740.0, 700.0, 555.0, 700.0, 830.0, 700.0, 1170.0, 700.0, 830.0, 700.0, 605.0, 700.0, 595.0, 700.0, 1340.0, 700.0, 1740.0, 555.0, 830.0, 555.0, 1170.0, 555.0, 830.0, 555.0, 605.0, 555.0, 595.0, 555.0, 1340.0, 555.0, 1740.0, 830.0, 1170.0, 830.0, 830.0, 830.0, 605.0, 830.0, 595.0, 830.0, 1340.0, 830.0, 1740.0, 1170.0, 830.0, 1170.0, 605.0, 1170.0, 595.0, 1170.0, 1340.0, 1170.0, 1740.0, 830.0, 605.0, 830.0, 595.0, 830.0, 1340.0, 830.0, 1740.0, 605.0, 595.0, 605.0, 1340.0, 605.0, 1740.0, 595.0, 1340.0, 595.0, 1740.0, 1340.0, 1740.0], \"y\": [575.0, 185.0, 575.0, 750.0, 575.0, 685.0, 575.0, 655.0, 575.0, 660.0, 575.0, 230.0, 575.0, 1000.0, 575.0, 1175.0, 575.0, 1130.0, 575.0, 620.0, 575.0, 580.0, 575.0, 200.0, 575.0, 5.0, 575.0, 680.0, 575.0, 370.0, 575.0, 665.0, 575.0, 635.0, 575.0, 875.0, 575.0, 365.0, 575.0, 465.0, 575.0, 585.0, 575.0, 415.0, 575.0, 625.0, 575.0, 580.0, 575.0, 245.0, 575.0, 315.0, 575.0, 400.0, 575.0, 180.0, 575.0, 250.0, 575.0, 555.0, 575.0, 665.0, 575.0, 1160.0, 575.0, 580.0, 575.0, 595.0, 575.0, 610.0, 575.0, 610.0, 575.0, 645.0, 575.0, 635.0, 575.0, 650.0, 575.0, 960.0, 575.0, 260.0, 575.0, 920.0, 575.0, 500.0, 575.0, 815.0, 575.0, 485.0, 575.0, 65.0, 575.0, 610.0, 575.0, 625.0, 575.0, 360.0, 575.0, 725.0, 575.0, 245.0, 185.0, 750.0, 185.0, 685.0, 185.0, 655.0, 185.0, 660.0, 185.0, 230.0, 185.0, 1000.0, 185.0, 1175.0, 185.0, 1130.0, 185.0, 620.0, 185.0, 580.0, 185.0, 200.0, 185.0, 5.0, 185.0, 680.0, 185.0, 370.0, 185.0, 665.0, 185.0, 635.0, 185.0, 875.0, 185.0, 365.0, 185.0, 465.0, 185.0, 585.0, 185.0, 415.0, 185.0, 625.0, 185.0, 580.0, 185.0, 245.0, 185.0, 315.0, 185.0, 400.0, 185.0, 180.0, 185.0, 250.0, 185.0, 555.0, 185.0, 665.0, 185.0, 1160.0, 185.0, 580.0, 185.0, 595.0, 185.0, 610.0, 185.0, 610.0, 185.0, 645.0, 185.0, 635.0, 185.0, 650.0, 185.0, 960.0, 185.0, 260.0, 185.0, 920.0, 185.0, 500.0, 185.0, 815.0, 185.0, 485.0, 185.0, 65.0, 185.0, 610.0, 185.0, 625.0, 185.0, 360.0, 185.0, 725.0, 185.0, 245.0, 750.0, 685.0, 750.0, 655.0, 750.0, 660.0, 750.0, 230.0, 750.0, 1000.0, 750.0, 1175.0, 750.0, 1130.0, 750.0, 620.0, 750.0, 580.0, 750.0, 200.0, 750.0, 5.0, 750.0, 680.0, 750.0, 370.0, 750.0, 665.0, 750.0, 635.0, 750.0, 875.0, 750.0, 365.0, 750.0, 465.0, 750.0, 585.0, 750.0, 415.0, 750.0, 625.0, 750.0, 580.0, 750.0, 245.0, 750.0, 315.0, 750.0, 400.0, 750.0, 180.0, 750.0, 250.0, 750.0, 555.0, 750.0, 665.0, 750.0, 1160.0, 750.0, 580.0, 750.0, 595.0, 750.0, 610.0, 750.0, 610.0, 750.0, 645.0, 750.0, 635.0, 750.0, 650.0, 750.0, 960.0, 750.0, 260.0, 750.0, 920.0, 750.0, 500.0, 750.0, 815.0, 750.0, 485.0, 750.0, 65.0, 750.0, 610.0, 750.0, 625.0, 750.0, 360.0, 750.0, 725.0, 750.0, 245.0, 685.0, 655.0, 685.0, 660.0, 685.0, 230.0, 685.0, 1000.0, 685.0, 1175.0, 685.0, 1130.0, 685.0, 620.0, 685.0, 580.0, 685.0, 200.0, 685.0, 5.0, 685.0, 680.0, 685.0, 370.0, 685.0, 665.0, 685.0, 635.0, 685.0, 875.0, 685.0, 365.0, 685.0, 465.0, 685.0, 585.0, 685.0, 415.0, 685.0, 625.0, 685.0, 580.0, 685.0, 245.0, 685.0, 315.0, 685.0, 400.0, 685.0, 180.0, 685.0, 250.0, 685.0, 555.0, 685.0, 665.0, 685.0, 1160.0, 685.0, 580.0, 685.0, 595.0, 685.0, 610.0, 685.0, 610.0, 685.0, 645.0, 685.0, 635.0, 685.0, 650.0, 685.0, 960.0, 685.0, 260.0, 685.0, 920.0, 685.0, 500.0, 685.0, 815.0, 685.0, 485.0, 685.0, 65.0, 685.0, 610.0, 685.0, 625.0, 685.0, 360.0, 685.0, 725.0, 685.0, 245.0, 655.0, 660.0, 655.0, 230.0, 655.0, 1000.0, 655.0, 1175.0, 655.0, 1130.0, 655.0, 620.0, 655.0, 580.0, 655.0, 200.0, 655.0, 5.0, 655.0, 680.0, 655.0, 370.0, 655.0, 665.0, 655.0, 635.0, 655.0, 875.0, 655.0, 365.0, 655.0, 465.0, 655.0, 585.0, 655.0, 415.0, 655.0, 625.0, 655.0, 580.0, 655.0, 245.0, 655.0, 315.0, 655.0, 400.0, 655.0, 180.0, 655.0, 250.0, 655.0, 555.0, 655.0, 665.0, 655.0, 1160.0, 655.0, 580.0, 655.0, 595.0, 655.0, 610.0, 655.0, 610.0, 655.0, 645.0, 655.0, 635.0, 655.0, 650.0, 655.0, 960.0, 655.0, 260.0, 655.0, 920.0, 655.0, 500.0, 655.0, 815.0, 655.0, 485.0, 655.0, 65.0, 655.0, 610.0, 655.0, 625.0, 655.0, 360.0, 655.0, 725.0, 655.0, 245.0, 660.0, 230.0, 660.0, 1000.0, 660.0, 1175.0, 660.0, 1130.0, 660.0, 620.0, 660.0, 580.0, 660.0, 200.0, 660.0, 5.0, 660.0, 680.0, 660.0, 370.0, 660.0, 665.0, 660.0, 635.0, 660.0, 875.0, 660.0, 365.0, 660.0, 465.0, 660.0, 585.0, 660.0, 415.0, 660.0, 625.0, 660.0, 580.0, 660.0, 245.0, 660.0, 315.0, 660.0, 400.0, 660.0, 180.0, 660.0, 250.0, 660.0, 555.0, 660.0, 665.0, 660.0, 1160.0, 660.0, 580.0, 660.0, 595.0, 660.0, 610.0, 660.0, 610.0, 660.0, 645.0, 660.0, 635.0, 660.0, 650.0, 660.0, 960.0, 660.0, 260.0, 660.0, 920.0, 660.0, 500.0, 660.0, 815.0, 660.0, 485.0, 660.0, 65.0, 660.0, 610.0, 660.0, 625.0, 660.0, 360.0, 660.0, 725.0, 660.0, 245.0, 230.0, 1000.0, 230.0, 1175.0, 230.0, 1130.0, 230.0, 620.0, 230.0, 580.0, 230.0, 200.0, 230.0, 5.0, 230.0, 680.0, 230.0, 370.0, 230.0, 665.0, 230.0, 635.0, 230.0, 875.0, 230.0, 365.0, 230.0, 465.0, 230.0, 585.0, 230.0, 415.0, 230.0, 625.0, 230.0, 580.0, 230.0, 245.0, 230.0, 315.0, 230.0, 400.0, 230.0, 180.0, 230.0, 250.0, 230.0, 555.0, 230.0, 665.0, 230.0, 1160.0, 230.0, 580.0, 230.0, 595.0, 230.0, 610.0, 230.0, 610.0, 230.0, 645.0, 230.0, 635.0, 230.0, 650.0, 230.0, 960.0, 230.0, 260.0, 230.0, 920.0, 230.0, 500.0, 230.0, 815.0, 230.0, 485.0, 230.0, 65.0, 230.0, 610.0, 230.0, 625.0, 230.0, 360.0, 230.0, 725.0, 230.0, 245.0, 1000.0, 1175.0, 1000.0, 1130.0, 1000.0, 620.0, 1000.0, 580.0, 1000.0, 200.0, 1000.0, 5.0, 1000.0, 680.0, 1000.0, 370.0, 1000.0, 665.0, 1000.0, 635.0, 1000.0, 875.0, 1000.0, 365.0, 1000.0, 465.0, 1000.0, 585.0, 1000.0, 415.0, 1000.0, 625.0, 1000.0, 580.0, 1000.0, 245.0, 1000.0, 315.0, 1000.0, 400.0, 1000.0, 180.0, 1000.0, 250.0, 1000.0, 555.0, 1000.0, 665.0, 1000.0, 1160.0, 1000.0, 580.0, 1000.0, 595.0, 1000.0, 610.0, 1000.0, 610.0, 1000.0, 645.0, 1000.0, 635.0, 1000.0, 650.0, 1000.0, 960.0, 1000.0, 260.0, 1000.0, 920.0, 1000.0, 500.0, 1000.0, 815.0, 1000.0, 485.0, 1000.0, 65.0, 1000.0, 610.0, 1000.0, 625.0, 1000.0, 360.0, 1000.0, 725.0, 1000.0, 245.0, 1175.0, 1130.0, 1175.0, 620.0, 1175.0, 580.0, 1175.0, 200.0, 1175.0, 5.0, 1175.0, 680.0, 1175.0, 370.0, 1175.0, 665.0, 1175.0, 635.0, 1175.0, 875.0, 1175.0, 365.0, 1175.0, 465.0, 1175.0, 585.0, 1175.0, 415.0, 1175.0, 625.0, 1175.0, 580.0, 1175.0, 245.0, 1175.0, 315.0, 1175.0, 400.0, 1175.0, 180.0, 1175.0, 250.0, 1175.0, 555.0, 1175.0, 665.0, 1175.0, 1160.0, 1175.0, 580.0, 1175.0, 595.0, 1175.0, 610.0, 1175.0, 610.0, 1175.0, 645.0, 1175.0, 635.0, 1175.0, 650.0, 1175.0, 960.0, 1175.0, 260.0, 1175.0, 920.0, 1175.0, 500.0, 1175.0, 815.0, 1175.0, 485.0, 1175.0, 65.0, 1175.0, 610.0, 1175.0, 625.0, 1175.0, 360.0, 1175.0, 725.0, 1175.0, 245.0, 1130.0, 620.0, 1130.0, 580.0, 1130.0, 200.0, 1130.0, 5.0, 1130.0, 680.0, 1130.0, 370.0, 1130.0, 665.0, 1130.0, 635.0, 1130.0, 875.0, 1130.0, 365.0, 1130.0, 465.0, 1130.0, 585.0, 1130.0, 415.0, 1130.0, 625.0, 1130.0, 580.0, 1130.0, 245.0, 1130.0, 315.0, 1130.0, 400.0, 1130.0, 180.0, 1130.0, 250.0, 1130.0, 555.0, 1130.0, 665.0, 1130.0, 1160.0, 1130.0, 580.0, 1130.0, 595.0, 1130.0, 610.0, 1130.0, 610.0, 1130.0, 645.0, 1130.0, 635.0, 1130.0, 650.0, 1130.0, 960.0, 1130.0, 260.0, 1130.0, 920.0, 1130.0, 500.0, 1130.0, 815.0, 1130.0, 485.0, 1130.0, 65.0, 1130.0, 610.0, 1130.0, 625.0, 1130.0, 360.0, 1130.0, 725.0, 1130.0, 245.0, 620.0, 580.0, 620.0, 200.0, 620.0, 5.0, 620.0, 680.0, 620.0, 370.0, 620.0, 665.0, 620.0, 635.0, 620.0, 875.0, 620.0, 365.0, 620.0, 465.0, 620.0, 585.0, 620.0, 415.0, 620.0, 625.0, 620.0, 580.0, 620.0, 245.0, 620.0, 315.0, 620.0, 400.0, 620.0, 180.0, 620.0, 250.0, 620.0, 555.0, 620.0, 665.0, 620.0, 1160.0, 620.0, 580.0, 620.0, 595.0, 620.0, 610.0, 620.0, 610.0, 620.0, 645.0, 620.0, 635.0, 620.0, 650.0, 620.0, 960.0, 620.0, 260.0, 620.0, 920.0, 620.0, 500.0, 620.0, 815.0, 620.0, 485.0, 620.0, 65.0, 620.0, 610.0, 620.0, 625.0, 620.0, 360.0, 620.0, 725.0, 620.0, 245.0, 580.0, 200.0, 580.0, 5.0, 580.0, 680.0, 580.0, 370.0, 580.0, 665.0, 580.0, 635.0, 580.0, 875.0, 580.0, 365.0, 580.0, 465.0, 580.0, 585.0, 580.0, 415.0, 580.0, 625.0, 580.0, 580.0, 580.0, 245.0, 580.0, 315.0, 580.0, 400.0, 580.0, 180.0, 580.0, 250.0, 580.0, 555.0, 580.0, 665.0, 580.0, 1160.0, 580.0, 580.0, 580.0, 595.0, 580.0, 610.0, 580.0, 610.0, 580.0, 645.0, 580.0, 635.0, 580.0, 650.0, 580.0, 960.0, 580.0, 260.0, 580.0, 920.0, 580.0, 500.0, 580.0, 815.0, 580.0, 485.0, 580.0, 65.0, 580.0, 610.0, 580.0, 625.0, 580.0, 360.0, 580.0, 725.0, 580.0, 245.0, 200.0, 5.0, 200.0, 680.0, 200.0, 370.0, 200.0, 665.0, 200.0, 635.0, 200.0, 875.0, 200.0, 365.0, 200.0, 465.0, 200.0, 585.0, 200.0, 415.0, 200.0, 625.0, 200.0, 580.0, 200.0, 245.0, 200.0, 315.0, 200.0, 400.0, 200.0, 180.0, 200.0, 250.0, 200.0, 555.0, 200.0, 665.0, 200.0, 1160.0, 200.0, 580.0, 200.0, 595.0, 200.0, 610.0, 200.0, 610.0, 200.0, 645.0, 200.0, 635.0, 200.0, 650.0, 200.0, 960.0, 200.0, 260.0, 200.0, 920.0, 200.0, 500.0, 200.0, 815.0, 200.0, 485.0, 200.0, 65.0, 200.0, 610.0, 200.0, 625.0, 200.0, 360.0, 200.0, 725.0, 200.0, 245.0, 5.0, 680.0, 5.0, 370.0, 5.0, 665.0, 5.0, 635.0, 5.0, 875.0, 5.0, 365.0, 5.0, 465.0, 5.0, 585.0, 5.0, 415.0, 5.0, 625.0, 5.0, 580.0, 5.0, 245.0, 5.0, 315.0, 5.0, 400.0, 5.0, 180.0, 5.0, 250.0, 5.0, 555.0, 5.0, 665.0, 5.0, 1160.0, 5.0, 580.0, 5.0, 595.0, 5.0, 610.0, 5.0, 610.0, 5.0, 645.0, 5.0, 635.0, 5.0, 650.0, 5.0, 960.0, 5.0, 260.0, 5.0, 920.0, 5.0, 500.0, 5.0, 815.0, 5.0, 485.0, 5.0, 65.0, 5.0, 610.0, 5.0, 625.0, 5.0, 360.0, 5.0, 725.0, 5.0, 245.0, 680.0, 370.0, 680.0, 665.0, 680.0, 635.0, 680.0, 875.0, 680.0, 365.0, 680.0, 465.0, 680.0, 585.0, 680.0, 415.0, 680.0, 625.0, 680.0, 580.0, 680.0, 245.0, 680.0, 315.0, 680.0, 400.0, 680.0, 180.0, 680.0, 250.0, 680.0, 555.0, 680.0, 665.0, 680.0, 1160.0, 680.0, 580.0, 680.0, 595.0, 680.0, 610.0, 680.0, 610.0, 680.0, 645.0, 680.0, 635.0, 680.0, 650.0, 680.0, 960.0, 680.0, 260.0, 680.0, 920.0, 680.0, 500.0, 680.0, 815.0, 680.0, 485.0, 680.0, 65.0, 680.0, 610.0, 680.0, 625.0, 680.0, 360.0, 680.0, 725.0, 680.0, 245.0, 370.0, 665.0, 370.0, 635.0, 370.0, 875.0, 370.0, 365.0, 370.0, 465.0, 370.0, 585.0, 370.0, 415.0, 370.0, 625.0, 370.0, 580.0, 370.0, 245.0, 370.0, 315.0, 370.0, 400.0, 370.0, 180.0, 370.0, 250.0, 370.0, 555.0, 370.0, 665.0, 370.0, 1160.0, 370.0, 580.0, 370.0, 595.0, 370.0, 610.0, 370.0, 610.0, 370.0, 645.0, 370.0, 635.0, 370.0, 650.0, 370.0, 960.0, 370.0, 260.0, 370.0, 920.0, 370.0, 500.0, 370.0, 815.0, 370.0, 485.0, 370.0, 65.0, 370.0, 610.0, 370.0, 625.0, 370.0, 360.0, 370.0, 725.0, 370.0, 245.0, 665.0, 635.0, 665.0, 875.0, 665.0, 365.0, 665.0, 465.0, 665.0, 585.0, 665.0, 415.0, 665.0, 625.0, 665.0, 580.0, 665.0, 245.0, 665.0, 315.0, 665.0, 400.0, 665.0, 180.0, 665.0, 250.0, 665.0, 555.0, 665.0, 665.0, 665.0, 1160.0, 665.0, 580.0, 665.0, 595.0, 665.0, 610.0, 665.0, 610.0, 665.0, 645.0, 665.0, 635.0, 665.0, 650.0, 665.0, 960.0, 665.0, 260.0, 665.0, 920.0, 665.0, 500.0, 665.0, 815.0, 665.0, 485.0, 665.0, 65.0, 665.0, 610.0, 665.0, 625.0, 665.0, 360.0, 665.0, 725.0, 665.0, 245.0, 635.0, 875.0, 635.0, 365.0, 635.0, 465.0, 635.0, 585.0, 635.0, 415.0, 635.0, 625.0, 635.0, 580.0, 635.0, 245.0, 635.0, 315.0, 635.0, 400.0, 635.0, 180.0, 635.0, 250.0, 635.0, 555.0, 635.0, 665.0, 635.0, 1160.0, 635.0, 580.0, 635.0, 595.0, 635.0, 610.0, 635.0, 610.0, 635.0, 645.0, 635.0, 635.0, 635.0, 650.0, 635.0, 960.0, 635.0, 260.0, 635.0, 920.0, 635.0, 500.0, 635.0, 815.0, 635.0, 485.0, 635.0, 65.0, 635.0, 610.0, 635.0, 625.0, 635.0, 360.0, 635.0, 725.0, 635.0, 245.0, 875.0, 365.0, 875.0, 465.0, 875.0, 585.0, 875.0, 415.0, 875.0, 625.0, 875.0, 580.0, 875.0, 245.0, 875.0, 315.0, 875.0, 400.0, 875.0, 180.0, 875.0, 250.0, 875.0, 555.0, 875.0, 665.0, 875.0, 1160.0, 875.0, 580.0, 875.0, 595.0, 875.0, 610.0, 875.0, 610.0, 875.0, 645.0, 875.0, 635.0, 875.0, 650.0, 875.0, 960.0, 875.0, 260.0, 875.0, 920.0, 875.0, 500.0, 875.0, 815.0, 875.0, 485.0, 875.0, 65.0, 875.0, 610.0, 875.0, 625.0, 875.0, 360.0, 875.0, 725.0, 875.0, 245.0, 365.0, 465.0, 365.0, 585.0, 365.0, 415.0, 365.0, 625.0, 365.0, 580.0, 365.0, 245.0, 365.0, 315.0, 365.0, 400.0, 365.0, 180.0, 365.0, 250.0, 365.0, 555.0, 365.0, 665.0, 365.0, 1160.0, 365.0, 580.0, 365.0, 595.0, 365.0, 610.0, 365.0, 610.0, 365.0, 645.0, 365.0, 635.0, 365.0, 650.0, 365.0, 960.0, 365.0, 260.0, 365.0, 920.0, 365.0, 500.0, 365.0, 815.0, 365.0, 485.0, 365.0, 65.0, 365.0, 610.0, 365.0, 625.0, 365.0, 360.0, 365.0, 725.0, 365.0, 245.0, 465.0, 585.0, 465.0, 415.0, 465.0, 625.0, 465.0, 580.0, 465.0, 245.0, 465.0, 315.0, 465.0, 400.0, 465.0, 180.0, 465.0, 250.0, 465.0, 555.0, 465.0, 665.0, 465.0, 1160.0, 465.0, 580.0, 465.0, 595.0, 465.0, 610.0, 465.0, 610.0, 465.0, 645.0, 465.0, 635.0, 465.0, 650.0, 465.0, 960.0, 465.0, 260.0, 465.0, 920.0, 465.0, 500.0, 465.0, 815.0, 465.0, 485.0, 465.0, 65.0, 465.0, 610.0, 465.0, 625.0, 465.0, 360.0, 465.0, 725.0, 465.0, 245.0, 585.0, 415.0, 585.0, 625.0, 585.0, 580.0, 585.0, 245.0, 585.0, 315.0, 585.0, 400.0, 585.0, 180.0, 585.0, 250.0, 585.0, 555.0, 585.0, 665.0, 585.0, 1160.0, 585.0, 580.0, 585.0, 595.0, 585.0, 610.0, 585.0, 610.0, 585.0, 645.0, 585.0, 635.0, 585.0, 650.0, 585.0, 960.0, 585.0, 260.0, 585.0, 920.0, 585.0, 500.0, 585.0, 815.0, 585.0, 485.0, 585.0, 65.0, 585.0, 610.0, 585.0, 625.0, 585.0, 360.0, 585.0, 725.0, 585.0, 245.0, 415.0, 625.0, 415.0, 580.0, 415.0, 245.0, 415.0, 315.0, 415.0, 400.0, 415.0, 180.0, 415.0, 250.0, 415.0, 555.0, 415.0, 665.0, 415.0, 1160.0, 415.0, 580.0, 415.0, 595.0, 415.0, 610.0, 415.0, 610.0, 415.0, 645.0, 415.0, 635.0, 415.0, 650.0, 415.0, 960.0, 415.0, 260.0, 415.0, 920.0, 415.0, 500.0, 415.0, 815.0, 415.0, 485.0, 415.0, 65.0, 415.0, 610.0, 415.0, 625.0, 415.0, 360.0, 415.0, 725.0, 415.0, 245.0, 625.0, 580.0, 625.0, 245.0, 625.0, 315.0, 625.0, 400.0, 625.0, 180.0, 625.0, 250.0, 625.0, 555.0, 625.0, 665.0, 625.0, 1160.0, 625.0, 580.0, 625.0, 595.0, 625.0, 610.0, 625.0, 610.0, 625.0, 645.0, 625.0, 635.0, 625.0, 650.0, 625.0, 960.0, 625.0, 260.0, 625.0, 920.0, 625.0, 500.0, 625.0, 815.0, 625.0, 485.0, 625.0, 65.0, 625.0, 610.0, 625.0, 625.0, 625.0, 360.0, 625.0, 725.0, 625.0, 245.0, 580.0, 245.0, 580.0, 315.0, 580.0, 400.0, 580.0, 180.0, 580.0, 250.0, 580.0, 555.0, 580.0, 665.0, 580.0, 1160.0, 580.0, 580.0, 580.0, 595.0, 580.0, 610.0, 580.0, 610.0, 580.0, 645.0, 580.0, 635.0, 580.0, 650.0, 580.0, 960.0, 580.0, 260.0, 580.0, 920.0, 580.0, 500.0, 580.0, 815.0, 580.0, 485.0, 580.0, 65.0, 580.0, 610.0, 580.0, 625.0, 580.0, 360.0, 580.0, 725.0, 580.0, 245.0, 245.0, 315.0, 245.0, 400.0, 245.0, 180.0, 245.0, 250.0, 245.0, 555.0, 245.0, 665.0, 245.0, 1160.0, 245.0, 580.0, 245.0, 595.0, 245.0, 610.0, 245.0, 610.0, 245.0, 645.0, 245.0, 635.0, 245.0, 650.0, 245.0, 960.0, 245.0, 260.0, 245.0, 920.0, 245.0, 500.0, 245.0, 815.0, 245.0, 485.0, 245.0, 65.0, 245.0, 610.0, 245.0, 625.0, 245.0, 360.0, 245.0, 725.0, 245.0, 245.0, 315.0, 400.0, 315.0, 180.0, 315.0, 250.0, 315.0, 555.0, 315.0, 665.0, 315.0, 1160.0, 315.0, 580.0, 315.0, 595.0, 315.0, 610.0, 315.0, 610.0, 315.0, 645.0, 315.0, 635.0, 315.0, 650.0, 315.0, 960.0, 315.0, 260.0, 315.0, 920.0, 315.0, 500.0, 315.0, 815.0, 315.0, 485.0, 315.0, 65.0, 315.0, 610.0, 315.0, 625.0, 315.0, 360.0, 315.0, 725.0, 315.0, 245.0, 400.0, 180.0, 400.0, 250.0, 400.0, 555.0, 400.0, 665.0, 400.0, 1160.0, 400.0, 580.0, 400.0, 595.0, 400.0, 610.0, 400.0, 610.0, 400.0, 645.0, 400.0, 635.0, 400.0, 650.0, 400.0, 960.0, 400.0, 260.0, 400.0, 920.0, 400.0, 500.0, 400.0, 815.0, 400.0, 485.0, 400.0, 65.0, 400.0, 610.0, 400.0, 625.0, 400.0, 360.0, 400.0, 725.0, 400.0, 245.0, 180.0, 250.0, 180.0, 555.0, 180.0, 665.0, 180.0, 1160.0, 180.0, 580.0, 180.0, 595.0, 180.0, 610.0, 180.0, 610.0, 180.0, 645.0, 180.0, 635.0, 180.0, 650.0, 180.0, 960.0, 180.0, 260.0, 180.0, 920.0, 180.0, 500.0, 180.0, 815.0, 180.0, 485.0, 180.0, 65.0, 180.0, 610.0, 180.0, 625.0, 180.0, 360.0, 180.0, 725.0, 180.0, 245.0, 250.0, 555.0, 250.0, 665.0, 250.0, 1160.0, 250.0, 580.0, 250.0, 595.0, 250.0, 610.0, 250.0, 610.0, 250.0, 645.0, 250.0, 635.0, 250.0, 650.0, 250.0, 960.0, 250.0, 260.0, 250.0, 920.0, 250.0, 500.0, 250.0, 815.0, 250.0, 485.0, 250.0, 65.0, 250.0, 610.0, 250.0, 625.0, 250.0, 360.0, 250.0, 725.0, 250.0, 245.0, 555.0, 665.0, 555.0, 1160.0, 555.0, 580.0, 555.0, 595.0, 555.0, 610.0, 555.0, 610.0, 555.0, 645.0, 555.0, 635.0, 555.0, 650.0, 555.0, 960.0, 555.0, 260.0, 555.0, 920.0, 555.0, 500.0, 555.0, 815.0, 555.0, 485.0, 555.0, 65.0, 555.0, 610.0, 555.0, 625.0, 555.0, 360.0, 555.0, 725.0, 555.0, 245.0, 665.0, 1160.0, 665.0, 580.0, 665.0, 595.0, 665.0, 610.0, 665.0, 610.0, 665.0, 645.0, 665.0, 635.0, 665.0, 650.0, 665.0, 960.0, 665.0, 260.0, 665.0, 920.0, 665.0, 500.0, 665.0, 815.0, 665.0, 485.0, 665.0, 65.0, 665.0, 610.0, 665.0, 625.0, 665.0, 360.0, 665.0, 725.0, 665.0, 245.0, 1160.0, 580.0, 1160.0, 595.0, 1160.0, 610.0, 1160.0, 610.0, 1160.0, 645.0, 1160.0, 635.0, 1160.0, 650.0, 1160.0, 960.0, 1160.0, 260.0, 1160.0, 920.0, 1160.0, 500.0, 1160.0, 815.0, 1160.0, 485.0, 1160.0, 65.0, 1160.0, 610.0, 1160.0, 625.0, 1160.0, 360.0, 1160.0, 725.0, 1160.0, 245.0, 580.0, 595.0, 580.0, 610.0, 580.0, 610.0, 580.0, 645.0, 580.0, 635.0, 580.0, 650.0, 580.0, 960.0, 580.0, 260.0, 580.0, 920.0, 580.0, 500.0, 580.0, 815.0, 580.0, 485.0, 580.0, 65.0, 580.0, 610.0, 580.0, 625.0, 580.0, 360.0, 580.0, 725.0, 580.0, 245.0, 595.0, 610.0, 595.0, 610.0, 595.0, 645.0, 595.0, 635.0, 595.0, 650.0, 595.0, 960.0, 595.0, 260.0, 595.0, 920.0, 595.0, 500.0, 595.0, 815.0, 595.0, 485.0, 595.0, 65.0, 595.0, 610.0, 595.0, 625.0, 595.0, 360.0, 595.0, 725.0, 595.0, 245.0, 610.0, 610.0, 610.0, 645.0, 610.0, 635.0, 610.0, 650.0, 610.0, 960.0, 610.0, 260.0, 610.0, 920.0, 610.0, 500.0, 610.0, 815.0, 610.0, 485.0, 610.0, 65.0, 610.0, 610.0, 610.0, 625.0, 610.0, 360.0, 610.0, 725.0, 610.0, 245.0, 610.0, 645.0, 610.0, 635.0, 610.0, 650.0, 610.0, 960.0, 610.0, 260.0, 610.0, 920.0, 610.0, 500.0, 610.0, 815.0, 610.0, 485.0, 610.0, 65.0, 610.0, 610.0, 610.0, 625.0, 610.0, 360.0, 610.0, 725.0, 610.0, 245.0, 645.0, 635.0, 645.0, 650.0, 645.0, 960.0, 645.0, 260.0, 645.0, 920.0, 645.0, 500.0, 645.0, 815.0, 645.0, 485.0, 645.0, 65.0, 645.0, 610.0, 645.0, 625.0, 645.0, 360.0, 645.0, 725.0, 645.0, 245.0, 635.0, 650.0, 635.0, 960.0, 635.0, 260.0, 635.0, 920.0, 635.0, 500.0, 635.0, 815.0, 635.0, 485.0, 635.0, 65.0, 635.0, 610.0, 635.0, 625.0, 635.0, 360.0, 635.0, 725.0, 635.0, 245.0, 650.0, 960.0, 650.0, 260.0, 650.0, 920.0, 650.0, 500.0, 650.0, 815.0, 650.0, 485.0, 650.0, 65.0, 650.0, 610.0, 650.0, 625.0, 650.0, 360.0, 650.0, 725.0, 650.0, 245.0, 960.0, 260.0, 960.0, 920.0, 960.0, 500.0, 960.0, 815.0, 960.0, 485.0, 960.0, 65.0, 960.0, 610.0, 960.0, 625.0, 960.0, 360.0, 960.0, 725.0, 960.0, 245.0, 260.0, 920.0, 260.0, 500.0, 260.0, 815.0, 260.0, 485.0, 260.0, 65.0, 260.0, 610.0, 260.0, 625.0, 260.0, 360.0, 260.0, 725.0, 260.0, 245.0, 920.0, 500.0, 920.0, 815.0, 920.0, 485.0, 920.0, 65.0, 920.0, 610.0, 920.0, 625.0, 920.0, 360.0, 920.0, 725.0, 920.0, 245.0, 500.0, 815.0, 500.0, 485.0, 500.0, 65.0, 500.0, 610.0, 500.0, 625.0, 500.0, 360.0, 500.0, 725.0, 500.0, 245.0, 815.0, 485.0, 815.0, 65.0, 815.0, 610.0, 815.0, 625.0, 815.0, 360.0, 815.0, 725.0, 815.0, 245.0, 485.0, 65.0, 485.0, 610.0, 485.0, 625.0, 485.0, 360.0, 485.0, 725.0, 485.0, 245.0, 65.0, 610.0, 65.0, 625.0, 65.0, 360.0, 65.0, 725.0, 65.0, 245.0, 610.0, 625.0, 610.0, 360.0, 610.0, 725.0, 610.0, 245.0, 625.0, 360.0, 625.0, 725.0, 625.0, 245.0, 360.0, 725.0, 360.0, 245.0, 725.0, 245.0]}, {\"hoverinfo\": \"none\", \"mode\": \"markers\", \"type\": \"scatter\", \"x\": [565.0, 25.0, 345.0, 945.0, 845.0, 880.0, 25.0, 525.0, 580.0, 650.0, 1605.0, 1220.0, 1465.0, 1530.0, 845.0, 725.0, 145.0, 415.0, 510.0, 560.0, 300.0, 520.0, 480.0, 835.0, 975.0, 1215.0, 1320.0, 1250.0, 660.0, 410.0, 420.0, 575.0, 1150.0, 700.0, 685.0, 685.0, 770.0, 795.0, 720.0, 760.0, 475.0, 95.0, 875.0, 700.0, 555.0, 830.0, 1170.0, 830.0, 605.0, 595.0, 1340.0, 1740.0], \"y\": [575.0, 185.0, 750.0, 685.0, 655.0, 660.0, 230.0, 1000.0, 1175.0, 1130.0, 620.0, 580.0, 200.0, 5.0, 680.0, 370.0, 665.0, 635.0, 875.0, 365.0, 465.0, 585.0, 415.0, 625.0, 580.0, 245.0, 315.0, 400.0, 180.0, 250.0, 555.0, 665.0, 1160.0, 580.0, 595.0, 610.0, 610.0, 645.0, 635.0, 650.0, 960.0, 260.0, 920.0, 500.0, 815.0, 485.0, 65.0, 610.0, 625.0, 360.0, 725.0, 245.0]}],                        {\"template\": {\"data\": {\"bar\": [{\"error_x\": {\"color\": \"#2a3f5f\"}, \"error_y\": {\"color\": \"#2a3f5f\"}, \"marker\": {\"line\": {\"color\": \"#E5ECF6\", \"width\": 0.5}}, \"type\": \"bar\"}], \"barpolar\": [{\"marker\": {\"line\": {\"color\": \"#E5ECF6\", \"width\": 0.5}}, \"type\": \"barpolar\"}], \"carpet\": [{\"aaxis\": {\"endlinecolor\": \"#2a3f5f\", \"gridcolor\": \"white\", \"linecolor\": \"white\", \"minorgridcolor\": \"white\", \"startlinecolor\": \"#2a3f5f\"}, \"baxis\": {\"endlinecolor\": \"#2a3f5f\", \"gridcolor\": \"white\", \"linecolor\": \"white\", \"minorgridcolor\": \"white\", \"startlinecolor\": \"#2a3f5f\"}, \"type\": \"carpet\"}], \"choropleth\": [{\"colorbar\": {\"outlinewidth\": 0, \"ticks\": \"\"}, \"type\": \"choropleth\"}], \"contour\": [{\"colorbar\": {\"outlinewidth\": 0, \"ticks\": \"\"}, \"colorscale\": [[0.0, \"#0d0887\"], [0.1111111111111111, \"#46039f\"], [0.2222222222222222, \"#7201a8\"], [0.3333333333333333, \"#9c179e\"], [0.4444444444444444, \"#bd3786\"], [0.5555555555555556, \"#d8576b\"], [0.6666666666666666, \"#ed7953\"], [0.7777777777777778, \"#fb9f3a\"], [0.8888888888888888, \"#fdca26\"], [1.0, \"#f0f921\"]], \"type\": \"contour\"}], \"contourcarpet\": [{\"colorbar\": {\"outlinewidth\": 0, \"ticks\": \"\"}, \"type\": \"contourcarpet\"}], \"heatmap\": [{\"colorbar\": {\"outlinewidth\": 0, \"ticks\": \"\"}, \"colorscale\": [[0.0, \"#0d0887\"], [0.1111111111111111, \"#46039f\"], [0.2222222222222222, \"#7201a8\"], [0.3333333333333333, \"#9c179e\"], [0.4444444444444444, \"#bd3786\"], [0.5555555555555556, \"#d8576b\"], [0.6666666666666666, \"#ed7953\"], [0.7777777777777778, \"#fb9f3a\"], [0.8888888888888888, \"#fdca26\"], [1.0, \"#f0f921\"]], \"type\": \"heatmap\"}], \"heatmapgl\": [{\"colorbar\": {\"outlinewidth\": 0, \"ticks\": \"\"}, \"colorscale\": [[0.0, \"#0d0887\"], [0.1111111111111111, \"#46039f\"], [0.2222222222222222, \"#7201a8\"], [0.3333333333333333, \"#9c179e\"], [0.4444444444444444, \"#bd3786\"], [0.5555555555555556, \"#d8576b\"], [0.6666666666666666, \"#ed7953\"], [0.7777777777777778, \"#fb9f3a\"], [0.8888888888888888, \"#fdca26\"], [1.0, \"#f0f921\"]], \"type\": \"heatmapgl\"}], \"histogram\": [{\"marker\": {\"colorbar\": {\"outlinewidth\": 0, \"ticks\": \"\"}}, \"type\": \"histogram\"}], \"histogram2d\": [{\"colorbar\": {\"outlinewidth\": 0, \"ticks\": \"\"}, \"colorscale\": [[0.0, \"#0d0887\"], [0.1111111111111111, \"#46039f\"], [0.2222222222222222, \"#7201a8\"], [0.3333333333333333, \"#9c179e\"], [0.4444444444444444, \"#bd3786\"], [0.5555555555555556, \"#d8576b\"], [0.6666666666666666, \"#ed7953\"], [0.7777777777777778, \"#fb9f3a\"], [0.8888888888888888, \"#fdca26\"], [1.0, \"#f0f921\"]], \"type\": \"histogram2d\"}], \"histogram2dcontour\": [{\"colorbar\": {\"outlinewidth\": 0, \"ticks\": \"\"}, \"colorscale\": [[0.0, \"#0d0887\"], [0.1111111111111111, \"#46039f\"], [0.2222222222222222, \"#7201a8\"], [0.3333333333333333, \"#9c179e\"], [0.4444444444444444, \"#bd3786\"], [0.5555555555555556, \"#d8576b\"], [0.6666666666666666, \"#ed7953\"], [0.7777777777777778, \"#fb9f3a\"], [0.8888888888888888, \"#fdca26\"], [1.0, \"#f0f921\"]], \"type\": \"histogram2dcontour\"}], \"mesh3d\": [{\"colorbar\": {\"outlinewidth\": 0, \"ticks\": \"\"}, \"type\": \"mesh3d\"}], \"parcoords\": [{\"line\": {\"colorbar\": {\"outlinewidth\": 0, \"ticks\": \"\"}}, \"type\": \"parcoords\"}], \"pie\": [{\"automargin\": true, \"type\": \"pie\"}], \"scatter\": [{\"marker\": {\"colorbar\": {\"outlinewidth\": 0, \"ticks\": \"\"}}, \"type\": \"scatter\"}], \"scatter3d\": [{\"line\": {\"colorbar\": {\"outlinewidth\": 0, \"ticks\": \"\"}}, \"marker\": {\"colorbar\": {\"outlinewidth\": 0, \"ticks\": \"\"}}, \"type\": \"scatter3d\"}], \"scattercarpet\": [{\"marker\": {\"colorbar\": {\"outlinewidth\": 0, \"ticks\": \"\"}}, \"type\": \"scattercarpet\"}], \"scattergeo\": [{\"marker\": {\"colorbar\": {\"outlinewidth\": 0, \"ticks\": \"\"}}, \"type\": \"scattergeo\"}], \"scattergl\": [{\"marker\": {\"colorbar\": {\"outlinewidth\": 0, \"ticks\": \"\"}}, \"type\": \"scattergl\"}], \"scattermapbox\": [{\"marker\": {\"colorbar\": {\"outlinewidth\": 0, \"ticks\": \"\"}}, \"type\": \"scattermapbox\"}], \"scatterpolar\": [{\"marker\": {\"colorbar\": {\"outlinewidth\": 0, \"ticks\": \"\"}}, \"type\": \"scatterpolar\"}], \"scatterpolargl\": [{\"marker\": {\"colorbar\": {\"outlinewidth\": 0, \"ticks\": \"\"}}, \"type\": \"scatterpolargl\"}], \"scatterternary\": [{\"marker\": {\"colorbar\": {\"outlinewidth\": 0, \"ticks\": \"\"}}, \"type\": \"scatterternary\"}], \"surface\": [{\"colorbar\": {\"outlinewidth\": 0, \"ticks\": \"\"}, \"colorscale\": [[0.0, \"#0d0887\"], [0.1111111111111111, \"#46039f\"], [0.2222222222222222, \"#7201a8\"], [0.3333333333333333, \"#9c179e\"], [0.4444444444444444, \"#bd3786\"], [0.5555555555555556, \"#d8576b\"], [0.6666666666666666, \"#ed7953\"], [0.7777777777777778, \"#fb9f3a\"], [0.8888888888888888, \"#fdca26\"], [1.0, \"#f0f921\"]], \"type\": \"surface\"}], \"table\": [{\"cells\": {\"fill\": {\"color\": \"#EBF0F8\"}, \"line\": {\"color\": \"white\"}}, \"header\": {\"fill\": {\"color\": \"#C8D4E3\"}, \"line\": {\"color\": \"white\"}}, \"type\": \"table\"}]}, \"layout\": {\"annotationdefaults\": {\"arrowcolor\": \"#2a3f5f\", \"arrowhead\": 0, \"arrowwidth\": 1}, \"autotypenumbers\": \"strict\", \"coloraxis\": {\"colorbar\": {\"outlinewidth\": 0, \"ticks\": \"\"}}, \"colorscale\": {\"diverging\": [[0, \"#8e0152\"], [0.1, \"#c51b7d\"], [0.2, \"#de77ae\"], [0.3, \"#f1b6da\"], [0.4, \"#fde0ef\"], [0.5, \"#f7f7f7\"], [0.6, \"#e6f5d0\"], [0.7, \"#b8e186\"], [0.8, \"#7fbc41\"], [0.9, \"#4d9221\"], [1, \"#276419\"]], \"sequential\": [[0.0, \"#0d0887\"], [0.1111111111111111, \"#46039f\"], [0.2222222222222222, \"#7201a8\"], [0.3333333333333333, \"#9c179e\"], [0.4444444444444444, \"#bd3786\"], [0.5555555555555556, \"#d8576b\"], [0.6666666666666666, \"#ed7953\"], [0.7777777777777778, \"#fb9f3a\"], [0.8888888888888888, \"#fdca26\"], [1.0, \"#f0f921\"]], \"sequentialminus\": [[0.0, \"#0d0887\"], [0.1111111111111111, \"#46039f\"], [0.2222222222222222, \"#7201a8\"], [0.3333333333333333, \"#9c179e\"], [0.4444444444444444, \"#bd3786\"], [0.5555555555555556, \"#d8576b\"], [0.6666666666666666, \"#ed7953\"], [0.7777777777777778, \"#fb9f3a\"], [0.8888888888888888, \"#fdca26\"], [1.0, \"#f0f921\"]]}, \"colorway\": [\"#636efa\", \"#EF553B\", \"#00cc96\", \"#ab63fa\", \"#FFA15A\", \"#19d3f3\", \"#FF6692\", \"#B6E880\", \"#FF97FF\", \"#FECB52\"], \"font\": {\"color\": \"#2a3f5f\"}, \"geo\": {\"bgcolor\": \"white\", \"lakecolor\": \"white\", \"landcolor\": \"#E5ECF6\", \"showlakes\": true, \"showland\": true, \"subunitcolor\": \"white\"}, \"hoverlabel\": {\"align\": \"left\"}, \"hovermode\": \"closest\", \"mapbox\": {\"style\": \"light\"}, \"paper_bgcolor\": \"white\", \"plot_bgcolor\": \"#E5ECF6\", \"polar\": {\"angularaxis\": {\"gridcolor\": \"white\", \"linecolor\": \"white\", \"ticks\": \"\"}, \"bgcolor\": \"#E5ECF6\", \"radialaxis\": {\"gridcolor\": \"white\", \"linecolor\": \"white\", \"ticks\": \"\"}}, \"scene\": {\"xaxis\": {\"backgroundcolor\": \"#E5ECF6\", \"gridcolor\": \"white\", \"gridwidth\": 2, \"linecolor\": \"white\", \"showbackground\": true, \"ticks\": \"\", \"zerolinecolor\": \"white\"}, \"yaxis\": {\"backgroundcolor\": \"#E5ECF6\", \"gridcolor\": \"white\", \"gridwidth\": 2, \"linecolor\": \"white\", \"showbackground\": true, \"ticks\": \"\", \"zerolinecolor\": \"white\"}, \"zaxis\": {\"backgroundcolor\": \"#E5ECF6\", \"gridcolor\": \"white\", \"gridwidth\": 2, \"linecolor\": \"white\", \"showbackground\": true, \"ticks\": \"\", \"zerolinecolor\": \"white\"}}, \"shapedefaults\": {\"line\": {\"color\": \"#2a3f5f\"}}, \"ternary\": {\"aaxis\": {\"gridcolor\": \"white\", \"linecolor\": \"white\", \"ticks\": \"\"}, \"baxis\": {\"gridcolor\": \"white\", \"linecolor\": \"white\", \"ticks\": \"\"}, \"bgcolor\": \"#E5ECF6\", \"caxis\": {\"gridcolor\": \"white\", \"linecolor\": \"white\", \"ticks\": \"\"}}, \"title\": {\"x\": 0.05}, \"xaxis\": {\"automargin\": true, \"gridcolor\": \"white\", \"linecolor\": \"white\", \"ticks\": \"\", \"title\": {\"standoff\": 15}, \"zerolinecolor\": \"white\", \"zerolinewidth\": 2}, \"yaxis\": {\"automargin\": true, \"gridcolor\": \"white\", \"linecolor\": \"white\", \"ticks\": \"\", \"title\": {\"standoff\": 15}, \"zerolinecolor\": \"white\", \"zerolinewidth\": 2}}}},                        {\"responsive\": true}                    ).then(function(){\n",
       "                            \n",
       "var gd = document.getElementById('034d3439-9f0d-46f7-a8d7-369ce62a05e7');\n",
       "var x = new MutationObserver(function (mutations, observer) {{\n",
       "        var display = window.getComputedStyle(gd).display;\n",
       "        if (!display || display === 'none') {{\n",
       "            console.log([gd, 'removed!']);\n",
       "            Plotly.purge(gd);\n",
       "            observer.disconnect();\n",
       "        }}\n",
       "}});\n",
       "\n",
       "// Listen for the removal of the full notebook cells\n",
       "var notebookContainer = gd.closest('#notebook-container');\n",
       "if (notebookContainer) {{\n",
       "    x.observe(notebookContainer, {childList: true});\n",
       "}}\n",
       "\n",
       "// Listen for the clearing of the current output cell\n",
       "var outputEl = gd.closest('.output');\n",
       "if (outputEl) {{\n",
       "    x.observe(outputEl, {childList: true});\n",
       "}}\n",
       "\n",
       "                        })                };                });            </script>        </div>"
      ]
     },
     "metadata": {},
     "output_type": "display_data"
    }
   ],
   "source": [
    "edge_trace = go.Scatter(x=aux[:,0], y=aux[:,1],\n",
    "    line=dict(width=1, color='#888'),\n",
    "    hoverinfo='none',\n",
    "    mode='lines')\n",
    "\n",
    "node_trace = go.Scatter(x=data[:,0], y=data[:,1],\n",
    "    hoverinfo='none',\n",
    "    mode='markers')\n",
    "\n",
    "fig = go.Figure(data=[edge_trace, node_trace])\n",
    "fig.show()"
   ]
  },
  {
   "cell_type": "code",
   "execution_count": 86,
   "id": "54d6a0ba",
   "metadata": {},
   "outputs": [
    {
     "data": {
      "application/vnd.plotly.v1+json": {
       "config": {
        "plotlyServerURL": "https://plot.ly"
       },
       "data": [
        {
         "hoverinfo": "none",
         "line": {
          "color": "#888",
          "width": 0.5
         },
         "mode": "lines",
         "type": "scatter",
         "x": [
          565,
          25,
          345,
          945,
          845,
          880,
          25,
          525,
          580,
          650,
          1605,
          1220,
          1465,
          1530,
          845,
          725,
          145,
          415,
          510,
          560,
          300,
          520,
          480,
          835,
          975,
          1215,
          1320,
          1250,
          660,
          410,
          420,
          575,
          1150,
          700,
          685,
          685,
          770,
          795,
          720,
          760,
          475,
          95,
          875,
          700,
          555,
          830,
          1170,
          830,
          605,
          595,
          1340,
          1740
         ],
         "y": [
          575,
          185,
          750,
          685,
          655,
          660,
          230,
          1000,
          1175,
          1130,
          620,
          580,
          200,
          5,
          680,
          370,
          665,
          635,
          875,
          365,
          465,
          585,
          415,
          625,
          580,
          245,
          315,
          400,
          180,
          250,
          555,
          665,
          1160,
          580,
          595,
          610,
          610,
          645,
          635,
          650,
          960,
          260,
          920,
          500,
          815,
          485,
          65,
          610,
          625,
          360,
          725,
          245
         ]
        },
        {
         "hoverinfo": "none",
         "mode": "markers",
         "type": "scatter",
         "x": [
          565,
          25,
          345,
          945,
          845,
          880,
          25,
          525,
          580,
          650,
          1605,
          1220,
          1465,
          1530,
          845,
          725,
          145,
          415,
          510,
          560,
          300,
          520,
          480,
          835,
          975,
          1215,
          1320,
          1250,
          660,
          410,
          420,
          575,
          1150,
          700,
          685,
          685,
          770,
          795,
          720,
          760,
          475,
          95,
          875,
          700,
          555,
          830,
          1170,
          830,
          605,
          595,
          1340,
          1740
         ],
         "y": [
          575,
          185,
          750,
          685,
          655,
          660,
          230,
          1000,
          1175,
          1130,
          620,
          580,
          200,
          5,
          680,
          370,
          665,
          635,
          875,
          365,
          465,
          585,
          415,
          625,
          580,
          245,
          315,
          400,
          180,
          250,
          555,
          665,
          1160,
          580,
          595,
          610,
          610,
          645,
          635,
          650,
          960,
          260,
          920,
          500,
          815,
          485,
          65,
          610,
          625,
          360,
          725,
          245
         ]
        }
       ],
       "layout": {
        "autosize": true,
        "template": {
         "data": {
          "bar": [
           {
            "error_x": {
             "color": "#2a3f5f"
            },
            "error_y": {
             "color": "#2a3f5f"
            },
            "marker": {
             "line": {
              "color": "#E5ECF6",
              "width": 0.5
             }
            },
            "type": "bar"
           }
          ],
          "barpolar": [
           {
            "marker": {
             "line": {
              "color": "#E5ECF6",
              "width": 0.5
             }
            },
            "type": "barpolar"
           }
          ],
          "carpet": [
           {
            "aaxis": {
             "endlinecolor": "#2a3f5f",
             "gridcolor": "white",
             "linecolor": "white",
             "minorgridcolor": "white",
             "startlinecolor": "#2a3f5f"
            },
            "baxis": {
             "endlinecolor": "#2a3f5f",
             "gridcolor": "white",
             "linecolor": "white",
             "minorgridcolor": "white",
             "startlinecolor": "#2a3f5f"
            },
            "type": "carpet"
           }
          ],
          "choropleth": [
           {
            "colorbar": {
             "outlinewidth": 0,
             "ticks": ""
            },
            "type": "choropleth"
           }
          ],
          "contour": [
           {
            "colorbar": {
             "outlinewidth": 0,
             "ticks": ""
            },
            "colorscale": [
             [
              0,
              "#0d0887"
             ],
             [
              0.1111111111111111,
              "#46039f"
             ],
             [
              0.2222222222222222,
              "#7201a8"
             ],
             [
              0.3333333333333333,
              "#9c179e"
             ],
             [
              0.4444444444444444,
              "#bd3786"
             ],
             [
              0.5555555555555556,
              "#d8576b"
             ],
             [
              0.6666666666666666,
              "#ed7953"
             ],
             [
              0.7777777777777778,
              "#fb9f3a"
             ],
             [
              0.8888888888888888,
              "#fdca26"
             ],
             [
              1,
              "#f0f921"
             ]
            ],
            "type": "contour"
           }
          ],
          "contourcarpet": [
           {
            "colorbar": {
             "outlinewidth": 0,
             "ticks": ""
            },
            "type": "contourcarpet"
           }
          ],
          "heatmap": [
           {
            "colorbar": {
             "outlinewidth": 0,
             "ticks": ""
            },
            "colorscale": [
             [
              0,
              "#0d0887"
             ],
             [
              0.1111111111111111,
              "#46039f"
             ],
             [
              0.2222222222222222,
              "#7201a8"
             ],
             [
              0.3333333333333333,
              "#9c179e"
             ],
             [
              0.4444444444444444,
              "#bd3786"
             ],
             [
              0.5555555555555556,
              "#d8576b"
             ],
             [
              0.6666666666666666,
              "#ed7953"
             ],
             [
              0.7777777777777778,
              "#fb9f3a"
             ],
             [
              0.8888888888888888,
              "#fdca26"
             ],
             [
              1,
              "#f0f921"
             ]
            ],
            "type": "heatmap"
           }
          ],
          "heatmapgl": [
           {
            "colorbar": {
             "outlinewidth": 0,
             "ticks": ""
            },
            "colorscale": [
             [
              0,
              "#0d0887"
             ],
             [
              0.1111111111111111,
              "#46039f"
             ],
             [
              0.2222222222222222,
              "#7201a8"
             ],
             [
              0.3333333333333333,
              "#9c179e"
             ],
             [
              0.4444444444444444,
              "#bd3786"
             ],
             [
              0.5555555555555556,
              "#d8576b"
             ],
             [
              0.6666666666666666,
              "#ed7953"
             ],
             [
              0.7777777777777778,
              "#fb9f3a"
             ],
             [
              0.8888888888888888,
              "#fdca26"
             ],
             [
              1,
              "#f0f921"
             ]
            ],
            "type": "heatmapgl"
           }
          ],
          "histogram": [
           {
            "marker": {
             "colorbar": {
              "outlinewidth": 0,
              "ticks": ""
             }
            },
            "type": "histogram"
           }
          ],
          "histogram2d": [
           {
            "colorbar": {
             "outlinewidth": 0,
             "ticks": ""
            },
            "colorscale": [
             [
              0,
              "#0d0887"
             ],
             [
              0.1111111111111111,
              "#46039f"
             ],
             [
              0.2222222222222222,
              "#7201a8"
             ],
             [
              0.3333333333333333,
              "#9c179e"
             ],
             [
              0.4444444444444444,
              "#bd3786"
             ],
             [
              0.5555555555555556,
              "#d8576b"
             ],
             [
              0.6666666666666666,
              "#ed7953"
             ],
             [
              0.7777777777777778,
              "#fb9f3a"
             ],
             [
              0.8888888888888888,
              "#fdca26"
             ],
             [
              1,
              "#f0f921"
             ]
            ],
            "type": "histogram2d"
           }
          ],
          "histogram2dcontour": [
           {
            "colorbar": {
             "outlinewidth": 0,
             "ticks": ""
            },
            "colorscale": [
             [
              0,
              "#0d0887"
             ],
             [
              0.1111111111111111,
              "#46039f"
             ],
             [
              0.2222222222222222,
              "#7201a8"
             ],
             [
              0.3333333333333333,
              "#9c179e"
             ],
             [
              0.4444444444444444,
              "#bd3786"
             ],
             [
              0.5555555555555556,
              "#d8576b"
             ],
             [
              0.6666666666666666,
              "#ed7953"
             ],
             [
              0.7777777777777778,
              "#fb9f3a"
             ],
             [
              0.8888888888888888,
              "#fdca26"
             ],
             [
              1,
              "#f0f921"
             ]
            ],
            "type": "histogram2dcontour"
           }
          ],
          "mesh3d": [
           {
            "colorbar": {
             "outlinewidth": 0,
             "ticks": ""
            },
            "type": "mesh3d"
           }
          ],
          "parcoords": [
           {
            "line": {
             "colorbar": {
              "outlinewidth": 0,
              "ticks": ""
             }
            },
            "type": "parcoords"
           }
          ],
          "pie": [
           {
            "automargin": true,
            "type": "pie"
           }
          ],
          "scatter": [
           {
            "marker": {
             "colorbar": {
              "outlinewidth": 0,
              "ticks": ""
             }
            },
            "type": "scatter"
           }
          ],
          "scatter3d": [
           {
            "line": {
             "colorbar": {
              "outlinewidth": 0,
              "ticks": ""
             }
            },
            "marker": {
             "colorbar": {
              "outlinewidth": 0,
              "ticks": ""
             }
            },
            "type": "scatter3d"
           }
          ],
          "scattercarpet": [
           {
            "marker": {
             "colorbar": {
              "outlinewidth": 0,
              "ticks": ""
             }
            },
            "type": "scattercarpet"
           }
          ],
          "scattergeo": [
           {
            "marker": {
             "colorbar": {
              "outlinewidth": 0,
              "ticks": ""
             }
            },
            "type": "scattergeo"
           }
          ],
          "scattergl": [
           {
            "marker": {
             "colorbar": {
              "outlinewidth": 0,
              "ticks": ""
             }
            },
            "type": "scattergl"
           }
          ],
          "scattermapbox": [
           {
            "marker": {
             "colorbar": {
              "outlinewidth": 0,
              "ticks": ""
             }
            },
            "type": "scattermapbox"
           }
          ],
          "scatterpolar": [
           {
            "marker": {
             "colorbar": {
              "outlinewidth": 0,
              "ticks": ""
             }
            },
            "type": "scatterpolar"
           }
          ],
          "scatterpolargl": [
           {
            "marker": {
             "colorbar": {
              "outlinewidth": 0,
              "ticks": ""
             }
            },
            "type": "scatterpolargl"
           }
          ],
          "scatterternary": [
           {
            "marker": {
             "colorbar": {
              "outlinewidth": 0,
              "ticks": ""
             }
            },
            "type": "scatterternary"
           }
          ],
          "surface": [
           {
            "colorbar": {
             "outlinewidth": 0,
             "ticks": ""
            },
            "colorscale": [
             [
              0,
              "#0d0887"
             ],
             [
              0.1111111111111111,
              "#46039f"
             ],
             [
              0.2222222222222222,
              "#7201a8"
             ],
             [
              0.3333333333333333,
              "#9c179e"
             ],
             [
              0.4444444444444444,
              "#bd3786"
             ],
             [
              0.5555555555555556,
              "#d8576b"
             ],
             [
              0.6666666666666666,
              "#ed7953"
             ],
             [
              0.7777777777777778,
              "#fb9f3a"
             ],
             [
              0.8888888888888888,
              "#fdca26"
             ],
             [
              1,
              "#f0f921"
             ]
            ],
            "type": "surface"
           }
          ],
          "table": [
           {
            "cells": {
             "fill": {
              "color": "#EBF0F8"
             },
             "line": {
              "color": "white"
             }
            },
            "header": {
             "fill": {
              "color": "#C8D4E3"
             },
             "line": {
              "color": "white"
             }
            },
            "type": "table"
           }
          ]
         },
         "layout": {
          "annotationdefaults": {
           "arrowcolor": "#2a3f5f",
           "arrowhead": 0,
           "arrowwidth": 1
          },
          "autotypenumbers": "strict",
          "coloraxis": {
           "colorbar": {
            "outlinewidth": 0,
            "ticks": ""
           }
          },
          "colorscale": {
           "diverging": [
            [
             0,
             "#8e0152"
            ],
            [
             0.1,
             "#c51b7d"
            ],
            [
             0.2,
             "#de77ae"
            ],
            [
             0.3,
             "#f1b6da"
            ],
            [
             0.4,
             "#fde0ef"
            ],
            [
             0.5,
             "#f7f7f7"
            ],
            [
             0.6,
             "#e6f5d0"
            ],
            [
             0.7,
             "#b8e186"
            ],
            [
             0.8,
             "#7fbc41"
            ],
            [
             0.9,
             "#4d9221"
            ],
            [
             1,
             "#276419"
            ]
           ],
           "sequential": [
            [
             0,
             "#0d0887"
            ],
            [
             0.1111111111111111,
             "#46039f"
            ],
            [
             0.2222222222222222,
             "#7201a8"
            ],
            [
             0.3333333333333333,
             "#9c179e"
            ],
            [
             0.4444444444444444,
             "#bd3786"
            ],
            [
             0.5555555555555556,
             "#d8576b"
            ],
            [
             0.6666666666666666,
             "#ed7953"
            ],
            [
             0.7777777777777778,
             "#fb9f3a"
            ],
            [
             0.8888888888888888,
             "#fdca26"
            ],
            [
             1,
             "#f0f921"
            ]
           ],
           "sequentialminus": [
            [
             0,
             "#0d0887"
            ],
            [
             0.1111111111111111,
             "#46039f"
            ],
            [
             0.2222222222222222,
             "#7201a8"
            ],
            [
             0.3333333333333333,
             "#9c179e"
            ],
            [
             0.4444444444444444,
             "#bd3786"
            ],
            [
             0.5555555555555556,
             "#d8576b"
            ],
            [
             0.6666666666666666,
             "#ed7953"
            ],
            [
             0.7777777777777778,
             "#fb9f3a"
            ],
            [
             0.8888888888888888,
             "#fdca26"
            ],
            [
             1,
             "#f0f921"
            ]
           ]
          },
          "colorway": [
           "#636efa",
           "#EF553B",
           "#00cc96",
           "#ab63fa",
           "#FFA15A",
           "#19d3f3",
           "#FF6692",
           "#B6E880",
           "#FF97FF",
           "#FECB52"
          ],
          "font": {
           "color": "#2a3f5f"
          },
          "geo": {
           "bgcolor": "white",
           "lakecolor": "white",
           "landcolor": "#E5ECF6",
           "showlakes": true,
           "showland": true,
           "subunitcolor": "white"
          },
          "hoverlabel": {
           "align": "left"
          },
          "hovermode": "closest",
          "mapbox": {
           "style": "light"
          },
          "paper_bgcolor": "white",
          "plot_bgcolor": "#E5ECF6",
          "polar": {
           "angularaxis": {
            "gridcolor": "white",
            "linecolor": "white",
            "ticks": ""
           },
           "bgcolor": "#E5ECF6",
           "radialaxis": {
            "gridcolor": "white",
            "linecolor": "white",
            "ticks": ""
           }
          },
          "scene": {
           "xaxis": {
            "backgroundcolor": "#E5ECF6",
            "gridcolor": "white",
            "gridwidth": 2,
            "linecolor": "white",
            "showbackground": true,
            "ticks": "",
            "zerolinecolor": "white"
           },
           "yaxis": {
            "backgroundcolor": "#E5ECF6",
            "gridcolor": "white",
            "gridwidth": 2,
            "linecolor": "white",
            "showbackground": true,
            "ticks": "",
            "zerolinecolor": "white"
           },
           "zaxis": {
            "backgroundcolor": "#E5ECF6",
            "gridcolor": "white",
            "gridwidth": 2,
            "linecolor": "white",
            "showbackground": true,
            "ticks": "",
            "zerolinecolor": "white"
           }
          },
          "shapedefaults": {
           "line": {
            "color": "#2a3f5f"
           }
          },
          "ternary": {
           "aaxis": {
            "gridcolor": "white",
            "linecolor": "white",
            "ticks": ""
           },
           "baxis": {
            "gridcolor": "white",
            "linecolor": "white",
            "ticks": ""
           },
           "bgcolor": "#E5ECF6",
           "caxis": {
            "gridcolor": "white",
            "linecolor": "white",
            "ticks": ""
           }
          },
          "title": {
           "x": 0.05
          },
          "xaxis": {
           "automargin": true,
           "gridcolor": "white",
           "linecolor": "white",
           "ticks": "",
           "title": {
            "standoff": 15
           },
           "zerolinecolor": "white",
           "zerolinewidth": 2
          },
          "yaxis": {
           "automargin": true,
           "gridcolor": "white",
           "linecolor": "white",
           "ticks": "",
           "title": {
            "standoff": 15
           },
           "zerolinecolor": "white",
           "zerolinewidth": 2
          }
         }
        },
        "xaxis": {
         "autorange": true,
         "range": [
          -80.67474174305254,
          1845.6747417430524
         ],
         "type": "linear"
        },
        "yaxis": {
         "autorange": true,
         "range": [
          -80.70063694267516,
          1260.7006369426751
         ],
         "type": "linear"
        }
       }
      },
      "image/png": "[encoded data removed]",
      "text/html": [
       "<div>                            <div id=\"f0414279-55ec-467d-9943-8d6dd240afae\" class=\"plotly-graph-div\" style=\"height:525px; width:100%;\"></div>            <script type=\"text/javascript\">                require([\"plotly\"], function(Plotly) {                    window.PLOTLYENV=window.PLOTLYENV || {};                                    if (document.getElementById(\"f0414279-55ec-467d-9943-8d6dd240afae\")) {                    Plotly.newPlot(                        \"f0414279-55ec-467d-9943-8d6dd240afae\",                        [{\"hoverinfo\": \"none\", \"line\": {\"color\": \"#888\", \"width\": 0.5}, \"mode\": \"lines\", \"type\": \"scatter\", \"x\": [565.0, 25.0, 345.0, 945.0, 845.0, 880.0, 25.0, 525.0, 580.0, 650.0, 1605.0, 1220.0, 1465.0, 1530.0, 845.0, 725.0, 145.0, 415.0, 510.0, 560.0, 300.0, 520.0, 480.0, 835.0, 975.0, 1215.0, 1320.0, 1250.0, 660.0, 410.0, 420.0, 575.0, 1150.0, 700.0, 685.0, 685.0, 770.0, 795.0, 720.0, 760.0, 475.0, 95.0, 875.0, 700.0, 555.0, 830.0, 1170.0, 830.0, 605.0, 595.0, 1340.0, 1740.0], \"y\": [575.0, 185.0, 750.0, 685.0, 655.0, 660.0, 230.0, 1000.0, 1175.0, 1130.0, 620.0, 580.0, 200.0, 5.0, 680.0, 370.0, 665.0, 635.0, 875.0, 365.0, 465.0, 585.0, 415.0, 625.0, 580.0, 245.0, 315.0, 400.0, 180.0, 250.0, 555.0, 665.0, 1160.0, 580.0, 595.0, 610.0, 610.0, 645.0, 635.0, 650.0, 960.0, 260.0, 920.0, 500.0, 815.0, 485.0, 65.0, 610.0, 625.0, 360.0, 725.0, 245.0]}, {\"hoverinfo\": \"none\", \"mode\": \"markers\", \"type\": \"scatter\", \"x\": [565.0, 25.0, 345.0, 945.0, 845.0, 880.0, 25.0, 525.0, 580.0, 650.0, 1605.0, 1220.0, 1465.0, 1530.0, 845.0, 725.0, 145.0, 415.0, 510.0, 560.0, 300.0, 520.0, 480.0, 835.0, 975.0, 1215.0, 1320.0, 1250.0, 660.0, 410.0, 420.0, 575.0, 1150.0, 700.0, 685.0, 685.0, 770.0, 795.0, 720.0, 760.0, 475.0, 95.0, 875.0, 700.0, 555.0, 830.0, 1170.0, 830.0, 605.0, 595.0, 1340.0, 1740.0], \"y\": [575.0, 185.0, 750.0, 685.0, 655.0, 660.0, 230.0, 1000.0, 1175.0, 1130.0, 620.0, 580.0, 200.0, 5.0, 680.0, 370.0, 665.0, 635.0, 875.0, 365.0, 465.0, 585.0, 415.0, 625.0, 580.0, 245.0, 315.0, 400.0, 180.0, 250.0, 555.0, 665.0, 1160.0, 580.0, 595.0, 610.0, 610.0, 645.0, 635.0, 650.0, 960.0, 260.0, 920.0, 500.0, 815.0, 485.0, 65.0, 610.0, 625.0, 360.0, 725.0, 245.0]}],                        {\"template\": {\"data\": {\"bar\": [{\"error_x\": {\"color\": \"#2a3f5f\"}, \"error_y\": {\"color\": \"#2a3f5f\"}, \"marker\": {\"line\": {\"color\": \"#E5ECF6\", \"width\": 0.5}}, \"type\": \"bar\"}], \"barpolar\": [{\"marker\": {\"line\": {\"color\": \"#E5ECF6\", \"width\": 0.5}}, \"type\": \"barpolar\"}], \"carpet\": [{\"aaxis\": {\"endlinecolor\": \"#2a3f5f\", \"gridcolor\": \"white\", \"linecolor\": \"white\", \"minorgridcolor\": \"white\", \"startlinecolor\": \"#2a3f5f\"}, \"baxis\": {\"endlinecolor\": \"#2a3f5f\", \"gridcolor\": \"white\", \"linecolor\": \"white\", \"minorgridcolor\": \"white\", \"startlinecolor\": \"#2a3f5f\"}, \"type\": \"carpet\"}], \"choropleth\": [{\"colorbar\": {\"outlinewidth\": 0, \"ticks\": \"\"}, \"type\": \"choropleth\"}], \"contour\": [{\"colorbar\": {\"outlinewidth\": 0, \"ticks\": \"\"}, \"colorscale\": [[0.0, \"#0d0887\"], [0.1111111111111111, \"#46039f\"], [0.2222222222222222, \"#7201a8\"], [0.3333333333333333, \"#9c179e\"], [0.4444444444444444, \"#bd3786\"], [0.5555555555555556, \"#d8576b\"], [0.6666666666666666, \"#ed7953\"], [0.7777777777777778, \"#fb9f3a\"], [0.8888888888888888, \"#fdca26\"], [1.0, \"#f0f921\"]], \"type\": \"contour\"}], \"contourcarpet\": [{\"colorbar\": {\"outlinewidth\": 0, \"ticks\": \"\"}, \"type\": \"contourcarpet\"}], \"heatmap\": [{\"colorbar\": {\"outlinewidth\": 0, \"ticks\": \"\"}, \"colorscale\": [[0.0, \"#0d0887\"], [0.1111111111111111, \"#46039f\"], [0.2222222222222222, \"#7201a8\"], [0.3333333333333333, \"#9c179e\"], [0.4444444444444444, \"#bd3786\"], [0.5555555555555556, \"#d8576b\"], [0.6666666666666666, \"#ed7953\"], [0.7777777777777778, \"#fb9f3a\"], [0.8888888888888888, \"#fdca26\"], [1.0, \"#f0f921\"]], \"type\": \"heatmap\"}], \"heatmapgl\": [{\"colorbar\": {\"outlinewidth\": 0, \"ticks\": \"\"}, \"colorscale\": [[0.0, \"#0d0887\"], [0.1111111111111111, \"#46039f\"], [0.2222222222222222, \"#7201a8\"], [0.3333333333333333, \"#9c179e\"], [0.4444444444444444, \"#bd3786\"], [0.5555555555555556, \"#d8576b\"], [0.6666666666666666, \"#ed7953\"], [0.7777777777777778, \"#fb9f3a\"], [0.8888888888888888, \"#fdca26\"], [1.0, \"#f0f921\"]], \"type\": \"heatmapgl\"}], \"histogram\": [{\"marker\": {\"colorbar\": {\"outlinewidth\": 0, \"ticks\": \"\"}}, \"type\": \"histogram\"}], \"histogram2d\": [{\"colorbar\": {\"outlinewidth\": 0, \"ticks\": \"\"}, \"colorscale\": [[0.0, \"#0d0887\"], [0.1111111111111111, \"#46039f\"], [0.2222222222222222, \"#7201a8\"], [0.3333333333333333, \"#9c179e\"], [0.4444444444444444, \"#bd3786\"], [0.5555555555555556, \"#d8576b\"], [0.6666666666666666, \"#ed7953\"], [0.7777777777777778, \"#fb9f3a\"], [0.8888888888888888, \"#fdca26\"], [1.0, \"#f0f921\"]], \"type\": \"histogram2d\"}], \"histogram2dcontour\": [{\"colorbar\": {\"outlinewidth\": 0, \"ticks\": \"\"}, \"colorscale\": [[0.0, \"#0d0887\"], [0.1111111111111111, \"#46039f\"], [0.2222222222222222, \"#7201a8\"], [0.3333333333333333, \"#9c179e\"], [0.4444444444444444, \"#bd3786\"], [0.5555555555555556, \"#d8576b\"], [0.6666666666666666, \"#ed7953\"], [0.7777777777777778, \"#fb9f3a\"], [0.8888888888888888, \"#fdca26\"], [1.0, \"#f0f921\"]], \"type\": \"histogram2dcontour\"}], \"mesh3d\": [{\"colorbar\": {\"outlinewidth\": 0, \"ticks\": \"\"}, \"type\": \"mesh3d\"}], \"parcoords\": [{\"line\": {\"colorbar\": {\"outlinewidth\": 0, \"ticks\": \"\"}}, \"type\": \"parcoords\"}], \"pie\": [{\"automargin\": true, \"type\": \"pie\"}], \"scatter\": [{\"marker\": {\"colorbar\": {\"outlinewidth\": 0, \"ticks\": \"\"}}, \"type\": \"scatter\"}], \"scatter3d\": [{\"line\": {\"colorbar\": {\"outlinewidth\": 0, \"ticks\": \"\"}}, \"marker\": {\"colorbar\": {\"outlinewidth\": 0, \"ticks\": \"\"}}, \"type\": \"scatter3d\"}], \"scattercarpet\": [{\"marker\": {\"colorbar\": {\"outlinewidth\": 0, \"ticks\": \"\"}}, \"type\": \"scattercarpet\"}], \"scattergeo\": [{\"marker\": {\"colorbar\": {\"outlinewidth\": 0, \"ticks\": \"\"}}, \"type\": \"scattergeo\"}], \"scattergl\": [{\"marker\": {\"colorbar\": {\"outlinewidth\": 0, \"ticks\": \"\"}}, \"type\": \"scattergl\"}], \"scattermapbox\": [{\"marker\": {\"colorbar\": {\"outlinewidth\": 0, \"ticks\": \"\"}}, \"type\": \"scattermapbox\"}], \"scatterpolar\": [{\"marker\": {\"colorbar\": {\"outlinewidth\": 0, \"ticks\": \"\"}}, \"type\": \"scatterpolar\"}], \"scatterpolargl\": [{\"marker\": {\"colorbar\": {\"outlinewidth\": 0, \"ticks\": \"\"}}, \"type\": \"scatterpolargl\"}], \"scatterternary\": [{\"marker\": {\"colorbar\": {\"outlinewidth\": 0, \"ticks\": \"\"}}, \"type\": \"scatterternary\"}], \"surface\": [{\"colorbar\": {\"outlinewidth\": 0, \"ticks\": \"\"}, \"colorscale\": [[0.0, \"#0d0887\"], [0.1111111111111111, \"#46039f\"], [0.2222222222222222, \"#7201a8\"], [0.3333333333333333, \"#9c179e\"], [0.4444444444444444, \"#bd3786\"], [0.5555555555555556, \"#d8576b\"], [0.6666666666666666, \"#ed7953\"], [0.7777777777777778, \"#fb9f3a\"], [0.8888888888888888, \"#fdca26\"], [1.0, \"#f0f921\"]], \"type\": \"surface\"}], \"table\": [{\"cells\": {\"fill\": {\"color\": \"#EBF0F8\"}, \"line\": {\"color\": \"white\"}}, \"header\": {\"fill\": {\"color\": \"#C8D4E3\"}, \"line\": {\"color\": \"white\"}}, \"type\": \"table\"}]}, \"layout\": {\"annotationdefaults\": {\"arrowcolor\": \"#2a3f5f\", \"arrowhead\": 0, \"arrowwidth\": 1}, \"autotypenumbers\": \"strict\", \"coloraxis\": {\"colorbar\": {\"outlinewidth\": 0, \"ticks\": \"\"}}, \"colorscale\": {\"diverging\": [[0, \"#8e0152\"], [0.1, \"#c51b7d\"], [0.2, \"#de77ae\"], [0.3, \"#f1b6da\"], [0.4, \"#fde0ef\"], [0.5, \"#f7f7f7\"], [0.6, \"#e6f5d0\"], [0.7, \"#b8e186\"], [0.8, \"#7fbc41\"], [0.9, \"#4d9221\"], [1, \"#276419\"]], \"sequential\": [[0.0, \"#0d0887\"], [0.1111111111111111, \"#46039f\"], [0.2222222222222222, \"#7201a8\"], [0.3333333333333333, \"#9c179e\"], [0.4444444444444444, \"#bd3786\"], [0.5555555555555556, \"#d8576b\"], [0.6666666666666666, \"#ed7953\"], [0.7777777777777778, \"#fb9f3a\"], [0.8888888888888888, \"#fdca26\"], [1.0, \"#f0f921\"]], \"sequentialminus\": [[0.0, \"#0d0887\"], [0.1111111111111111, \"#46039f\"], [0.2222222222222222, \"#7201a8\"], [0.3333333333333333, \"#9c179e\"], [0.4444444444444444, \"#bd3786\"], [0.5555555555555556, \"#d8576b\"], [0.6666666666666666, \"#ed7953\"], [0.7777777777777778, \"#fb9f3a\"], [0.8888888888888888, \"#fdca26\"], [1.0, \"#f0f921\"]]}, \"colorway\": [\"#636efa\", \"#EF553B\", \"#00cc96\", \"#ab63fa\", \"#FFA15A\", \"#19d3f3\", \"#FF6692\", \"#B6E880\", \"#FF97FF\", \"#FECB52\"], \"font\": {\"color\": \"#2a3f5f\"}, \"geo\": {\"bgcolor\": \"white\", \"lakecolor\": \"white\", \"landcolor\": \"#E5ECF6\", \"showlakes\": true, \"showland\": true, \"subunitcolor\": \"white\"}, \"hoverlabel\": {\"align\": \"left\"}, \"hovermode\": \"closest\", \"mapbox\": {\"style\": \"light\"}, \"paper_bgcolor\": \"white\", \"plot_bgcolor\": \"#E5ECF6\", \"polar\": {\"angularaxis\": {\"gridcolor\": \"white\", \"linecolor\": \"white\", \"ticks\": \"\"}, \"bgcolor\": \"#E5ECF6\", \"radialaxis\": {\"gridcolor\": \"white\", \"linecolor\": \"white\", \"ticks\": \"\"}}, \"scene\": {\"xaxis\": {\"backgroundcolor\": \"#E5ECF6\", \"gridcolor\": \"white\", \"gridwidth\": 2, \"linecolor\": \"white\", \"showbackground\": true, \"ticks\": \"\", \"zerolinecolor\": \"white\"}, \"yaxis\": {\"backgroundcolor\": \"#E5ECF6\", \"gridcolor\": \"white\", \"gridwidth\": 2, \"linecolor\": \"white\", \"showbackground\": true, \"ticks\": \"\", \"zerolinecolor\": \"white\"}, \"zaxis\": {\"backgroundcolor\": \"#E5ECF6\", \"gridcolor\": \"white\", \"gridwidth\": 2, \"linecolor\": \"white\", \"showbackground\": true, \"ticks\": \"\", \"zerolinecolor\": \"white\"}}, \"shapedefaults\": {\"line\": {\"color\": \"#2a3f5f\"}}, \"ternary\": {\"aaxis\": {\"gridcolor\": \"white\", \"linecolor\": \"white\", \"ticks\": \"\"}, \"baxis\": {\"gridcolor\": \"white\", \"linecolor\": \"white\", \"ticks\": \"\"}, \"bgcolor\": \"#E5ECF6\", \"caxis\": {\"gridcolor\": \"white\", \"linecolor\": \"white\", \"ticks\": \"\"}}, \"title\": {\"x\": 0.05}, \"xaxis\": {\"automargin\": true, \"gridcolor\": \"white\", \"linecolor\": \"white\", \"ticks\": \"\", \"title\": {\"standoff\": 15}, \"zerolinecolor\": \"white\", \"zerolinewidth\": 2}, \"yaxis\": {\"automargin\": true, \"gridcolor\": \"white\", \"linecolor\": \"white\", \"ticks\": \"\", \"title\": {\"standoff\": 15}, \"zerolinecolor\": \"white\", \"zerolinewidth\": 2}}}},                        {\"responsive\": true}                    ).then(function(){\n",
       "                            \n",
       "var gd = document.getElementById('f0414279-55ec-467d-9943-8d6dd240afae');\n",
       "var x = new MutationObserver(function (mutations, observer) {{\n",
       "        var display = window.getComputedStyle(gd).display;\n",
       "        if (!display || display === 'none') {{\n",
       "            console.log([gd, 'removed!']);\n",
       "            Plotly.purge(gd);\n",
       "            observer.disconnect();\n",
       "        }}\n",
       "}});\n",
       "\n",
       "// Listen for the removal of the full notebook cells\n",
       "var notebookContainer = gd.closest('#notebook-container');\n",
       "if (notebookContainer) {{\n",
       "    x.observe(notebookContainer, {childList: true});\n",
       "}}\n",
       "\n",
       "// Listen for the clearing of the current output cell\n",
       "var outputEl = gd.closest('.output');\n",
       "if (outputEl) {{\n",
       "    x.observe(outputEl, {childList: true});\n",
       "}}\n",
       "\n",
       "                        })                };                });            </script>        </div>"
      ]
     },
     "metadata": {},
     "output_type": "display_data"
    }
   ],
   "source": [
    "edge_trace = go.Scatter(x=data[:,0], y=data[:,1],\n",
    "    line=dict(width=0.5, color='#888'),\n",
    "    hoverinfo='none',\n",
    "    mode='lines')\n",
    "\n",
    "node_trace = go.Scatter(x=data[:,0], y=data[:,1],\n",
    "    hoverinfo='none',\n",
    "    mode='markers')\n",
    "\n",
    "fig = go.Figure(data=[edge_trace, node_trace])\n",
    "fig.show()"
   ]
  },
  {
   "cell_type": "code",
   "execution_count": 34,
   "id": "feb2d2e5",
   "metadata": {
    "collapsed": true,
    "jupyter": {
     "outputs_hidden": true
    }
   },
   "outputs": [
    {
     "ename": "ValueError",
     "evalue": "If using all scalar values, you must pass an index",
     "output_type": "error",
     "traceback": [
      "\u001b[0;31m---------------------------------------------------------------------------\u001b[0m",
      "\u001b[0;31mValueError\u001b[0m                                Traceback (most recent call last)",
      "\u001b[0;32m<ipython-input-34-367029bcbfeb>\u001b[0m in \u001b[0;36m<module>\u001b[0;34m\u001b[0m\n\u001b[0;32m----> 1\u001b[0;31m \u001b[0mpx\u001b[0m\u001b[0;34m.\u001b[0m\u001b[0mline\u001b[0m\u001b[0;34m(\u001b[0m\u001b[0mferomonios\u001b[0m\u001b[0;34m)\u001b[0m\u001b[0;34m\u001b[0m\u001b[0;34m\u001b[0m\u001b[0m\n\u001b[0m",
      "\u001b[0;32m~/anaconda3/lib/python3.7/site-packages/plotly/express/_chart_types.py\u001b[0m in \u001b[0;36mline\u001b[0;34m(data_frame, x, y, line_group, color, line_dash, hover_name, hover_data, custom_data, text, facet_row, facet_col, facet_col_wrap, facet_row_spacing, facet_col_spacing, error_x, error_x_minus, error_y, error_y_minus, animation_frame, animation_group, category_orders, labels, orientation, color_discrete_sequence, color_discrete_map, line_dash_sequence, line_dash_map, log_x, log_y, range_x, range_y, line_shape, render_mode, title, template, width, height)\u001b[0m\n\u001b[1;32m    250\u001b[0m     \u001b[0ma\u001b[0m \u001b[0mpolyline\u001b[0m \u001b[0mmark\u001b[0m \u001b[0;32min\u001b[0m \u001b[0;36m2\u001b[0m\u001b[0mD\u001b[0m \u001b[0mspace\u001b[0m\u001b[0;34m.\u001b[0m\u001b[0;34m\u001b[0m\u001b[0;34m\u001b[0m\u001b[0m\n\u001b[1;32m    251\u001b[0m     \"\"\"\n\u001b[0;32m--> 252\u001b[0;31m     \u001b[0;32mreturn\u001b[0m \u001b[0mmake_figure\u001b[0m\u001b[0;34m(\u001b[0m\u001b[0margs\u001b[0m\u001b[0;34m=\u001b[0m\u001b[0mlocals\u001b[0m\u001b[0;34m(\u001b[0m\u001b[0;34m)\u001b[0m\u001b[0;34m,\u001b[0m \u001b[0mconstructor\u001b[0m\u001b[0;34m=\u001b[0m\u001b[0mgo\u001b[0m\u001b[0;34m.\u001b[0m\u001b[0mScatter\u001b[0m\u001b[0;34m)\u001b[0m\u001b[0;34m\u001b[0m\u001b[0;34m\u001b[0m\u001b[0m\n\u001b[0m\u001b[1;32m    253\u001b[0m \u001b[0;34m\u001b[0m\u001b[0m\n\u001b[1;32m    254\u001b[0m \u001b[0;34m\u001b[0m\u001b[0m\n",
      "\u001b[0;32m~/anaconda3/lib/python3.7/site-packages/plotly/express/_core.py\u001b[0m in \u001b[0;36mmake_figure\u001b[0;34m(args, constructor, trace_patch, layout_patch)\u001b[0m\n\u001b[1;32m   1859\u001b[0m     \u001b[0mapply_default_cascade\u001b[0m\u001b[0;34m(\u001b[0m\u001b[0margs\u001b[0m\u001b[0;34m)\u001b[0m\u001b[0;34m\u001b[0m\u001b[0;34m\u001b[0m\u001b[0m\n\u001b[1;32m   1860\u001b[0m \u001b[0;34m\u001b[0m\u001b[0m\n\u001b[0;32m-> 1861\u001b[0;31m     \u001b[0margs\u001b[0m \u001b[0;34m=\u001b[0m \u001b[0mbuild_dataframe\u001b[0m\u001b[0;34m(\u001b[0m\u001b[0margs\u001b[0m\u001b[0;34m,\u001b[0m \u001b[0mconstructor\u001b[0m\u001b[0;34m)\u001b[0m\u001b[0;34m\u001b[0m\u001b[0;34m\u001b[0m\u001b[0m\n\u001b[0m\u001b[1;32m   1862\u001b[0m     \u001b[0;32mif\u001b[0m \u001b[0mconstructor\u001b[0m \u001b[0;32min\u001b[0m \u001b[0;34m[\u001b[0m\u001b[0mgo\u001b[0m\u001b[0;34m.\u001b[0m\u001b[0mTreemap\u001b[0m\u001b[0;34m,\u001b[0m \u001b[0mgo\u001b[0m\u001b[0;34m.\u001b[0m\u001b[0mSunburst\u001b[0m\u001b[0;34m]\u001b[0m \u001b[0;32mand\u001b[0m \u001b[0margs\u001b[0m\u001b[0;34m[\u001b[0m\u001b[0;34m\"path\"\u001b[0m\u001b[0;34m]\u001b[0m \u001b[0;32mis\u001b[0m \u001b[0;32mnot\u001b[0m \u001b[0;32mNone\u001b[0m\u001b[0;34m:\u001b[0m\u001b[0;34m\u001b[0m\u001b[0;34m\u001b[0m\u001b[0m\n\u001b[1;32m   1863\u001b[0m         \u001b[0margs\u001b[0m \u001b[0;34m=\u001b[0m \u001b[0mprocess_dataframe_hierarchy\u001b[0m\u001b[0;34m(\u001b[0m\u001b[0margs\u001b[0m\u001b[0;34m)\u001b[0m\u001b[0;34m\u001b[0m\u001b[0;34m\u001b[0m\u001b[0m\n",
      "\u001b[0;32m~/anaconda3/lib/python3.7/site-packages/plotly/express/_core.py\u001b[0m in \u001b[0;36mbuild_dataframe\u001b[0;34m(args, constructor)\u001b[0m\n\u001b[1;32m   1280\u001b[0m     \u001b[0mdf_provided\u001b[0m \u001b[0;34m=\u001b[0m \u001b[0margs\u001b[0m\u001b[0;34m[\u001b[0m\u001b[0;34m\"data_frame\"\u001b[0m\u001b[0;34m]\u001b[0m \u001b[0;32mis\u001b[0m \u001b[0;32mnot\u001b[0m \u001b[0;32mNone\u001b[0m\u001b[0;34m\u001b[0m\u001b[0;34m\u001b[0m\u001b[0m\n\u001b[1;32m   1281\u001b[0m     \u001b[0;32mif\u001b[0m \u001b[0mdf_provided\u001b[0m \u001b[0;32mand\u001b[0m \u001b[0;32mnot\u001b[0m \u001b[0misinstance\u001b[0m\u001b[0;34m(\u001b[0m\u001b[0margs\u001b[0m\u001b[0;34m[\u001b[0m\u001b[0;34m\"data_frame\"\u001b[0m\u001b[0;34m]\u001b[0m\u001b[0;34m,\u001b[0m \u001b[0mpd\u001b[0m\u001b[0;34m.\u001b[0m\u001b[0mDataFrame\u001b[0m\u001b[0;34m)\u001b[0m\u001b[0;34m:\u001b[0m\u001b[0;34m\u001b[0m\u001b[0;34m\u001b[0m\u001b[0m\n\u001b[0;32m-> 1282\u001b[0;31m         \u001b[0margs\u001b[0m\u001b[0;34m[\u001b[0m\u001b[0;34m\"data_frame\"\u001b[0m\u001b[0;34m]\u001b[0m \u001b[0;34m=\u001b[0m \u001b[0mpd\u001b[0m\u001b[0;34m.\u001b[0m\u001b[0mDataFrame\u001b[0m\u001b[0;34m(\u001b[0m\u001b[0margs\u001b[0m\u001b[0;34m[\u001b[0m\u001b[0;34m\"data_frame\"\u001b[0m\u001b[0;34m]\u001b[0m\u001b[0;34m)\u001b[0m\u001b[0;34m\u001b[0m\u001b[0;34m\u001b[0m\u001b[0m\n\u001b[0m\u001b[1;32m   1283\u001b[0m     \u001b[0mdf_input\u001b[0m \u001b[0;34m=\u001b[0m \u001b[0margs\u001b[0m\u001b[0;34m[\u001b[0m\u001b[0;34m\"data_frame\"\u001b[0m\u001b[0;34m]\u001b[0m\u001b[0;34m\u001b[0m\u001b[0;34m\u001b[0m\u001b[0m\n\u001b[1;32m   1284\u001b[0m \u001b[0;34m\u001b[0m\u001b[0m\n",
      "\u001b[0;32m~/anaconda3/lib/python3.7/site-packages/pandas/core/frame.py\u001b[0m in \u001b[0;36m__init__\u001b[0;34m(self, data, index, columns, dtype, copy)\u001b[0m\n\u001b[1;32m    527\u001b[0m \u001b[0;34m\u001b[0m\u001b[0m\n\u001b[1;32m    528\u001b[0m         \u001b[0;32melif\u001b[0m \u001b[0misinstance\u001b[0m\u001b[0;34m(\u001b[0m\u001b[0mdata\u001b[0m\u001b[0;34m,\u001b[0m \u001b[0mdict\u001b[0m\u001b[0;34m)\u001b[0m\u001b[0;34m:\u001b[0m\u001b[0;34m\u001b[0m\u001b[0;34m\u001b[0m\u001b[0m\n\u001b[0;32m--> 529\u001b[0;31m             \u001b[0mmgr\u001b[0m \u001b[0;34m=\u001b[0m \u001b[0minit_dict\u001b[0m\u001b[0;34m(\u001b[0m\u001b[0mdata\u001b[0m\u001b[0;34m,\u001b[0m \u001b[0mindex\u001b[0m\u001b[0;34m,\u001b[0m \u001b[0mcolumns\u001b[0m\u001b[0;34m,\u001b[0m \u001b[0mdtype\u001b[0m\u001b[0;34m=\u001b[0m\u001b[0mdtype\u001b[0m\u001b[0;34m)\u001b[0m\u001b[0;34m\u001b[0m\u001b[0;34m\u001b[0m\u001b[0m\n\u001b[0m\u001b[1;32m    530\u001b[0m         \u001b[0;32melif\u001b[0m \u001b[0misinstance\u001b[0m\u001b[0;34m(\u001b[0m\u001b[0mdata\u001b[0m\u001b[0;34m,\u001b[0m \u001b[0mma\u001b[0m\u001b[0;34m.\u001b[0m\u001b[0mMaskedArray\u001b[0m\u001b[0;34m)\u001b[0m\u001b[0;34m:\u001b[0m\u001b[0;34m\u001b[0m\u001b[0;34m\u001b[0m\u001b[0m\n\u001b[1;32m    531\u001b[0m             \u001b[0;32mimport\u001b[0m \u001b[0mnumpy\u001b[0m\u001b[0;34m.\u001b[0m\u001b[0mma\u001b[0m\u001b[0;34m.\u001b[0m\u001b[0mmrecords\u001b[0m \u001b[0;32mas\u001b[0m \u001b[0mmrecords\u001b[0m\u001b[0;34m\u001b[0m\u001b[0;34m\u001b[0m\u001b[0m\n",
      "\u001b[0;32m~/anaconda3/lib/python3.7/site-packages/pandas/core/internals/construction.py\u001b[0m in \u001b[0;36minit_dict\u001b[0;34m(data, index, columns, dtype)\u001b[0m\n\u001b[1;32m    285\u001b[0m             \u001b[0marr\u001b[0m \u001b[0;32mif\u001b[0m \u001b[0;32mnot\u001b[0m \u001b[0mis_datetime64tz_dtype\u001b[0m\u001b[0;34m(\u001b[0m\u001b[0marr\u001b[0m\u001b[0;34m)\u001b[0m \u001b[0;32melse\u001b[0m \u001b[0marr\u001b[0m\u001b[0;34m.\u001b[0m\u001b[0mcopy\u001b[0m\u001b[0;34m(\u001b[0m\u001b[0;34m)\u001b[0m \u001b[0;32mfor\u001b[0m \u001b[0marr\u001b[0m \u001b[0;32min\u001b[0m \u001b[0marrays\u001b[0m\u001b[0;34m\u001b[0m\u001b[0;34m\u001b[0m\u001b[0m\n\u001b[1;32m    286\u001b[0m         ]\n\u001b[0;32m--> 287\u001b[0;31m     \u001b[0;32mreturn\u001b[0m \u001b[0marrays_to_mgr\u001b[0m\u001b[0;34m(\u001b[0m\u001b[0marrays\u001b[0m\u001b[0;34m,\u001b[0m \u001b[0mdata_names\u001b[0m\u001b[0;34m,\u001b[0m \u001b[0mindex\u001b[0m\u001b[0;34m,\u001b[0m \u001b[0mcolumns\u001b[0m\u001b[0;34m,\u001b[0m \u001b[0mdtype\u001b[0m\u001b[0;34m=\u001b[0m\u001b[0mdtype\u001b[0m\u001b[0;34m)\u001b[0m\u001b[0;34m\u001b[0m\u001b[0;34m\u001b[0m\u001b[0m\n\u001b[0m\u001b[1;32m    288\u001b[0m \u001b[0;34m\u001b[0m\u001b[0m\n\u001b[1;32m    289\u001b[0m \u001b[0;34m\u001b[0m\u001b[0m\n",
      "\u001b[0;32m~/anaconda3/lib/python3.7/site-packages/pandas/core/internals/construction.py\u001b[0m in \u001b[0;36marrays_to_mgr\u001b[0;34m(arrays, arr_names, index, columns, dtype, verify_integrity)\u001b[0m\n\u001b[1;32m     78\u001b[0m         \u001b[0;31m# figure out the index, if necessary\u001b[0m\u001b[0;34m\u001b[0m\u001b[0;34m\u001b[0m\u001b[0;34m\u001b[0m\u001b[0m\n\u001b[1;32m     79\u001b[0m         \u001b[0;32mif\u001b[0m \u001b[0mindex\u001b[0m \u001b[0;32mis\u001b[0m \u001b[0;32mNone\u001b[0m\u001b[0;34m:\u001b[0m\u001b[0;34m\u001b[0m\u001b[0;34m\u001b[0m\u001b[0m\n\u001b[0;32m---> 80\u001b[0;31m             \u001b[0mindex\u001b[0m \u001b[0;34m=\u001b[0m \u001b[0mextract_index\u001b[0m\u001b[0;34m(\u001b[0m\u001b[0marrays\u001b[0m\u001b[0;34m)\u001b[0m\u001b[0;34m\u001b[0m\u001b[0;34m\u001b[0m\u001b[0m\n\u001b[0m\u001b[1;32m     81\u001b[0m         \u001b[0;32melse\u001b[0m\u001b[0;34m:\u001b[0m\u001b[0;34m\u001b[0m\u001b[0;34m\u001b[0m\u001b[0m\n\u001b[1;32m     82\u001b[0m             \u001b[0mindex\u001b[0m \u001b[0;34m=\u001b[0m \u001b[0mensure_index\u001b[0m\u001b[0;34m(\u001b[0m\u001b[0mindex\u001b[0m\u001b[0;34m)\u001b[0m\u001b[0;34m\u001b[0m\u001b[0;34m\u001b[0m\u001b[0m\n",
      "\u001b[0;32m~/anaconda3/lib/python3.7/site-packages/pandas/core/internals/construction.py\u001b[0m in \u001b[0;36mextract_index\u001b[0;34m(data)\u001b[0m\n\u001b[1;32m    389\u001b[0m \u001b[0;34m\u001b[0m\u001b[0m\n\u001b[1;32m    390\u001b[0m         \u001b[0;32mif\u001b[0m \u001b[0;32mnot\u001b[0m \u001b[0mindexes\u001b[0m \u001b[0;32mand\u001b[0m \u001b[0;32mnot\u001b[0m \u001b[0mraw_lengths\u001b[0m\u001b[0;34m:\u001b[0m\u001b[0;34m\u001b[0m\u001b[0;34m\u001b[0m\u001b[0m\n\u001b[0;32m--> 391\u001b[0;31m             \u001b[0;32mraise\u001b[0m \u001b[0mValueError\u001b[0m\u001b[0;34m(\u001b[0m\u001b[0;34m\"If using all scalar values, you must pass an index\"\u001b[0m\u001b[0;34m)\u001b[0m\u001b[0;34m\u001b[0m\u001b[0;34m\u001b[0m\u001b[0m\n\u001b[0m\u001b[1;32m    392\u001b[0m \u001b[0;34m\u001b[0m\u001b[0m\n\u001b[1;32m    393\u001b[0m         \u001b[0;32mif\u001b[0m \u001b[0mhave_series\u001b[0m\u001b[0;34m:\u001b[0m\u001b[0;34m\u001b[0m\u001b[0;34m\u001b[0m\u001b[0m\n",
      "\u001b[0;31mValueError\u001b[0m: If using all scalar values, you must pass an index"
     ]
    }
   ],
   "source": [
    "px.line(x=data[:,0], y=data[:,1])"
   ]
  },
  {
   "cell_type": "code",
   "execution_count": 22,
   "id": "55098546",
   "metadata": {},
   "outputs": [
    {
     "data": {
      "application/vnd.plotly.v1+json": {
       "config": {
        "plotlyServerURL": "https://plot.ly"
       },
       "data": [
        {
         "mode": "markers",
         "type": "scatter",
         "x": [
          565,
          25,
          345,
          945,
          845,
          880,
          25,
          525,
          580,
          650,
          1605,
          1220,
          1465,
          1530,
          845,
          725,
          145,
          415,
          510,
          560,
          300,
          520,
          480,
          835,
          975,
          1215,
          1320,
          1250,
          660,
          410,
          420,
          575,
          1150,
          700,
          685,
          685,
          770,
          795,
          720,
          760,
          475,
          95,
          875,
          700,
          555,
          830,
          1170,
          830,
          605,
          595,
          1340,
          1740
         ],
         "y": [
          575,
          185,
          750,
          685,
          655,
          660,
          230,
          1000,
          1175,
          1130,
          620,
          580,
          200,
          5,
          680,
          370,
          665,
          635,
          875,
          365,
          465,
          585,
          415,
          625,
          580,
          245,
          315,
          400,
          180,
          250,
          555,
          665,
          1160,
          580,
          595,
          610,
          610,
          645,
          635,
          650,
          960,
          260,
          920,
          500,
          815,
          485,
          65,
          610,
          625,
          360,
          725,
          245
         ]
        },
        {
         "mode": "lines",
         "type": "scatter",
         "x": [
          565,
          25,
          345,
          945,
          845,
          880,
          25,
          525,
          580,
          650,
          1605,
          1220,
          1465,
          1530,
          845,
          725,
          145,
          415,
          510,
          560,
          300,
          520,
          480,
          835,
          975,
          1215,
          1320,
          1250,
          660,
          410,
          420,
          575,
          1150,
          700,
          685,
          685,
          770,
          795,
          720,
          760,
          475,
          95,
          875,
          700,
          555,
          830,
          1170,
          830,
          605,
          595,
          1340,
          1740
         ],
         "y": [
          575,
          185,
          750,
          685,
          655,
          660,
          230,
          1000,
          1175,
          1130,
          620,
          580,
          200,
          5,
          680,
          370,
          665,
          635,
          875,
          365,
          465,
          585,
          415,
          625,
          580,
          245,
          315,
          400,
          180,
          250,
          555,
          665,
          1160,
          580,
          595,
          610,
          610,
          645,
          635,
          650,
          960,
          260,
          920,
          500,
          815,
          485,
          65,
          610,
          625,
          360,
          725,
          245
         ]
        }
       ],
       "layout": {
        "autosize": true,
        "template": {
         "data": {
          "bar": [
           {
            "error_x": {
             "color": "#2a3f5f"
            },
            "error_y": {
             "color": "#2a3f5f"
            },
            "marker": {
             "line": {
              "color": "#E5ECF6",
              "width": 0.5
             }
            },
            "type": "bar"
           }
          ],
          "barpolar": [
           {
            "marker": {
             "line": {
              "color": "#E5ECF6",
              "width": 0.5
             }
            },
            "type": "barpolar"
           }
          ],
          "carpet": [
           {
            "aaxis": {
             "endlinecolor": "#2a3f5f",
             "gridcolor": "white",
             "linecolor": "white",
             "minorgridcolor": "white",
             "startlinecolor": "#2a3f5f"
            },
            "baxis": {
             "endlinecolor": "#2a3f5f",
             "gridcolor": "white",
             "linecolor": "white",
             "minorgridcolor": "white",
             "startlinecolor": "#2a3f5f"
            },
            "type": "carpet"
           }
          ],
          "choropleth": [
           {
            "colorbar": {
             "outlinewidth": 0,
             "ticks": ""
            },
            "type": "choropleth"
           }
          ],
          "contour": [
           {
            "colorbar": {
             "outlinewidth": 0,
             "ticks": ""
            },
            "colorscale": [
             [
              0,
              "#0d0887"
             ],
             [
              0.1111111111111111,
              "#46039f"
             ],
             [
              0.2222222222222222,
              "#7201a8"
             ],
             [
              0.3333333333333333,
              "#9c179e"
             ],
             [
              0.4444444444444444,
              "#bd3786"
             ],
             [
              0.5555555555555556,
              "#d8576b"
             ],
             [
              0.6666666666666666,
              "#ed7953"
             ],
             [
              0.7777777777777778,
              "#fb9f3a"
             ],
             [
              0.8888888888888888,
              "#fdca26"
             ],
             [
              1,
              "#f0f921"
             ]
            ],
            "type": "contour"
           }
          ],
          "contourcarpet": [
           {
            "colorbar": {
             "outlinewidth": 0,
             "ticks": ""
            },
            "type": "contourcarpet"
           }
          ],
          "heatmap": [
           {
            "colorbar": {
             "outlinewidth": 0,
             "ticks": ""
            },
            "colorscale": [
             [
              0,
              "#0d0887"
             ],
             [
              0.1111111111111111,
              "#46039f"
             ],
             [
              0.2222222222222222,
              "#7201a8"
             ],
             [
              0.3333333333333333,
              "#9c179e"
             ],
             [
              0.4444444444444444,
              "#bd3786"
             ],
             [
              0.5555555555555556,
              "#d8576b"
             ],
             [
              0.6666666666666666,
              "#ed7953"
             ],
             [
              0.7777777777777778,
              "#fb9f3a"
             ],
             [
              0.8888888888888888,
              "#fdca26"
             ],
             [
              1,
              "#f0f921"
             ]
            ],
            "type": "heatmap"
           }
          ],
          "heatmapgl": [
           {
            "colorbar": {
             "outlinewidth": 0,
             "ticks": ""
            },
            "colorscale": [
             [
              0,
              "#0d0887"
             ],
             [
              0.1111111111111111,
              "#46039f"
             ],
             [
              0.2222222222222222,
              "#7201a8"
             ],
             [
              0.3333333333333333,
              "#9c179e"
             ],
             [
              0.4444444444444444,
              "#bd3786"
             ],
             [
              0.5555555555555556,
              "#d8576b"
             ],
             [
              0.6666666666666666,
              "#ed7953"
             ],
             [
              0.7777777777777778,
              "#fb9f3a"
             ],
             [
              0.8888888888888888,
              "#fdca26"
             ],
             [
              1,
              "#f0f921"
             ]
            ],
            "type": "heatmapgl"
           }
          ],
          "histogram": [
           {
            "marker": {
             "colorbar": {
              "outlinewidth": 0,
              "ticks": ""
             }
            },
            "type": "histogram"
           }
          ],
          "histogram2d": [
           {
            "colorbar": {
             "outlinewidth": 0,
             "ticks": ""
            },
            "colorscale": [
             [
              0,
              "#0d0887"
             ],
             [
              0.1111111111111111,
              "#46039f"
             ],
             [
              0.2222222222222222,
              "#7201a8"
             ],
             [
              0.3333333333333333,
              "#9c179e"
             ],
             [
              0.4444444444444444,
              "#bd3786"
             ],
             [
              0.5555555555555556,
              "#d8576b"
             ],
             [
              0.6666666666666666,
              "#ed7953"
             ],
             [
              0.7777777777777778,
              "#fb9f3a"
             ],
             [
              0.8888888888888888,
              "#fdca26"
             ],
             [
              1,
              "#f0f921"
             ]
            ],
            "type": "histogram2d"
           }
          ],
          "histogram2dcontour": [
           {
            "colorbar": {
             "outlinewidth": 0,
             "ticks": ""
            },
            "colorscale": [
             [
              0,
              "#0d0887"
             ],
             [
              0.1111111111111111,
              "#46039f"
             ],
             [
              0.2222222222222222,
              "#7201a8"
             ],
             [
              0.3333333333333333,
              "#9c179e"
             ],
             [
              0.4444444444444444,
              "#bd3786"
             ],
             [
              0.5555555555555556,
              "#d8576b"
             ],
             [
              0.6666666666666666,
              "#ed7953"
             ],
             [
              0.7777777777777778,
              "#fb9f3a"
             ],
             [
              0.8888888888888888,
              "#fdca26"
             ],
             [
              1,
              "#f0f921"
             ]
            ],
            "type": "histogram2dcontour"
           }
          ],
          "mesh3d": [
           {
            "colorbar": {
             "outlinewidth": 0,
             "ticks": ""
            },
            "type": "mesh3d"
           }
          ],
          "parcoords": [
           {
            "line": {
             "colorbar": {
              "outlinewidth": 0,
              "ticks": ""
             }
            },
            "type": "parcoords"
           }
          ],
          "pie": [
           {
            "automargin": true,
            "type": "pie"
           }
          ],
          "scatter": [
           {
            "marker": {
             "colorbar": {
              "outlinewidth": 0,
              "ticks": ""
             }
            },
            "type": "scatter"
           }
          ],
          "scatter3d": [
           {
            "line": {
             "colorbar": {
              "outlinewidth": 0,
              "ticks": ""
             }
            },
            "marker": {
             "colorbar": {
              "outlinewidth": 0,
              "ticks": ""
             }
            },
            "type": "scatter3d"
           }
          ],
          "scattercarpet": [
           {
            "marker": {
             "colorbar": {
              "outlinewidth": 0,
              "ticks": ""
             }
            },
            "type": "scattercarpet"
           }
          ],
          "scattergeo": [
           {
            "marker": {
             "colorbar": {
              "outlinewidth": 0,
              "ticks": ""
             }
            },
            "type": "scattergeo"
           }
          ],
          "scattergl": [
           {
            "marker": {
             "colorbar": {
              "outlinewidth": 0,
              "ticks": ""
             }
            },
            "type": "scattergl"
           }
          ],
          "scattermapbox": [
           {
            "marker": {
             "colorbar": {
              "outlinewidth": 0,
              "ticks": ""
             }
            },
            "type": "scattermapbox"
           }
          ],
          "scatterpolar": [
           {
            "marker": {
             "colorbar": {
              "outlinewidth": 0,
              "ticks": ""
             }
            },
            "type": "scatterpolar"
           }
          ],
          "scatterpolargl": [
           {
            "marker": {
             "colorbar": {
              "outlinewidth": 0,
              "ticks": ""
             }
            },
            "type": "scatterpolargl"
           }
          ],
          "scatterternary": [
           {
            "marker": {
             "colorbar": {
              "outlinewidth": 0,
              "ticks": ""
             }
            },
            "type": "scatterternary"
           }
          ],
          "surface": [
           {
            "colorbar": {
             "outlinewidth": 0,
             "ticks": ""
            },
            "colorscale": [
             [
              0,
              "#0d0887"
             ],
             [
              0.1111111111111111,
              "#46039f"
             ],
             [
              0.2222222222222222,
              "#7201a8"
             ],
             [
              0.3333333333333333,
              "#9c179e"
             ],
             [
              0.4444444444444444,
              "#bd3786"
             ],
             [
              0.5555555555555556,
              "#d8576b"
             ],
             [
              0.6666666666666666,
              "#ed7953"
             ],
             [
              0.7777777777777778,
              "#fb9f3a"
             ],
             [
              0.8888888888888888,
              "#fdca26"
             ],
             [
              1,
              "#f0f921"
             ]
            ],
            "type": "surface"
           }
          ],
          "table": [
           {
            "cells": {
             "fill": {
              "color": "#EBF0F8"
             },
             "line": {
              "color": "white"
             }
            },
            "header": {
             "fill": {
              "color": "#C8D4E3"
             },
             "line": {
              "color": "white"
             }
            },
            "type": "table"
           }
          ]
         },
         "layout": {
          "annotationdefaults": {
           "arrowcolor": "#2a3f5f",
           "arrowhead": 0,
           "arrowwidth": 1
          },
          "autotypenumbers": "strict",
          "coloraxis": {
           "colorbar": {
            "outlinewidth": 0,
            "ticks": ""
           }
          },
          "colorscale": {
           "diverging": [
            [
             0,
             "#8e0152"
            ],
            [
             0.1,
             "#c51b7d"
            ],
            [
             0.2,
             "#de77ae"
            ],
            [
             0.3,
             "#f1b6da"
            ],
            [
             0.4,
             "#fde0ef"
            ],
            [
             0.5,
             "#f7f7f7"
            ],
            [
             0.6,
             "#e6f5d0"
            ],
            [
             0.7,
             "#b8e186"
            ],
            [
             0.8,
             "#7fbc41"
            ],
            [
             0.9,
             "#4d9221"
            ],
            [
             1,
             "#276419"
            ]
           ],
           "sequential": [
            [
             0,
             "#0d0887"
            ],
            [
             0.1111111111111111,
             "#46039f"
            ],
            [
             0.2222222222222222,
             "#7201a8"
            ],
            [
             0.3333333333333333,
             "#9c179e"
            ],
            [
             0.4444444444444444,
             "#bd3786"
            ],
            [
             0.5555555555555556,
             "#d8576b"
            ],
            [
             0.6666666666666666,
             "#ed7953"
            ],
            [
             0.7777777777777778,
             "#fb9f3a"
            ],
            [
             0.8888888888888888,
             "#fdca26"
            ],
            [
             1,
             "#f0f921"
            ]
           ],
           "sequentialminus": [
            [
             0,
             "#0d0887"
            ],
            [
             0.1111111111111111,
             "#46039f"
            ],
            [
             0.2222222222222222,
             "#7201a8"
            ],
            [
             0.3333333333333333,
             "#9c179e"
            ],
            [
             0.4444444444444444,
             "#bd3786"
            ],
            [
             0.5555555555555556,
             "#d8576b"
            ],
            [
             0.6666666666666666,
             "#ed7953"
            ],
            [
             0.7777777777777778,
             "#fb9f3a"
            ],
            [
             0.8888888888888888,
             "#fdca26"
            ],
            [
             1,
             "#f0f921"
            ]
           ]
          },
          "colorway": [
           "#636efa",
           "#EF553B",
           "#00cc96",
           "#ab63fa",
           "#FFA15A",
           "#19d3f3",
           "#FF6692",
           "#B6E880",
           "#FF97FF",
           "#FECB52"
          ],
          "font": {
           "color": "#2a3f5f"
          },
          "geo": {
           "bgcolor": "white",
           "lakecolor": "white",
           "landcolor": "#E5ECF6",
           "showlakes": true,
           "showland": true,
           "subunitcolor": "white"
          },
          "hoverlabel": {
           "align": "left"
          },
          "hovermode": "closest",
          "mapbox": {
           "style": "light"
          },
          "paper_bgcolor": "white",
          "plot_bgcolor": "#E5ECF6",
          "polar": {
           "angularaxis": {
            "gridcolor": "white",
            "linecolor": "white",
            "ticks": ""
           },
           "bgcolor": "#E5ECF6",
           "radialaxis": {
            "gridcolor": "white",
            "linecolor": "white",
            "ticks": ""
           }
          },
          "scene": {
           "xaxis": {
            "backgroundcolor": "#E5ECF6",
            "gridcolor": "white",
            "gridwidth": 2,
            "linecolor": "white",
            "showbackground": true,
            "ticks": "",
            "zerolinecolor": "white"
           },
           "yaxis": {
            "backgroundcolor": "#E5ECF6",
            "gridcolor": "white",
            "gridwidth": 2,
            "linecolor": "white",
            "showbackground": true,
            "ticks": "",
            "zerolinecolor": "white"
           },
           "zaxis": {
            "backgroundcolor": "#E5ECF6",
            "gridcolor": "white",
            "gridwidth": 2,
            "linecolor": "white",
            "showbackground": true,
            "ticks": "",
            "zerolinecolor": "white"
           }
          },
          "shapedefaults": {
           "line": {
            "color": "#2a3f5f"
           }
          },
          "ternary": {
           "aaxis": {
            "gridcolor": "white",
            "linecolor": "white",
            "ticks": ""
           },
           "baxis": {
            "gridcolor": "white",
            "linecolor": "white",
            "ticks": ""
           },
           "bgcolor": "#E5ECF6",
           "caxis": {
            "gridcolor": "white",
            "linecolor": "white",
            "ticks": ""
           }
          },
          "title": {
           "x": 0.05
          },
          "xaxis": {
           "automargin": true,
           "gridcolor": "white",
           "linecolor": "white",
           "ticks": "",
           "title": {
            "standoff": 15
           },
           "zerolinecolor": "white",
           "zerolinewidth": 2
          },
          "yaxis": {
           "automargin": true,
           "gridcolor": "white",
           "linecolor": "white",
           "ticks": "",
           "title": {
            "standoff": 15
           },
           "zerolinecolor": "white",
           "zerolinewidth": 2
          }
         }
        },
        "xaxis": {
         "autorange": true,
         "range": [
          -80.67474174305254,
          1845.6747417430524
         ],
         "type": "linear"
        },
        "yaxis": {
         "autorange": true,
         "range": [
          -80.70063694267516,
          1260.7006369426751
         ],
         "type": "linear"
        }
       }
      },
      "image/png": "[encoded data removed]",
      "text/html": [
       "<div>                            <div id=\"81f04773-75d9-43c9-bc2c-0901d15944dd\" class=\"plotly-graph-div\" style=\"height:525px; width:800px;\"></div>            <script type=\"text/javascript\">                require([\"plotly\"], function(Plotly) {                    window.PLOTLYENV=window.PLOTLYENV || {};                                    if (document.getElementById(\"81f04773-75d9-43c9-bc2c-0901d15944dd\")) {                    Plotly.newPlot(                        \"81f04773-75d9-43c9-bc2c-0901d15944dd\",                        [{\"mode\": \"markers\", \"type\": \"scatter\", \"x\": [565.0, 25.0, 345.0, 945.0, 845.0, 880.0, 25.0, 525.0, 580.0, 650.0, 1605.0, 1220.0, 1465.0, 1530.0, 845.0, 725.0, 145.0, 415.0, 510.0, 560.0, 300.0, 520.0, 480.0, 835.0, 975.0, 1215.0, 1320.0, 1250.0, 660.0, 410.0, 420.0, 575.0, 1150.0, 700.0, 685.0, 685.0, 770.0, 795.0, 720.0, 760.0, 475.0, 95.0, 875.0, 700.0, 555.0, 830.0, 1170.0, 830.0, 605.0, 595.0, 1340.0, 1740.0], \"y\": [575.0, 185.0, 750.0, 685.0, 655.0, 660.0, 230.0, 1000.0, 1175.0, 1130.0, 620.0, 580.0, 200.0, 5.0, 680.0, 370.0, 665.0, 635.0, 875.0, 365.0, 465.0, 585.0, 415.0, 625.0, 580.0, 245.0, 315.0, 400.0, 180.0, 250.0, 555.0, 665.0, 1160.0, 580.0, 595.0, 610.0, 610.0, 645.0, 635.0, 650.0, 960.0, 260.0, 920.0, 500.0, 815.0, 485.0, 65.0, 610.0, 625.0, 360.0, 725.0, 245.0]}, {\"mode\": \"lines\", \"type\": \"scatter\", \"x\": [565.0, 25.0, 345.0, 945.0, 845.0, 880.0, 25.0, 525.0, 580.0, 650.0, 1605.0, 1220.0, 1465.0, 1530.0, 845.0, 725.0, 145.0, 415.0, 510.0, 560.0, 300.0, 520.0, 480.0, 835.0, 975.0, 1215.0, 1320.0, 1250.0, 660.0, 410.0, 420.0, 575.0, 1150.0, 700.0, 685.0, 685.0, 770.0, 795.0, 720.0, 760.0, 475.0, 95.0, 875.0, 700.0, 555.0, 830.0, 1170.0, 830.0, 605.0, 595.0, 1340.0, 1740.0], \"y\": [575.0, 185.0, 750.0, 685.0, 655.0, 660.0, 230.0, 1000.0, 1175.0, 1130.0, 620.0, 580.0, 200.0, 5.0, 680.0, 370.0, 665.0, 635.0, 875.0, 365.0, 465.0, 585.0, 415.0, 625.0, 580.0, 245.0, 315.0, 400.0, 180.0, 250.0, 555.0, 665.0, 1160.0, 580.0, 595.0, 610.0, 610.0, 645.0, 635.0, 650.0, 960.0, 260.0, 920.0, 500.0, 815.0, 485.0, 65.0, 610.0, 625.0, 360.0, 725.0, 245.0]}],                        {\"template\": {\"data\": {\"bar\": [{\"error_x\": {\"color\": \"#2a3f5f\"}, \"error_y\": {\"color\": \"#2a3f5f\"}, \"marker\": {\"line\": {\"color\": \"#E5ECF6\", \"width\": 0.5}}, \"type\": \"bar\"}], \"barpolar\": [{\"marker\": {\"line\": {\"color\": \"#E5ECF6\", \"width\": 0.5}}, \"type\": \"barpolar\"}], \"carpet\": [{\"aaxis\": {\"endlinecolor\": \"#2a3f5f\", \"gridcolor\": \"white\", \"linecolor\": \"white\", \"minorgridcolor\": \"white\", \"startlinecolor\": \"#2a3f5f\"}, \"baxis\": {\"endlinecolor\": \"#2a3f5f\", \"gridcolor\": \"white\", \"linecolor\": \"white\", \"minorgridcolor\": \"white\", \"startlinecolor\": \"#2a3f5f\"}, \"type\": \"carpet\"}], \"choropleth\": [{\"colorbar\": {\"outlinewidth\": 0, \"ticks\": \"\"}, \"type\": \"choropleth\"}], \"contour\": [{\"colorbar\": {\"outlinewidth\": 0, \"ticks\": \"\"}, \"colorscale\": [[0.0, \"#0d0887\"], [0.1111111111111111, \"#46039f\"], [0.2222222222222222, \"#7201a8\"], [0.3333333333333333, \"#9c179e\"], [0.4444444444444444, \"#bd3786\"], [0.5555555555555556, \"#d8576b\"], [0.6666666666666666, \"#ed7953\"], [0.7777777777777778, \"#fb9f3a\"], [0.8888888888888888, \"#fdca26\"], [1.0, \"#f0f921\"]], \"type\": \"contour\"}], \"contourcarpet\": [{\"colorbar\": {\"outlinewidth\": 0, \"ticks\": \"\"}, \"type\": \"contourcarpet\"}], \"heatmap\": [{\"colorbar\": {\"outlinewidth\": 0, \"ticks\": \"\"}, \"colorscale\": [[0.0, \"#0d0887\"], [0.1111111111111111, \"#46039f\"], [0.2222222222222222, \"#7201a8\"], [0.3333333333333333, \"#9c179e\"], [0.4444444444444444, \"#bd3786\"], [0.5555555555555556, \"#d8576b\"], [0.6666666666666666, \"#ed7953\"], [0.7777777777777778, \"#fb9f3a\"], [0.8888888888888888, \"#fdca26\"], [1.0, \"#f0f921\"]], \"type\": \"heatmap\"}], \"heatmapgl\": [{\"colorbar\": {\"outlinewidth\": 0, \"ticks\": \"\"}, \"colorscale\": [[0.0, \"#0d0887\"], [0.1111111111111111, \"#46039f\"], [0.2222222222222222, \"#7201a8\"], [0.3333333333333333, \"#9c179e\"], [0.4444444444444444, \"#bd3786\"], [0.5555555555555556, \"#d8576b\"], [0.6666666666666666, \"#ed7953\"], [0.7777777777777778, \"#fb9f3a\"], [0.8888888888888888, \"#fdca26\"], [1.0, \"#f0f921\"]], \"type\": \"heatmapgl\"}], \"histogram\": [{\"marker\": {\"colorbar\": {\"outlinewidth\": 0, \"ticks\": \"\"}}, \"type\": \"histogram\"}], \"histogram2d\": [{\"colorbar\": {\"outlinewidth\": 0, \"ticks\": \"\"}, \"colorscale\": [[0.0, \"#0d0887\"], [0.1111111111111111, \"#46039f\"], [0.2222222222222222, \"#7201a8\"], [0.3333333333333333, \"#9c179e\"], [0.4444444444444444, \"#bd3786\"], [0.5555555555555556, \"#d8576b\"], [0.6666666666666666, \"#ed7953\"], [0.7777777777777778, \"#fb9f3a\"], [0.8888888888888888, \"#fdca26\"], [1.0, \"#f0f921\"]], \"type\": \"histogram2d\"}], \"histogram2dcontour\": [{\"colorbar\": {\"outlinewidth\": 0, \"ticks\": \"\"}, \"colorscale\": [[0.0, \"#0d0887\"], [0.1111111111111111, \"#46039f\"], [0.2222222222222222, \"#7201a8\"], [0.3333333333333333, \"#9c179e\"], [0.4444444444444444, \"#bd3786\"], [0.5555555555555556, \"#d8576b\"], [0.6666666666666666, \"#ed7953\"], [0.7777777777777778, \"#fb9f3a\"], [0.8888888888888888, \"#fdca26\"], [1.0, \"#f0f921\"]], \"type\": \"histogram2dcontour\"}], \"mesh3d\": [{\"colorbar\": {\"outlinewidth\": 0, \"ticks\": \"\"}, \"type\": \"mesh3d\"}], \"parcoords\": [{\"line\": {\"colorbar\": {\"outlinewidth\": 0, \"ticks\": \"\"}}, \"type\": \"parcoords\"}], \"pie\": [{\"automargin\": true, \"type\": \"pie\"}], \"scatter\": [{\"marker\": {\"colorbar\": {\"outlinewidth\": 0, \"ticks\": \"\"}}, \"type\": \"scatter\"}], \"scatter3d\": [{\"line\": {\"colorbar\": {\"outlinewidth\": 0, \"ticks\": \"\"}}, \"marker\": {\"colorbar\": {\"outlinewidth\": 0, \"ticks\": \"\"}}, \"type\": \"scatter3d\"}], \"scattercarpet\": [{\"marker\": {\"colorbar\": {\"outlinewidth\": 0, \"ticks\": \"\"}}, \"type\": \"scattercarpet\"}], \"scattergeo\": [{\"marker\": {\"colorbar\": {\"outlinewidth\": 0, \"ticks\": \"\"}}, \"type\": \"scattergeo\"}], \"scattergl\": [{\"marker\": {\"colorbar\": {\"outlinewidth\": 0, \"ticks\": \"\"}}, \"type\": \"scattergl\"}], \"scattermapbox\": [{\"marker\": {\"colorbar\": {\"outlinewidth\": 0, \"ticks\": \"\"}}, \"type\": \"scattermapbox\"}], \"scatterpolar\": [{\"marker\": {\"colorbar\": {\"outlinewidth\": 0, \"ticks\": \"\"}}, \"type\": \"scatterpolar\"}], \"scatterpolargl\": [{\"marker\": {\"colorbar\": {\"outlinewidth\": 0, \"ticks\": \"\"}}, \"type\": \"scatterpolargl\"}], \"scatterternary\": [{\"marker\": {\"colorbar\": {\"outlinewidth\": 0, \"ticks\": \"\"}}, \"type\": \"scatterternary\"}], \"surface\": [{\"colorbar\": {\"outlinewidth\": 0, \"ticks\": \"\"}, \"colorscale\": [[0.0, \"#0d0887\"], [0.1111111111111111, \"#46039f\"], [0.2222222222222222, \"#7201a8\"], [0.3333333333333333, \"#9c179e\"], [0.4444444444444444, \"#bd3786\"], [0.5555555555555556, \"#d8576b\"], [0.6666666666666666, \"#ed7953\"], [0.7777777777777778, \"#fb9f3a\"], [0.8888888888888888, \"#fdca26\"], [1.0, \"#f0f921\"]], \"type\": \"surface\"}], \"table\": [{\"cells\": {\"fill\": {\"color\": \"#EBF0F8\"}, \"line\": {\"color\": \"white\"}}, \"header\": {\"fill\": {\"color\": \"#C8D4E3\"}, \"line\": {\"color\": \"white\"}}, \"type\": \"table\"}]}, \"layout\": {\"annotationdefaults\": {\"arrowcolor\": \"#2a3f5f\", \"arrowhead\": 0, \"arrowwidth\": 1}, \"autotypenumbers\": \"strict\", \"coloraxis\": {\"colorbar\": {\"outlinewidth\": 0, \"ticks\": \"\"}}, \"colorscale\": {\"diverging\": [[0, \"#8e0152\"], [0.1, \"#c51b7d\"], [0.2, \"#de77ae\"], [0.3, \"#f1b6da\"], [0.4, \"#fde0ef\"], [0.5, \"#f7f7f7\"], [0.6, \"#e6f5d0\"], [0.7, \"#b8e186\"], [0.8, \"#7fbc41\"], [0.9, \"#4d9221\"], [1, \"#276419\"]], \"sequential\": [[0.0, \"#0d0887\"], [0.1111111111111111, \"#46039f\"], [0.2222222222222222, \"#7201a8\"], [0.3333333333333333, \"#9c179e\"], [0.4444444444444444, \"#bd3786\"], [0.5555555555555556, \"#d8576b\"], [0.6666666666666666, \"#ed7953\"], [0.7777777777777778, \"#fb9f3a\"], [0.8888888888888888, \"#fdca26\"], [1.0, \"#f0f921\"]], \"sequentialminus\": [[0.0, \"#0d0887\"], [0.1111111111111111, \"#46039f\"], [0.2222222222222222, \"#7201a8\"], [0.3333333333333333, \"#9c179e\"], [0.4444444444444444, \"#bd3786\"], [0.5555555555555556, \"#d8576b\"], [0.6666666666666666, \"#ed7953\"], [0.7777777777777778, \"#fb9f3a\"], [0.8888888888888888, \"#fdca26\"], [1.0, \"#f0f921\"]]}, \"colorway\": [\"#636efa\", \"#EF553B\", \"#00cc96\", \"#ab63fa\", \"#FFA15A\", \"#19d3f3\", \"#FF6692\", \"#B6E880\", \"#FF97FF\", \"#FECB52\"], \"font\": {\"color\": \"#2a3f5f\"}, \"geo\": {\"bgcolor\": \"white\", \"lakecolor\": \"white\", \"landcolor\": \"#E5ECF6\", \"showlakes\": true, \"showland\": true, \"subunitcolor\": \"white\"}, \"hoverlabel\": {\"align\": \"left\"}, \"hovermode\": \"closest\", \"mapbox\": {\"style\": \"light\"}, \"paper_bgcolor\": \"white\", \"plot_bgcolor\": \"#E5ECF6\", \"polar\": {\"angularaxis\": {\"gridcolor\": \"white\", \"linecolor\": \"white\", \"ticks\": \"\"}, \"bgcolor\": \"#E5ECF6\", \"radialaxis\": {\"gridcolor\": \"white\", \"linecolor\": \"white\", \"ticks\": \"\"}}, \"scene\": {\"xaxis\": {\"backgroundcolor\": \"#E5ECF6\", \"gridcolor\": \"white\", \"gridwidth\": 2, \"linecolor\": \"white\", \"showbackground\": true, \"ticks\": \"\", \"zerolinecolor\": \"white\"}, \"yaxis\": {\"backgroundcolor\": \"#E5ECF6\", \"gridcolor\": \"white\", \"gridwidth\": 2, \"linecolor\": \"white\", \"showbackground\": true, \"ticks\": \"\", \"zerolinecolor\": \"white\"}, \"zaxis\": {\"backgroundcolor\": \"#E5ECF6\", \"gridcolor\": \"white\", \"gridwidth\": 2, \"linecolor\": \"white\", \"showbackground\": true, \"ticks\": \"\", \"zerolinecolor\": \"white\"}}, \"shapedefaults\": {\"line\": {\"color\": \"#2a3f5f\"}}, \"ternary\": {\"aaxis\": {\"gridcolor\": \"white\", \"linecolor\": \"white\", \"ticks\": \"\"}, \"baxis\": {\"gridcolor\": \"white\", \"linecolor\": \"white\", \"ticks\": \"\"}, \"bgcolor\": \"#E5ECF6\", \"caxis\": {\"gridcolor\": \"white\", \"linecolor\": \"white\", \"ticks\": \"\"}}, \"title\": {\"x\": 0.05}, \"xaxis\": {\"automargin\": true, \"gridcolor\": \"white\", \"linecolor\": \"white\", \"ticks\": \"\", \"title\": {\"standoff\": 15}, \"zerolinecolor\": \"white\", \"zerolinewidth\": 2}, \"yaxis\": {\"automargin\": true, \"gridcolor\": \"white\", \"linecolor\": \"white\", \"ticks\": \"\", \"title\": {\"standoff\": 15}, \"zerolinecolor\": \"white\", \"zerolinewidth\": 2}}}, \"width\": 800},                        {\"responsive\": true}                    ).then(function(){\n",
       "                            \n",
       "var gd = document.getElementById('81f04773-75d9-43c9-bc2c-0901d15944dd');\n",
       "var x = new MutationObserver(function (mutations, observer) {{\n",
       "        var display = window.getComputedStyle(gd).display;\n",
       "        if (!display || display === 'none') {{\n",
       "            console.log([gd, 'removed!']);\n",
       "            Plotly.purge(gd);\n",
       "            observer.disconnect();\n",
       "        }}\n",
       "}});\n",
       "\n",
       "// Listen for the removal of the full notebook cells\n",
       "var notebookContainer = gd.closest('#notebook-container');\n",
       "if (notebookContainer) {{\n",
       "    x.observe(notebookContainer, {childList: true});\n",
       "}}\n",
       "\n",
       "// Listen for the clearing of the current output cell\n",
       "var outputEl = gd.closest('.output');\n",
       "if (outputEl) {{\n",
       "    x.observe(outputEl, {childList: true});\n",
       "}}\n",
       "\n",
       "                        })                };                });            </script>        </div>"
      ]
     },
     "metadata": {},
     "output_type": "display_data"
    }
   ],
   "source": [
    "fig = go.Figure(layout={'width':800})\n",
    "fig.add_trace(go.Scatter(x=data[:,0], y=data[:,1], mode='markers'))\n",
    "fig.add_trace(go.Scatter(x=data[:,0], y=data[:,1], mode='lines'))\n",
    "fig.show()"
   ]
  },
  {
   "cell_type": "code",
   "execution_count": 25,
   "id": "9226b54e",
   "metadata": {},
   "outputs": [],
   "source": [
    "class Formiga:\n",
    "    def __init__(self, cidades):\n",
    "        self.ja_visitada = np.random.randint(cidades.shape[0], size=1)\n",
    "        self.cidades = np.array(range(cidades.shape[0]))\n",
    "        self.a_visitar = np.array(range(cidades.shape[0]))\n",
    "        self.a_visitar = np.delete(self.a_visitar, self.ja_visitada[-1])\n",
    "        self.distancia_total = 0\n",
    "        \n",
    "    def seleciona_cidade(self):\n",
    "        return self.prox_viagem\n",
    "        \n",
    "    def set_prox_viagem(self, index):\n",
    "        self.prox_viagem = index\n",
    "        \n",
    "    def retorna(self, distancia):\n",
    "        index = self.ja_visitada[0]\n",
    "        rota = tuple(sorted((self.ja_visitada[-1], self.cidades[index])))\n",
    "        \n",
    "        self.distancia_total += distancia[rota]\n",
    "        self.ja_visitada = np.array(self.cidades[index])\n",
    "        self.a_visitar = np.delete(self.cidades, self.ja_visitada[-1])\n",
    "        \n",
    "    \n",
    "    def viaja(self, distancia):\n",
    "        index = self.seleciona_cidade()\n",
    "        rota = tuple(sorted((self.ja_visitada[-1], self.a_visitar[index])))\n",
    "        \n",
    "        self.distancia_total += distancia[rota]\n",
    "        self.ja_visitada = np.append(self.ja_visitada, self.a_visitar[index])\n",
    "        self.a_visitar = np.delete(self.a_visitar, index)"
   ]
  },
  {
   "cell_type": "code",
   "execution_count": 26,
   "id": "5411ff2a",
   "metadata": {},
   "outputs": [],
   "source": [
    "class Cidade:\n",
    "    def __init__(self, dados, alfa, beta, Q, p, t0, b):\n",
    "        self.cidades = dados\n",
    "        self.alfa = alfa\n",
    "        self.beta = beta\n",
    "        self.Q = Q\n",
    "        self.p = p\n",
    "        self.t0 = t0\n",
    "        self.b = b\n",
    "        \n",
    "        self.formigas = np.array([])\n",
    "        self.visibilidade = {}\n",
    "        self.feromonios = {}\n",
    "        self.distancia = {}\n",
    "        \n",
    "    def adc_formigas(self, num_formigas):\n",
    "        self.formigas = np.append(self.formigas, np.array([Formiga(self.cidades) for _ in range(num_formigas)]))\n",
    "\n",
    "    def calcula_probabilidades(self):\n",
    "        for formiga in self.formigas:\n",
    "            p = {}\n",
    "            cidade_atual = formiga.ja_visitada[-1]\n",
    "            \n",
    "            for cidade_a_visitar in formiga.a_visitar:\n",
    "                rota = tuple(sorted((cidade_atual, cidade_a_visitar)))\n",
    "                p[cidade_a_visitar] = (self.feromonios[rota]**self.alfa) * (self.visibilidade[rota])**self.beta\n",
    "\n",
    "            total_p = sum(p.values())\n",
    "            for cidade_a_visitar in p.keys():\n",
    "                p[cidade_a_visitar] = p[cidade_a_visitar]/total_p\n",
    "                \n",
    "            probs = np.cumsum(list(p.values()))\n",
    "            random = np.random.random()\n",
    "            formiga.set_prox_viagem(sum(random >= probs))\n",
    "            \n",
    "    def calcula_visibilidade(self):\n",
    "        for i in range(self.cidades.shape[0]):\n",
    "            for j in range(i+1, self.cidades.shape[0]):\n",
    "                self.feromonios[(i,j)] = self.t0\n",
    "                aux_dist = dist(self.cidades[i], self.cidades[j])\n",
    "                self.distancia[(i,j)] = aux_dist\n",
    "                self.visibilidade[(i,j)] = 1/(aux_dist)\n",
    "                \n",
    "    def total_feromonios(self):\n",
    "        return sum([self.Q/(formiga.total_distancia) for formiga in self.formigas])\n",
    "        \n",
    "    def atualiza_feromonios(self):\n",
    "        delta_feromonios = self.total_feromonios()\n",
    "        for i in range(self.cidades.shape[0]):\n",
    "            for j in range(i+1, self.cidades.shape[0]):\n",
    "                self.feromonios[(i,j)] = (1-self.p)*self.feromonios[(i,j)] + delta_feromonios\n",
    "        \n",
    "    def reseta_formgias(self):\n",
    "        for formiga in self.formigas:\n",
    "            formiga.reseta_caminhos()\n",
    "        \n",
    "    def run(self, num_iteracoes): \n",
    "        for iteracoes in range(num_iteracoes):\n",
    "            for _ in range(self.cidades.shape[0]-1):\n",
    "                self.calcula_probabilidades()\n",
    "                for formiga in self.formigas:\n",
    "                    formiga.viaja(self.distancia)\n",
    "            \n",
    "            for formiga in self.formigas:\n",
    "                formiga.retorna(self.distancia)\n",
    "                \n",
    "            self.atualiza_feromonios()"
   ]
  },
  {
   "cell_type": "code",
   "execution_count": 30,
   "id": "64e21b0c",
   "metadata": {},
   "outputs": [],
   "source": [
    "def dist(ponto1, ponto2):\n",
    "    return np.linalg.norm(ponto1-ponto2, ord=2)"
   ]
  },
  {
   "cell_type": "code",
   "execution_count": 27,
   "id": "696fc17c",
   "metadata": {},
   "outputs": [],
   "source": [
    "cidade = Cidade(dados=data, alfa=1, beta=5, Q=100, p=0.5, t0=10**-6, b=5)"
   ]
  },
  {
   "cell_type": "code",
   "execution_count": 28,
   "id": "8dc90556",
   "metadata": {},
   "outputs": [
    {
     "ename": "NameError",
     "evalue": "name 'dist' is not defined",
     "output_type": "error",
     "traceback": [
      "\u001b[0;31m---------------------------------------------------------------------------\u001b[0m",
      "\u001b[0;31mNameError\u001b[0m                                 Traceback (most recent call last)",
      "\u001b[0;32m<ipython-input-28-546068fc709d>\u001b[0m in \u001b[0;36m<module>\u001b[0;34m\u001b[0m\n\u001b[1;32m      1\u001b[0m \u001b[0mcidade\u001b[0m\u001b[0;34m.\u001b[0m\u001b[0madc_formigas\u001b[0m\u001b[0;34m(\u001b[0m\u001b[0;36m52\u001b[0m\u001b[0;34m)\u001b[0m\u001b[0;34m\u001b[0m\u001b[0;34m\u001b[0m\u001b[0m\n\u001b[0;32m----> 2\u001b[0;31m \u001b[0mcidade\u001b[0m\u001b[0;34m.\u001b[0m\u001b[0mcalcula_visibilidade\u001b[0m\u001b[0;34m(\u001b[0m\u001b[0;34m)\u001b[0m\u001b[0;34m\u001b[0m\u001b[0;34m\u001b[0m\u001b[0m\n\u001b[0m",
      "\u001b[0;32m<ipython-input-26-49c2b57eaa00>\u001b[0m in \u001b[0;36mcalcula_visibilidade\u001b[0;34m(self)\u001b[0m\n\u001b[1;32m     41\u001b[0m             \u001b[0;32mfor\u001b[0m \u001b[0mj\u001b[0m \u001b[0;32min\u001b[0m \u001b[0mrange\u001b[0m\u001b[0;34m(\u001b[0m\u001b[0mi\u001b[0m\u001b[0;34m+\u001b[0m\u001b[0;36m1\u001b[0m\u001b[0;34m,\u001b[0m \u001b[0mself\u001b[0m\u001b[0;34m.\u001b[0m\u001b[0mcidades\u001b[0m\u001b[0;34m.\u001b[0m\u001b[0mshape\u001b[0m\u001b[0;34m[\u001b[0m\u001b[0;36m0\u001b[0m\u001b[0;34m]\u001b[0m\u001b[0;34m)\u001b[0m\u001b[0;34m:\u001b[0m\u001b[0;34m\u001b[0m\u001b[0;34m\u001b[0m\u001b[0m\n\u001b[1;32m     42\u001b[0m                 \u001b[0mself\u001b[0m\u001b[0;34m.\u001b[0m\u001b[0mferomonios\u001b[0m\u001b[0;34m[\u001b[0m\u001b[0;34m(\u001b[0m\u001b[0mi\u001b[0m\u001b[0;34m,\u001b[0m\u001b[0mj\u001b[0m\u001b[0;34m)\u001b[0m\u001b[0;34m]\u001b[0m \u001b[0;34m=\u001b[0m \u001b[0mself\u001b[0m\u001b[0;34m.\u001b[0m\u001b[0mt0\u001b[0m\u001b[0;34m\u001b[0m\u001b[0;34m\u001b[0m\u001b[0m\n\u001b[0;32m---> 43\u001b[0;31m                 \u001b[0maux_dist\u001b[0m \u001b[0;34m=\u001b[0m \u001b[0mdist\u001b[0m\u001b[0;34m(\u001b[0m\u001b[0mself\u001b[0m\u001b[0;34m.\u001b[0m\u001b[0mcidades\u001b[0m\u001b[0;34m[\u001b[0m\u001b[0mi\u001b[0m\u001b[0;34m]\u001b[0m\u001b[0;34m,\u001b[0m \u001b[0mself\u001b[0m\u001b[0;34m.\u001b[0m\u001b[0mcidades\u001b[0m\u001b[0;34m[\u001b[0m\u001b[0mj\u001b[0m\u001b[0;34m]\u001b[0m\u001b[0;34m)\u001b[0m\u001b[0;34m\u001b[0m\u001b[0;34m\u001b[0m\u001b[0m\n\u001b[0m\u001b[1;32m     44\u001b[0m                 \u001b[0mself\u001b[0m\u001b[0;34m.\u001b[0m\u001b[0mdistancia\u001b[0m\u001b[0;34m[\u001b[0m\u001b[0;34m(\u001b[0m\u001b[0mi\u001b[0m\u001b[0;34m,\u001b[0m\u001b[0mj\u001b[0m\u001b[0;34m)\u001b[0m\u001b[0;34m]\u001b[0m \u001b[0;34m=\u001b[0m \u001b[0maux_dist\u001b[0m\u001b[0;34m\u001b[0m\u001b[0;34m\u001b[0m\u001b[0m\n\u001b[1;32m     45\u001b[0m                 \u001b[0mself\u001b[0m\u001b[0;34m.\u001b[0m\u001b[0mvisibilidade\u001b[0m\u001b[0;34m[\u001b[0m\u001b[0;34m(\u001b[0m\u001b[0mi\u001b[0m\u001b[0;34m,\u001b[0m\u001b[0mj\u001b[0m\u001b[0;34m)\u001b[0m\u001b[0;34m]\u001b[0m \u001b[0;34m=\u001b[0m \u001b[0;36m1\u001b[0m\u001b[0;34m/\u001b[0m\u001b[0;34m(\u001b[0m\u001b[0maux_dist\u001b[0m\u001b[0;34m)\u001b[0m\u001b[0;34m\u001b[0m\u001b[0;34m\u001b[0m\u001b[0m\n",
      "\u001b[0;31mNameError\u001b[0m: name 'dist' is not defined"
     ]
    }
   ],
   "source": [
    "cidade.adc_formigas(52)\n",
    "cidade.calcula_visibilidade()"
   ]
  },
  {
   "cell_type": "code",
   "execution_count": 31,
   "id": "84c1cb49",
   "metadata": {},
   "outputs": [],
   "source": [
    "visibilidade = {}\n",
    "feromonios = {}\n",
    "for i in range(data.shape[0]):\n",
    "    for j in range(i+1, data.shape[0]):\n",
    "        feromonios[(i,j)] = 1         \n",
    "        visibilidade[(i,j)] = 1/(dist(data[i], data[j]))"
   ]
  },
  {
   "cell_type": "code",
   "execution_count": null,
   "id": "39e2a203",
   "metadata": {},
   "outputs": [],
   "source": []
  }
 ],
 "metadata": {
  "kernelspec": {
   "display_name": "Python 3",
   "language": "python",
   "name": "python3"
  },
  "language_info": {
   "codemirror_mode": {
    "name": "ipython",
    "version": 3
   },
   "file_extension": ".py",
   "mimetype": "text/x-python",
   "name": "python",
   "nbconvert_exporter": "python",
   "pygments_lexer": "ipython3",
   "version": "3.7.10"
  }
 },
 "nbformat": 4,
 "nbformat_minor": 5
}
